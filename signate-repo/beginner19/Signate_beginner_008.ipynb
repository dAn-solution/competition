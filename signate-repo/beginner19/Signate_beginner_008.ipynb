{
  "nbformat": 4,
  "nbformat_minor": 0,
  "metadata": {
    "colab": {
      "name": "Signate_beginner_008.ipynb",
      "provenance": [],
      "collapsed_sections": [],
      "authorship_tag": "ABX9TyN7lwzULg1K584CDCVOJYtu",
      "include_colab_link": true
    },
    "kernelspec": {
      "name": "python3",
      "display_name": "Python 3"
    },
    "language_info": {
      "name": "python"
    }
  },
  "cells": [
    {
      "cell_type": "markdown",
      "metadata": {
        "id": "view-in-github",
        "colab_type": "text"
      },
      "source": [
        "<a href=\"https://colab.research.google.com/github/dAn-solution/competition/blob/main/Signate_beginner_008.ipynb\" target=\"_parent\"><img src=\"https://colab.research.google.com/assets/colab-badge.svg\" alt=\"Open In Colab\"/></a>"
      ]
    },
    {
      "cell_type": "markdown",
      "source": [
        "## 【第19回_Beginner限定コンペ】国勢調査からの収入予測\n",
        "- 教育年数や職業等の国勢調査データから年収が$50,000ドルを超えるかどうかを予測しよう。\n",
        "- GBDT（勾配ブースティング木） を実施"
      ],
      "metadata": {
        "id": "ZlifmiNOjLh5"
      }
    },
    {
      "cell_type": "markdown",
      "source": [
        "### Google Driveのマウント"
      ],
      "metadata": {
        "id": "eWGp_tz-pofW"
      }
    },
    {
      "cell_type": "code",
      "execution_count": 2,
      "metadata": {
        "colab": {
          "base_uri": "https://localhost:8080/"
        },
        "id": "C8d7KOVLytug",
        "outputId": "f5d4e765-2eac-41a1-9b25-e8f037f11286"
      },
      "outputs": [
        {
          "output_type": "stream",
          "name": "stdout",
          "text": [
            "Mounted at /content/drive\n",
            "/content/drive/My Drive\n"
          ]
        }
      ],
      "source": [
        "from google.colab import drive\n",
        "drive.mount('/content/drive')\n",
        "%cd /content/drive/'My Drive'"
      ]
    },
    {
      "cell_type": "markdown",
      "source": [
        "### ライブラリのインストール、インポート"
      ],
      "metadata": {
        "id": "o0AdcnrcYc9B"
      }
    },
    {
      "cell_type": "code",
      "source": [
        "# カレントディレクトリを変更\n",
        "import os\n",
        "os.chdir('/content/drive/My Drive/signate/Beginner-19/')\n",
        "print(os.getcwd())"
      ],
      "metadata": {
        "colab": {
          "base_uri": "https://localhost:8080/"
        },
        "outputId": "185e75a6-9b26-463a-d77d-3e8002d6c775",
        "id": "0qtA-ZUqkWXW"
      },
      "execution_count": 3,
      "outputs": [
        {
          "output_type": "stream",
          "name": "stdout",
          "text": [
            "/content/drive/My Drive/signate/Beginner-19\n"
          ]
        }
      ]
    },
    {
      "cell_type": "code",
      "source": [
        "class Config():\n",
        "    root_path = './'\n",
        "    input_path = os.path.join(root_path, 'input')\n",
        "    output_path = os.path.join(root_path, 'output')\n",
        "    intermediate_path = os.path.join(root_path, 'intermediate')\n",
        "    seed = 42\n",
        "    debug = False"
      ],
      "metadata": {
        "id": "2o3IsyPC8vQY"
      },
      "execution_count": 4,
      "outputs": []
    },
    {
      "cell_type": "code",
      "execution_count": 5,
      "metadata": {
        "id": "S-hr_gTyWTqP"
      },
      "outputs": [],
      "source": [
        "import pandas as pd\n",
        "import numpy as np\n",
        "import warnings\n",
        "import datetime\n",
        "\n",
        "import scipy.stats as stats\n",
        "\n",
        "import sklearn\n",
        "from sklearn.model_selection import StratifiedKFold\n",
        "from sklearn.model_selection import train_test_split\n",
        "from sklearn import preprocessing\n",
        "from sklearn.metrics import accuracy_score\n",
        "\n",
        "from sklearn.ensemble import GradientBoostingRegressor"
      ]
    },
    {
      "cell_type": "markdown",
      "source": [
        "### データの読み込み"
      ],
      "metadata": {
        "id": "FzO7JqIdZKj_"
      }
    },
    {
      "cell_type": "code",
      "source": [
        "train_df = pd.read_csv(f'{Config.input_path}/train.csv')\n",
        "test_df = pd.read_csv(f'{Config.input_path}/test.csv')\n",
        "sample_df = pd.read_csv(f'{Config.input_path}/sample_submit.csv', header=None)\n",
        "\n",
        "test_df = test_df.rename(columns={'id': 'index'})"
      ],
      "metadata": {
        "id": "C-ZnfifUj3ax"
      },
      "execution_count": 6,
      "outputs": []
    },
    {
      "cell_type": "markdown",
      "source": [
        "## GBDTの実行前準備"
      ],
      "metadata": {
        "id": "yRwdPyK_LfCK"
      }
    },
    {
      "cell_type": "code",
      "source": [
        "train_df.columns"
      ],
      "metadata": {
        "colab": {
          "base_uri": "https://localhost:8080/"
        },
        "id": "aPzv-KPtnsH1",
        "outputId": "20df64d1-dc0d-45fd-f126-41ec3ba75a89"
      },
      "execution_count": 7,
      "outputs": [
        {
          "output_type": "execute_result",
          "data": {
            "text/plain": [
              "Index(['index', 'age', 'workclass', 'fnlwgt', 'education', 'education-num',\n",
              "       'marital-status', 'occupation', 'relationship', 'race', 'sex',\n",
              "       'native-country', 'Y'],\n",
              "      dtype='object')"
            ]
          },
          "metadata": {},
          "execution_count": 7
        }
      ]
    },
    {
      "cell_type": "code",
      "source": [
        "test_df.columns"
      ],
      "metadata": {
        "colab": {
          "base_uri": "https://localhost:8080/"
        },
        "id": "MAPe7O3yrbQF",
        "outputId": "911af5a6-aea2-470c-bdce-59d1ca9d9dc7"
      },
      "execution_count": 8,
      "outputs": [
        {
          "output_type": "execute_result",
          "data": {
            "text/plain": [
              "Index(['index', 'age', 'workclass', 'fnlwgt', 'education', 'education-num',\n",
              "       'marital-status', 'occupation', 'relationship', 'race', 'sex',\n",
              "       'native-country'],\n",
              "      dtype='object')"
            ]
          },
          "metadata": {},
          "execution_count": 8
        }
      ]
    },
    {
      "cell_type": "code",
      "source": [
        "# columnsをターゲット変数とtargetとカテゴリカル変数に分割\n",
        "target_column = \"Y\"\n",
        "train_column = ['age', 'workclass', 'fnlwgt', 'education', 'education-num',\n",
        "       'marital-status', 'occupation', 'relationship', 'race', 'sex', 'native-country']\n",
        "category_column = ['workclass', 'education', 'marital-status', 'occupation', 'relationship', 'race', 'sex',\n",
        "       'native-country']\n",
        "\n",
        "y = train_df[target_column]\n",
        "X = train_df[category_column]\n",
        "test_X = test_df[category_column]\n",
        "train_index = train_df['index']\n",
        "test_index = test_df['index']\n",
        "\n",
        "traintest = pd.concat([X, test_X], ignore_index = True)"
      ],
      "metadata": {
        "id": "DsihriA9L-7-"
      },
      "execution_count": 9,
      "outputs": []
    },
    {
      "cell_type": "code",
      "source": [
        "# 説明変数をラベルエンコーディング\n",
        "warnings.simplefilter('ignore')\n",
        "for column in traintest.columns:\n",
        "  le = preprocessing.LabelEncoder()\n",
        "  target_column = traintest[column]\n",
        "  train_target_column = X[column]\n",
        "  test_target_column = test_X[column]  \n",
        "  le.fit(target_column)\n",
        "  train_label_encoded_column = le.transform(train_target_column)\n",
        "  test_label_encoded_column = le.transform(test_target_column)\n",
        "  X[column] = pd.Series(train_label_encoded_column).astype(\"category\")\n",
        "  test_X[column] = pd.Series(test_label_encoded_column).astype(\"category\")"
      ],
      "metadata": {
        "id": "5aP-2uL8lw9b"
      },
      "execution_count": 10,
      "outputs": []
    },
    {
      "cell_type": "code",
      "source": [
        "X['age'] = train_df['age']\n",
        "# X['fnlwgt'] = train_df['fnlwgt']\n",
        "X['education_num'] = train_df['education-num']\n",
        "test_X['age'] = test_df['age']\n",
        "# test_X['fnlwgt'] = test_df['fnlwgt']\n",
        "test_X['education_num'] = test_df['education-num']"
      ],
      "metadata": {
        "id": "zjL6PftKNEEo"
      },
      "execution_count": 11,
      "outputs": []
    },
    {
      "cell_type": "code",
      "source": [
        "# 標準化\n",
        "ss = preprocessing.StandardScaler()\n",
        "ss.fit(X)\n",
        "X = pd.DataFrame(ss.transform(X))\n",
        "test_X = pd.DataFrame(ss.transform(test_X))"
      ],
      "metadata": {
        "id": "In8Aie05Mq6f"
      },
      "execution_count": 12,
      "outputs": []
    },
    {
      "cell_type": "code",
      "source": [
        "# trainデータを訓練用とテスト用に分割\n",
        "X_train, X_test, y_train, y_test = train_test_split(X, y, test_size=0.2, random_state = Config.seed)"
      ],
      "metadata": {
        "id": "PV02FXlHnsbS"
      },
      "execution_count": 13,
      "outputs": []
    },
    {
      "cell_type": "markdown",
      "source": [
        "## GBDTの実行"
      ],
      "metadata": {
        "id": "5ffjKPkcVpXZ"
      }
    },
    {
      "cell_type": "code",
      "metadata": {
        "id": "1O2YxxV-YRx0",
        "colab": {
          "base_uri": "https://localhost:8080/"
        },
        "outputId": "ace35eee-f811-4310-d374-d48c42dd51a6"
      },
      "source": [
        "from scipy.sparse.construct import rand\n",
        "# 学習/予測\n",
        "\n",
        "y_oof = np.zeros(len(y_train))\n",
        "y_preds = []\n",
        "kf = StratifiedKFold(n_splits=5)\n",
        "for fold, (tr_idx, vl_idx) in enumerate(kf.split(X_train, y_train)):\n",
        "    x_tr_fold = X.iloc[tr_idx]\n",
        "    y_tr_fold = y.iloc[tr_idx]\n",
        "    x_vl_fold = X.iloc[vl_idx]\n",
        "    y_vl_fold = y.iloc[vl_idx]\n",
        "\n",
        "    # データセットを生成する\n",
        "    # param_grid = {\"n_estimators\":[100,500,1000], # 2000まではいらない\n",
        "    #           \"max_features\": [1, 2, 3, 4, 5, 7, 10],\n",
        "    #           \"max_depth\": [3,5,7,10,15,None], #,20,30は過学習を引き起こす\n",
        "    #           \"min_samples_leaf\":  [1, 2, 4],\n",
        "    #           \"min_samples_split\": [2, 5, 10]\n",
        "    #          } \n",
        "    model = GradientBoostingRegressor(n_estimators=200, max_features=2, max_depth=3, min_samples_leaf=2,random_state=Config.seed)\n",
        "    model.fit(x_tr_fold, y_tr_fold)\n",
        "    y_oof[vl_idx] = np.where(model.predict(x_vl_fold) > 0.5, 1, 0)\n",
        "    y_preds.append(model.predict(test_X))\n",
        "    print(\n",
        "        f'fold {fold} score:', accuracy_score(np.where(y_oof[vl_idx]>0.5,1,0), y_vl_fold)\n",
        "    )"
      ],
      "execution_count": 14,
      "outputs": [
        {
          "output_type": "stream",
          "name": "stdout",
          "text": [
            "fold 0 score: 0.8780637254901961\n",
            "fold 1 score: 0.8743872549019608\n",
            "fold 2 score: 0.8860294117647058\n",
            "fold 3 score: 0.8811274509803921\n",
            "fold 4 score: 0.8805147058823529\n"
          ]
        }
      ]
    },
    {
      "cell_type": "markdown",
      "source": [
        "### 提出データの作成"
      ],
      "metadata": {
        "id": "7zGFnZXtvGmE"
      }
    },
    {
      "cell_type": "code",
      "source": [
        "y_preds"
      ],
      "metadata": {
        "colab": {
          "base_uri": "https://localhost:8080/"
        },
        "id": "U-I30XDBXHtF",
        "outputId": "bddc2e6d-66fa-47cb-c8b1-c7e2ae2e9f23"
      },
      "execution_count": null,
      "outputs": [
        {
          "output_type": "execute_result",
          "data": {
            "text/plain": [
              "[array([ 0.00456268,  0.05021487,  0.48609943, ..., -0.01939822,\n",
              "        -0.01103572, -0.02658347]),\n",
              " array([ 0.09118492,  0.03278729,  0.54411699, ...,  0.00737089,\n",
              "        -0.0149267 , -0.02385903]),\n",
              " array([ 0.05462345,  0.08922477,  0.50186597, ..., -0.00570989,\n",
              "        -0.00866761,  0.00533465]),\n",
              " array([ 0.05275998,  0.07061959,  0.49793961, ...,  0.0100709 ,\n",
              "        -0.01463435, -0.03282768]),\n",
              " array([ 0.07747491,  0.04193647,  0.48593743, ...,  0.03439174,\n",
              "        -0.00592243, -0.02040266])]"
            ]
          },
          "metadata": {},
          "execution_count": 14
        }
      ]
    },
    {
      "cell_type": "code",
      "source": [
        "for i in range(len(y_preds)):\n",
        "    y_preds[i] = np.where(y_preds[i]>0.5,1,0)\n",
        "result = stats.mode(y_preds, axis=0)"
      ],
      "metadata": {
        "id": "EcoIc0mguAiD"
      },
      "execution_count": null,
      "outputs": []
    },
    {
      "cell_type": "code",
      "source": [
        "result = result[0].reshape([6800])"
      ],
      "metadata": {
        "id": "a2J1yp9eYgmP"
      },
      "execution_count": null,
      "outputs": []
    },
    {
      "cell_type": "code",
      "source": [
        "sample_df[1] = result\n",
        "print(sample_df)"
      ],
      "metadata": {
        "colab": {
          "base_uri": "https://localhost:8080/"
        },
        "id": "YUlCmkODvBI0",
        "outputId": "f5291d1b-c08d-48a8-e563-1857103ab5df"
      },
      "execution_count": null,
      "outputs": [
        {
          "output_type": "stream",
          "name": "stdout",
          "text": [
            "          0  1\n",
            "0     10200  0\n",
            "1     10201  0\n",
            "2     10202  0\n",
            "3     10203  0\n",
            "4     10204  1\n",
            "...     ... ..\n",
            "6795  16995  0\n",
            "6796  16996  0\n",
            "6797  16997  0\n",
            "6798  16998  0\n",
            "6799  16999  0\n",
            "\n",
            "[6800 rows x 2 columns]\n"
          ]
        }
      ]
    },
    {
      "cell_type": "code",
      "source": [
        "# submitファイルの出力(Google Driveに出力）\n",
        "\n",
        "# sample_df.to_csv(os.path.join(Config.intermediate_path, \"submit_008.csv\"), index=False)"
      ],
      "metadata": {
        "id": "0CGhsadewfq2"
      },
      "execution_count": null,
      "outputs": []
    },
    {
      "cell_type": "code",
      "source": [
        "# submitファイルのファイル名に利用する作成時刻の取得\n",
        "\n",
        "now = datetime.datetime.now(datetime.timezone(datetime.timedelta(hours=1)))\n",
        "date_time = \"{0:%Y%m%d_%H%M}\".format(now)"
      ],
      "metadata": {
        "id": "njijaymzwV5E"
      },
      "execution_count": null,
      "outputs": []
    },
    {
      "cell_type": "code",
      "source": [
        "# submitファイルの出力(Google Driveに出力）\n",
        "\n",
        "sample_df.to_csv(os.path.join(Config.output_path, f\"submit_{date_time}.csv\"), index=False)"
      ],
      "metadata": {
        "id": "3mIdpgjWgxZk"
      },
      "execution_count": null,
      "outputs": []
    },
    {
      "cell_type": "code",
      "source": [
        ""
      ],
      "metadata": {
        "id": "SLihwoRjFETX"
      },
      "execution_count": null,
      "outputs": []
    }
  ]
}