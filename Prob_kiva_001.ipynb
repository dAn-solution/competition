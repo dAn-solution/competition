{
  "nbformat": 4,
  "nbformat_minor": 0,
  "metadata": {
    "colab": {
      "name": "Prob_kiva_001.ipynb",
      "provenance": [],
      "authorship_tag": "ABX9TyOnU9WpEPYhonXQ8PplAKXz",
      "include_colab_link": true
    },
    "kernelspec": {
      "name": "python3",
      "display_name": "Python 3"
    },
    "language_info": {
      "name": "python"
    }
  },
  "cells": [
    {
      "cell_type": "markdown",
      "metadata": {
        "id": "view-in-github",
        "colab_type": "text"
      },
      "source": [
        "<a href=\"https://colab.research.google.com/github/dAn-solution/competition/blob/main/Prob_kiva_001.ipynb\" target=\"_parent\"><img src=\"https://colab.research.google.com/assets/colab-badge.svg\" alt=\"Open In Colab\"/></a>"
      ]
    },
    {
      "cell_type": "markdown",
      "source": [
        "## Kiva／クラウドファンディングの資金調達額予測\n",
        "- EDA\n",
        "- Tutorialの実行\n",
        "\n",
        "### Google Driveのマウント"
      ],
      "metadata": {
        "id": "kFq5qAP7WdSh"
      }
    },
    {
      "cell_type": "code",
      "execution_count": null,
      "metadata": {
        "colab": {
          "base_uri": "https://localhost:8080/"
        },
        "id": "C8d7KOVLytug",
        "outputId": "a669c837-080b-48c2-ce60-01fa9a2c9c7d"
      },
      "outputs": [
        {
          "output_type": "stream",
          "name": "stdout",
          "text": [
            "Mounted at /content/drive\n",
            "/content/drive/My Drive/Probdata/kiva\n"
          ]
        }
      ],
      "source": [
        "from google.colab import drive\n",
        "drive.mount('/content/drive')\n",
        "%cd /content/drive/'My Drive'/'Probdata'/'kiva'"
      ]
    },
    {
      "cell_type": "markdown",
      "source": [
        "### ライブラリのインストール、インポート"
      ],
      "metadata": {
        "id": "o0AdcnrcYc9B"
      }
    },
    {
      "cell_type": "code",
      "execution_count": null,
      "metadata": {
        "id": "S-hr_gTyWTqP"
      },
      "outputs": [],
      "source": [
        "import pandas as pd\n",
        "import numpy as np\n",
        "import matplotlib.pyplot as plt\n",
        "from src.common_functions import Config"
      ]
    },
    {
      "cell_type": "markdown",
      "source": [
        "### データの読み込み"
      ],
      "metadata": {
        "id": "FzO7JqIdZKj_"
      }
    },
    {
      "cell_type": "code",
      "source": [
        "train_df = pd.read_csv(f'{Config.input_dir_name}/train.csv')\n",
        "test_df = pd.read_csv(f'{Config.input_dir_name}/test.csv')\n",
        "submit_df = pd.read_csv(f'{Config.input_dir_name}/sample_submission.csv')"
      ],
      "metadata": {
        "id": "YO-Ba_l2Y6L9"
      },
      "execution_count": null,
      "outputs": []
    },
    {
      "cell_type": "code",
      "source": [
        "print(train_df.shape)\n",
        "print(test_df.shape)\n",
        "print(submit_df.shape)"
      ],
      "metadata": {
        "colab": {
          "base_uri": "https://localhost:8080/"
        },
        "id": "JDqvwD_BaX6t",
        "outputId": "0ce011f4-a970-4bf6-d24c-3175bbd460ad"
      },
      "execution_count": null,
      "outputs": [
        {
          "output_type": "stream",
          "name": "stdout",
          "text": [
            "(91333, 18)\n",
            "(91822, 17)\n",
            "(91822, 2)\n"
          ]
        }
      ]
    },
    {
      "cell_type": "code",
      "source": [
        "train_df.head()"
      ],
      "metadata": {
        "colab": {
          "base_uri": "https://localhost:8080/",
          "height": 735
        },
        "id": "ZHXnOcUFak-K",
        "outputId": "93f17e52-2950-43ad-c059-dc4eebd8bb31"
      },
      "execution_count": null,
      "outputs": [
        {
          "output_type": "execute_result",
          "data": {
            "text/html": [
              "\n",
              "  <div id=\"df-2b88671b-c3d2-4aac-9a74-5d05a326be46\">\n",
              "    <div class=\"colab-df-container\">\n",
              "      <div>\n",
              "<style scoped>\n",
              "    .dataframe tbody tr th:only-of-type {\n",
              "        vertical-align: middle;\n",
              "    }\n",
              "\n",
              "    .dataframe tbody tr th {\n",
              "        vertical-align: top;\n",
              "    }\n",
              "\n",
              "    .dataframe thead th {\n",
              "        text-align: right;\n",
              "    }\n",
              "</style>\n",
              "<table border=\"1\" class=\"dataframe\">\n",
              "  <thead>\n",
              "    <tr style=\"text-align: right;\">\n",
              "      <th></th>\n",
              "      <th>LOAN_ID</th>\n",
              "      <th>ORIGINAL_LANGUAGE</th>\n",
              "      <th>DESCRIPTION</th>\n",
              "      <th>DESCRIPTION_TRANSLATED</th>\n",
              "      <th>LOAN_AMOUNT</th>\n",
              "      <th>IMAGE_ID</th>\n",
              "      <th>ACTIVITY_NAME</th>\n",
              "      <th>SECTOR_NAME</th>\n",
              "      <th>LOAN_USE</th>\n",
              "      <th>COUNTRY_CODE</th>\n",
              "      <th>COUNTRY_NAME</th>\n",
              "      <th>TOWN_NAME</th>\n",
              "      <th>CURRENCY_POLICY</th>\n",
              "      <th>CURRENCY_EXCHANGE_COVERAGE_RATE</th>\n",
              "      <th>CURRENCY</th>\n",
              "      <th>TAGS</th>\n",
              "      <th>REPAYMENT_INTERVAL</th>\n",
              "      <th>DISTRIBUTION_MODEL</th>\n",
              "    </tr>\n",
              "  </thead>\n",
              "  <tbody>\n",
              "    <tr>\n",
              "      <th>0</th>\n",
              "      <td>1733169</td>\n",
              "      <td>English</td>\n",
              "      <td>Teodora is a 50-year-old married woman from th...</td>\n",
              "      <td>Teodora is a 50-year-old married woman from th...</td>\n",
              "      <td>100</td>\n",
              "      <td>3115271</td>\n",
              "      <td>Weaving</td>\n",
              "      <td>Arts</td>\n",
              "      <td>to purchase  materials like nipa palm, bamboo ...</td>\n",
              "      <td>PH</td>\n",
              "      <td>Philippines</td>\n",
              "      <td>Maribojoc, Bohol</td>\n",
              "      <td>shared</td>\n",
              "      <td>0.1</td>\n",
              "      <td>PHP</td>\n",
              "      <td>#Elderly</td>\n",
              "      <td>monthly</td>\n",
              "      <td>field_partner</td>\n",
              "    </tr>\n",
              "    <tr>\n",
              "      <th>1</th>\n",
              "      <td>1546998</td>\n",
              "      <td>English</td>\n",
              "      <td>Diego is 32 years old and lives in the municip...</td>\n",
              "      <td>Diego is 32 years old and lives in the municip...</td>\n",
              "      <td>1350</td>\n",
              "      <td>2870403</td>\n",
              "      <td>Barber Shop</td>\n",
              "      <td>Services</td>\n",
              "      <td>to buy two hair clippers, a new barber chair, ...</td>\n",
              "      <td>CO</td>\n",
              "      <td>Colombia</td>\n",
              "      <td>Apartadó</td>\n",
              "      <td>shared</td>\n",
              "      <td>0.1</td>\n",
              "      <td>COP</td>\n",
              "      <td>user_favorite, user_favorite</td>\n",
              "      <td>monthly</td>\n",
              "      <td>field_partner</td>\n",
              "    </tr>\n",
              "    <tr>\n",
              "      <th>2</th>\n",
              "      <td>1808517</td>\n",
              "      <td>Spanish</td>\n",
              "      <td>Osman, es un joven de 27 años de edad, soltero...</td>\n",
              "      <td>Osman is a young man, 27 years old, single, an...</td>\n",
              "      <td>225</td>\n",
              "      <td>3215705</td>\n",
              "      <td>Farming</td>\n",
              "      <td>Agriculture</td>\n",
              "      <td>to purchase sacks of fertilizers to care for a...</td>\n",
              "      <td>HN</td>\n",
              "      <td>Honduras</td>\n",
              "      <td>Nueva Frontera, Santa Barbara.</td>\n",
              "      <td>shared</td>\n",
              "      <td>0.1</td>\n",
              "      <td>HNL</td>\n",
              "      <td>NaN</td>\n",
              "      <td>bullet</td>\n",
              "      <td>field_partner</td>\n",
              "    </tr>\n",
              "    <tr>\n",
              "      <th>3</th>\n",
              "      <td>1452940</td>\n",
              "      <td>English</td>\n",
              "      <td>His name is Nino, 31 years old, married to Che...</td>\n",
              "      <td>His name is Nino, 31 years old, married to Che...</td>\n",
              "      <td>350</td>\n",
              "      <td>2745031</td>\n",
              "      <td>Motorcycle Transport</td>\n",
              "      <td>Transportation</td>\n",
              "      <td>to pay for fuel, tires and change oil for his ...</td>\n",
              "      <td>PH</td>\n",
              "      <td>Philippines</td>\n",
              "      <td>Silang, Cavite</td>\n",
              "      <td>shared</td>\n",
              "      <td>0.1</td>\n",
              "      <td>PHP</td>\n",
              "      <td>user_favorite</td>\n",
              "      <td>monthly</td>\n",
              "      <td>field_partner</td>\n",
              "    </tr>\n",
              "    <tr>\n",
              "      <th>4</th>\n",
              "      <td>1778420</td>\n",
              "      <td>English</td>\n",
              "      <td>Pictured above is Teresa, often described as a...</td>\n",
              "      <td>Pictured above is Teresa, often described as a...</td>\n",
              "      <td>625</td>\n",
              "      <td>3083800</td>\n",
              "      <td>Farming</td>\n",
              "      <td>Agriculture</td>\n",
              "      <td>to purchase hybrid seeds and fertilizer to imp...</td>\n",
              "      <td>KE</td>\n",
              "      <td>Kenya</td>\n",
              "      <td>Mumias</td>\n",
              "      <td>shared</td>\n",
              "      <td>0.1</td>\n",
              "      <td>KES</td>\n",
              "      <td>#Eco-friendly, #Sustainable Ag, #Parent, #Elde...</td>\n",
              "      <td>bullet</td>\n",
              "      <td>field_partner</td>\n",
              "    </tr>\n",
              "  </tbody>\n",
              "</table>\n",
              "</div>\n",
              "      <button class=\"colab-df-convert\" onclick=\"convertToInteractive('df-2b88671b-c3d2-4aac-9a74-5d05a326be46')\"\n",
              "              title=\"Convert this dataframe to an interactive table.\"\n",
              "              style=\"display:none;\">\n",
              "        \n",
              "  <svg xmlns=\"http://www.w3.org/2000/svg\" height=\"24px\"viewBox=\"0 0 24 24\"\n",
              "       width=\"24px\">\n",
              "    <path d=\"M0 0h24v24H0V0z\" fill=\"none\"/>\n",
              "    <path d=\"M18.56 5.44l.94 2.06.94-2.06 2.06-.94-2.06-.94-.94-2.06-.94 2.06-2.06.94zm-11 1L8.5 8.5l.94-2.06 2.06-.94-2.06-.94L8.5 2.5l-.94 2.06-2.06.94zm10 10l.94 2.06.94-2.06 2.06-.94-2.06-.94-.94-2.06-.94 2.06-2.06.94z\"/><path d=\"M17.41 7.96l-1.37-1.37c-.4-.4-.92-.59-1.43-.59-.52 0-1.04.2-1.43.59L10.3 9.45l-7.72 7.72c-.78.78-.78 2.05 0 2.83L4 21.41c.39.39.9.59 1.41.59.51 0 1.02-.2 1.41-.59l7.78-7.78 2.81-2.81c.8-.78.8-2.07 0-2.86zM5.41 20L4 18.59l7.72-7.72 1.47 1.35L5.41 20z\"/>\n",
              "  </svg>\n",
              "      </button>\n",
              "      \n",
              "  <style>\n",
              "    .colab-df-container {\n",
              "      display:flex;\n",
              "      flex-wrap:wrap;\n",
              "      gap: 12px;\n",
              "    }\n",
              "\n",
              "    .colab-df-convert {\n",
              "      background-color: #E8F0FE;\n",
              "      border: none;\n",
              "      border-radius: 50%;\n",
              "      cursor: pointer;\n",
              "      display: none;\n",
              "      fill: #1967D2;\n",
              "      height: 32px;\n",
              "      padding: 0 0 0 0;\n",
              "      width: 32px;\n",
              "    }\n",
              "\n",
              "    .colab-df-convert:hover {\n",
              "      background-color: #E2EBFA;\n",
              "      box-shadow: 0px 1px 2px rgba(60, 64, 67, 0.3), 0px 1px 3px 1px rgba(60, 64, 67, 0.15);\n",
              "      fill: #174EA6;\n",
              "    }\n",
              "\n",
              "    [theme=dark] .colab-df-convert {\n",
              "      background-color: #3B4455;\n",
              "      fill: #D2E3FC;\n",
              "    }\n",
              "\n",
              "    [theme=dark] .colab-df-convert:hover {\n",
              "      background-color: #434B5C;\n",
              "      box-shadow: 0px 1px 3px 1px rgba(0, 0, 0, 0.15);\n",
              "      filter: drop-shadow(0px 1px 2px rgba(0, 0, 0, 0.3));\n",
              "      fill: #FFFFFF;\n",
              "    }\n",
              "  </style>\n",
              "\n",
              "      <script>\n",
              "        const buttonEl =\n",
              "          document.querySelector('#df-2b88671b-c3d2-4aac-9a74-5d05a326be46 button.colab-df-convert');\n",
              "        buttonEl.style.display =\n",
              "          google.colab.kernel.accessAllowed ? 'block' : 'none';\n",
              "\n",
              "        async function convertToInteractive(key) {\n",
              "          const element = document.querySelector('#df-2b88671b-c3d2-4aac-9a74-5d05a326be46');\n",
              "          const dataTable =\n",
              "            await google.colab.kernel.invokeFunction('convertToInteractive',\n",
              "                                                     [key], {});\n",
              "          if (!dataTable) return;\n",
              "\n",
              "          const docLinkHtml = 'Like what you see? Visit the ' +\n",
              "            '<a target=\"_blank\" href=https://colab.research.google.com/notebooks/data_table.ipynb>data table notebook</a>'\n",
              "            + ' to learn more about interactive tables.';\n",
              "          element.innerHTML = '';\n",
              "          dataTable['output_type'] = 'display_data';\n",
              "          await google.colab.output.renderOutput(dataTable, element);\n",
              "          const docLink = document.createElement('div');\n",
              "          docLink.innerHTML = docLinkHtml;\n",
              "          element.appendChild(docLink);\n",
              "        }\n",
              "      </script>\n",
              "    </div>\n",
              "  </div>\n",
              "  "
            ],
            "text/plain": [
              "   LOAN_ID ORIGINAL_LANGUAGE  ... REPAYMENT_INTERVAL DISTRIBUTION_MODEL\n",
              "0  1733169           English  ...            monthly      field_partner\n",
              "1  1546998           English  ...            monthly      field_partner\n",
              "2  1808517           Spanish  ...             bullet      field_partner\n",
              "3  1452940           English  ...            monthly      field_partner\n",
              "4  1778420           English  ...             bullet      field_partner\n",
              "\n",
              "[5 rows x 18 columns]"
            ]
          },
          "metadata": {},
          "execution_count": 5
        }
      ]
    },
    {
      "cell_type": "code",
      "source": [
        "train_df.columns"
      ],
      "metadata": {
        "colab": {
          "base_uri": "https://localhost:8080/"
        },
        "id": "CkKROZdXauxV",
        "outputId": "57554ba8-bba9-47e1-a9b3-168d4ac2ddf4"
      },
      "execution_count": null,
      "outputs": [
        {
          "output_type": "execute_result",
          "data": {
            "text/plain": [
              "Index(['LOAN_ID', 'ORIGINAL_LANGUAGE', 'DESCRIPTION', 'DESCRIPTION_TRANSLATED',\n",
              "       'LOAN_AMOUNT', 'IMAGE_ID', 'ACTIVITY_NAME', 'SECTOR_NAME', 'LOAN_USE',\n",
              "       'COUNTRY_CODE', 'COUNTRY_NAME', 'TOWN_NAME', 'CURRENCY_POLICY',\n",
              "       'CURRENCY_EXCHANGE_COVERAGE_RATE', 'CURRENCY', 'TAGS',\n",
              "       'REPAYMENT_INTERVAL', 'DISTRIBUTION_MODEL'],\n",
              "      dtype='object')"
            ]
          },
          "metadata": {},
          "execution_count": 7
        }
      ]
    },
    {
      "cell_type": "code",
      "source": [
        "test_df.columns"
      ],
      "metadata": {
        "colab": {
          "base_uri": "https://localhost:8080/"
        },
        "id": "sK_fJ-iYg4fo",
        "outputId": "75f2e948-2b52-46d0-af37-00a008e97ccb"
      },
      "execution_count": null,
      "outputs": [
        {
          "output_type": "execute_result",
          "data": {
            "text/plain": [
              "Index(['LOAN_ID', 'ORIGINAL_LANGUAGE', 'DESCRIPTION', 'DESCRIPTION_TRANSLATED',\n",
              "       'IMAGE_ID', 'ACTIVITY_NAME', 'SECTOR_NAME', 'LOAN_USE', 'COUNTRY_CODE',\n",
              "       'COUNTRY_NAME', 'TOWN_NAME', 'CURRENCY_POLICY',\n",
              "       'CURRENCY_EXCHANGE_COVERAGE_RATE', 'CURRENCY', 'TAGS',\n",
              "       'REPAYMENT_INTERVAL', 'DISTRIBUTION_MODEL'],\n",
              "      dtype='object')"
            ]
          },
          "metadata": {},
          "execution_count": 8
        }
      ]
    },
    {
      "cell_type": "code",
      "source": [
        "submit_df.head()"
      ],
      "metadata": {
        "colab": {
          "base_uri": "https://localhost:8080/",
          "height": 205
        },
        "id": "MXOM8El6g-VA",
        "outputId": "df813e43-1a1f-4150-df62-131798fe80ba"
      },
      "execution_count": null,
      "outputs": [
        {
          "output_type": "execute_result",
          "data": {
            "text/html": [
              "\n",
              "  <div id=\"df-a1501019-167a-448d-8d7a-ef354ac7eaf3\">\n",
              "    <div class=\"colab-df-container\">\n",
              "      <div>\n",
              "<style scoped>\n",
              "    .dataframe tbody tr th:only-of-type {\n",
              "        vertical-align: middle;\n",
              "    }\n",
              "\n",
              "    .dataframe tbody tr th {\n",
              "        vertical-align: top;\n",
              "    }\n",
              "\n",
              "    .dataframe thead th {\n",
              "        text-align: right;\n",
              "    }\n",
              "</style>\n",
              "<table border=\"1\" class=\"dataframe\">\n",
              "  <thead>\n",
              "    <tr style=\"text-align: right;\">\n",
              "      <th></th>\n",
              "      <th>LOAN_ID</th>\n",
              "      <th>LOAN_AMOUNT</th>\n",
              "    </tr>\n",
              "  </thead>\n",
              "  <tbody>\n",
              "    <tr>\n",
              "      <th>0</th>\n",
              "      <td>2041445</td>\n",
              "      <td>100</td>\n",
              "    </tr>\n",
              "    <tr>\n",
              "      <th>1</th>\n",
              "      <td>1944435</td>\n",
              "      <td>100</td>\n",
              "    </tr>\n",
              "    <tr>\n",
              "      <th>2</th>\n",
              "      <td>2083354</td>\n",
              "      <td>100</td>\n",
              "    </tr>\n",
              "    <tr>\n",
              "      <th>3</th>\n",
              "      <td>1993565</td>\n",
              "      <td>100</td>\n",
              "    </tr>\n",
              "    <tr>\n",
              "      <th>4</th>\n",
              "      <td>2064272</td>\n",
              "      <td>100</td>\n",
              "    </tr>\n",
              "  </tbody>\n",
              "</table>\n",
              "</div>\n",
              "      <button class=\"colab-df-convert\" onclick=\"convertToInteractive('df-a1501019-167a-448d-8d7a-ef354ac7eaf3')\"\n",
              "              title=\"Convert this dataframe to an interactive table.\"\n",
              "              style=\"display:none;\">\n",
              "        \n",
              "  <svg xmlns=\"http://www.w3.org/2000/svg\" height=\"24px\"viewBox=\"0 0 24 24\"\n",
              "       width=\"24px\">\n",
              "    <path d=\"M0 0h24v24H0V0z\" fill=\"none\"/>\n",
              "    <path d=\"M18.56 5.44l.94 2.06.94-2.06 2.06-.94-2.06-.94-.94-2.06-.94 2.06-2.06.94zm-11 1L8.5 8.5l.94-2.06 2.06-.94-2.06-.94L8.5 2.5l-.94 2.06-2.06.94zm10 10l.94 2.06.94-2.06 2.06-.94-2.06-.94-.94-2.06-.94 2.06-2.06.94z\"/><path d=\"M17.41 7.96l-1.37-1.37c-.4-.4-.92-.59-1.43-.59-.52 0-1.04.2-1.43.59L10.3 9.45l-7.72 7.72c-.78.78-.78 2.05 0 2.83L4 21.41c.39.39.9.59 1.41.59.51 0 1.02-.2 1.41-.59l7.78-7.78 2.81-2.81c.8-.78.8-2.07 0-2.86zM5.41 20L4 18.59l7.72-7.72 1.47 1.35L5.41 20z\"/>\n",
              "  </svg>\n",
              "      </button>\n",
              "      \n",
              "  <style>\n",
              "    .colab-df-container {\n",
              "      display:flex;\n",
              "      flex-wrap:wrap;\n",
              "      gap: 12px;\n",
              "    }\n",
              "\n",
              "    .colab-df-convert {\n",
              "      background-color: #E8F0FE;\n",
              "      border: none;\n",
              "      border-radius: 50%;\n",
              "      cursor: pointer;\n",
              "      display: none;\n",
              "      fill: #1967D2;\n",
              "      height: 32px;\n",
              "      padding: 0 0 0 0;\n",
              "      width: 32px;\n",
              "    }\n",
              "\n",
              "    .colab-df-convert:hover {\n",
              "      background-color: #E2EBFA;\n",
              "      box-shadow: 0px 1px 2px rgba(60, 64, 67, 0.3), 0px 1px 3px 1px rgba(60, 64, 67, 0.15);\n",
              "      fill: #174EA6;\n",
              "    }\n",
              "\n",
              "    [theme=dark] .colab-df-convert {\n",
              "      background-color: #3B4455;\n",
              "      fill: #D2E3FC;\n",
              "    }\n",
              "\n",
              "    [theme=dark] .colab-df-convert:hover {\n",
              "      background-color: #434B5C;\n",
              "      box-shadow: 0px 1px 3px 1px rgba(0, 0, 0, 0.15);\n",
              "      filter: drop-shadow(0px 1px 2px rgba(0, 0, 0, 0.3));\n",
              "      fill: #FFFFFF;\n",
              "    }\n",
              "  </style>\n",
              "\n",
              "      <script>\n",
              "        const buttonEl =\n",
              "          document.querySelector('#df-a1501019-167a-448d-8d7a-ef354ac7eaf3 button.colab-df-convert');\n",
              "        buttonEl.style.display =\n",
              "          google.colab.kernel.accessAllowed ? 'block' : 'none';\n",
              "\n",
              "        async function convertToInteractive(key) {\n",
              "          const element = document.querySelector('#df-a1501019-167a-448d-8d7a-ef354ac7eaf3');\n",
              "          const dataTable =\n",
              "            await google.colab.kernel.invokeFunction('convertToInteractive',\n",
              "                                                     [key], {});\n",
              "          if (!dataTable) return;\n",
              "\n",
              "          const docLinkHtml = 'Like what you see? Visit the ' +\n",
              "            '<a target=\"_blank\" href=https://colab.research.google.com/notebooks/data_table.ipynb>data table notebook</a>'\n",
              "            + ' to learn more about interactive tables.';\n",
              "          element.innerHTML = '';\n",
              "          dataTable['output_type'] = 'display_data';\n",
              "          await google.colab.output.renderOutput(dataTable, element);\n",
              "          const docLink = document.createElement('div');\n",
              "          docLink.innerHTML = docLinkHtml;\n",
              "          element.appendChild(docLink);\n",
              "        }\n",
              "      </script>\n",
              "    </div>\n",
              "  </div>\n",
              "  "
            ],
            "text/plain": [
              "   LOAN_ID  LOAN_AMOUNT\n",
              "0  2041445          100\n",
              "1  1944435          100\n",
              "2  2083354          100\n",
              "3  1993565          100\n",
              "4  2064272          100"
            ]
          },
          "metadata": {},
          "execution_count": 9
        }
      ]
    },
    {
      "cell_type": "code",
      "source": [
        "train_df['LOAN_AMOUNT'].describe()"
      ],
      "metadata": {
        "colab": {
          "base_uri": "https://localhost:8080/"
        },
        "id": "uuxTXso0hRVE",
        "outputId": "fb24939a-22b1-4529-e4aa-58218fbbc991"
      },
      "execution_count": null,
      "outputs": [
        {
          "output_type": "execute_result",
          "data": {
            "text/plain": [
              "count    91333.000000\n",
              "mean       738.149957\n",
              "std       1013.752868\n",
              "min         25.000000\n",
              "25%        225.000000\n",
              "50%        450.000000\n",
              "75%        825.000000\n",
              "max      10000.000000\n",
              "Name: LOAN_AMOUNT, dtype: float64"
            ]
          },
          "metadata": {},
          "execution_count": 11
        }
      ]
    },
    {
      "cell_type": "code",
      "source": [
        "train_df['LOAN_AMOUNT'].hist()"
      ],
      "metadata": {
        "colab": {
          "base_uri": "https://localhost:8080/",
          "height": 282
        },
        "id": "GQJXEjQihvkp",
        "outputId": "9e459920-903f-4bbf-a0f2-a540bd09c2b9"
      },
      "execution_count": null,
      "outputs": [
        {
          "output_type": "execute_result",
          "data": {
            "text/plain": [
              "<matplotlib.axes._subplots.AxesSubplot at 0x7f4e77767f10>"
            ]
          },
          "metadata": {},
          "execution_count": 13
        },
        {
          "output_type": "display_data",
          "data": {
            "image/png": "[encoded data removed]",
            "text/plain": [
              "<Figure size 432x288 with 1 Axes>"
            ]
          },
          "metadata": {
            "needs_background": "light"
          }
        }
      ]
    },
    {
      "cell_type": "code",
      "source": [
        "plt.figure(figsize=(10,6))\n",
        "plt.boxplot(train_df['LOAN_AMOUNT'])\n",
        "plt.show()"
      ],
      "metadata": {
        "colab": {
          "base_uri": "https://localhost:8080/",
          "height": 374
        },
        "id": "H3_D6dfQiQD-",
        "outputId": "ecaa48e4-6968-4bfe-df4a-ca728f45bd84"
      },
      "execution_count": null,
      "outputs": [
        {
          "output_type": "display_data",
          "data": {
            "image/png": "[encoded data removed]",
            "text/plain": [
              "<Figure size 720x432 with 1 Axes>"
            ]
          },
          "metadata": {
            "needs_background": "light"
          }
        }
      ]
    },
    {
      "cell_type": "code",
      "source": [
        "x_095 = int(train_df['LOAN_AMOUNT'].quantile(0.95))\n",
        "train_df['LOAN_AMOUNT'].hist(bins=list(range(0,x_095,200)), color='blue', alpha=0.5)"
      ],
      "metadata": {
        "colab": {
          "base_uri": "https://localhost:8080/",
          "height": 282
        },
        "id": "0VwvZ8EJjPDj",
        "outputId": "eae3f4db-493b-4526-a332-b18d3a9c9976"
      },
      "execution_count": null,
      "outputs": [
        {
          "output_type": "execute_result",
          "data": {
            "text/plain": [
              "<matplotlib.axes._subplots.AxesSubplot at 0x7f4e767c8e50>"
            ]
          },
          "metadata": {},
          "execution_count": 21
        },
        {
          "output_type": "display_data",
          "data": {
            "image/png": "[encoded data removed]",
            "text/plain": [
              "<Figure size 432x288 with 1 Axes>"
            ]
          },
          "metadata": {
            "needs_background": "light"
          }
        }
      ]
    },
    {
      "cell_type": "markdown",
      "source": [
        "### 予測モデルの作成、学習"
      ],
      "metadata": {
        "id": "6q8alHbL1P1j"
      }
    },
    {
      "cell_type": "code",
      "source": [
        "train_columns = ['ORIGINAL_LANGUAGE','ACTIVITY_NAME']\n",
        "target = 'LOAN_AMOUNT'\n",
        "\n",
        "X = pd.get_dummies(train_df[train_columns], drop_first=True)\n",
        "y = train_df[target]"
      ],
      "metadata": {
        "id": "9q8LbWGOkpx-"
      },
      "execution_count": null,
      "outputs": []
    },
    {
      "cell_type": "code",
      "source": [
        "#scikit-learnライブラリをimport\n",
        "import sklearn\n",
        "from sklearn.ensemble import RandomForestRegressor as RFR\n",
        "\n",
        "#回帰モデルのインスタンス化\n",
        "model = RFR()\n",
        "\n",
        "#予測モデルの作成\n",
        "result = model.fit(X, y)"
      ],
      "metadata": {
        "id": "JgIyaFu1k2n2"
      },
      "execution_count": null,
      "outputs": []
    },
    {
      "cell_type": "markdown",
      "source": [
        "### 予測モデルの評価"
      ],
      "metadata": {
        "id": "QvfqNzmM1nP0"
      }
    },
    {
      "cell_type": "code",
      "source": [
        "model.score(X, y)"
      ],
      "metadata": {
        "colab": {
          "base_uri": "https://localhost:8080/"
        },
        "id": "2Z2I2z0g1hK8",
        "outputId": "8ea29b3a-84d7-403d-f99d-d6888ea9277a"
      },
      "execution_count": null,
      "outputs": [
        {
          "output_type": "execute_result",
          "data": {
            "text/plain": [
              "0.1466142343611735"
            ]
          },
          "metadata": {},
          "execution_count": 24
        }
      ]
    },
    {
      "cell_type": "code",
      "source": [
        "from sklearn.metrics import mean_absolute_error\n",
        "y_true = y\n",
        "y_pred = model.predict(X)\n",
        "print(mean_absolute_error(y_true, y_pred))"
      ],
      "metadata": {
        "colab": {
          "base_uri": "https://localhost:8080/"
        },
        "id": "wVSDYOlF1wgX",
        "outputId": "698e3950-1ee9-4b92-b9de-5b0024731588"
      },
      "execution_count": null,
      "outputs": [
        {
          "output_type": "stream",
          "name": "stdout",
          "text": [
            "494.1966205948083\n"
          ]
        }
      ]
    },
    {
      "cell_type": "markdown",
      "source": [
        "### 提出データの作成"
      ],
      "metadata": {
        "id": "cwTy_zbP158o"
      }
    },
    {
      "cell_type": "code",
      "source": [
        "#説明変数の作成\n",
        "test_X = pd.get_dummies(test_df[train_columns], drop_first=True)\n",
        "\n",
        "#テスト結果の出力\n",
        "test_predicted = model.predict(test_X) "
      ],
      "metadata": {
        "id": "8Pb_54A312S3"
      },
      "execution_count": null,
      "outputs": []
    },
    {
      "cell_type": "code",
      "source": [
        "submit_df['LOAN_AMOUNT']=test_predicted\n",
        "submit_df.to_csv(f'{Config.submission_dir_name}/submission.csv',index=False)"
      ],
      "metadata": {
        "id": "v08L1kFe2M3D"
      },
      "execution_count": null,
      "outputs": []
    },
    {
      "cell_type": "code",
      "source": [
        ""
      ],
      "metadata": {
        "id": "AR_1bbR0238W"
      },
      "execution_count": null,
      "outputs": []
    }
  ]
}