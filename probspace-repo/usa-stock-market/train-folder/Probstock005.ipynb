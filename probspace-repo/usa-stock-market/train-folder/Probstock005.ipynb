{
 "cells": [
  {
   "cell_type": "markdown",
   "metadata": {},
   "source": [
    "# 米国株式市場 将来株価予測 ProbSpace コンペティション\n",
    "### ARIMAモデル　Public Score: 0.04938　Private Score:0.05368 "
   ]
  },
  {
   "cell_type": "markdown",
   "metadata": {},
   "source": [
    "- 期間：2021.9.21 〜 2021.12.12\n",
    "- 課題：2011/11/13～2019/11/17週の計419週間の米国株データから、2019/11/24週の終値を予測する。銘柄数は3,278。\n",
    "- 評価方法：評価関数RMSLE(Root Mean Squared Logarithmic Error)\n",
    "   $$\n",
    "   \\sqrt{\\frac{1}{n} \\sum_{i=0}^{n}(log(Pred_i + 1) - log(Act_i - 1))^2}\n",
    "   $$\n",
    "- データ：train_data.csv\n",
    "             company_list.csv\n",
    "             submission_template.csv\n"
   ]
  },
  {
   "cell_type": "markdown",
   "metadata": {},
   "source": [
    "- はじめは時系列データであるのでARモデルARIMAモデルを構築してはどうかと実施\n",
    "- しかしPublic Scoreが0.04938と悪く、次のLightGBMへ"
   ]
  },
  {
   "cell_type": "code",
   "execution_count": 1,
   "metadata": {},
   "outputs": [
    {
     "name": "stderr",
     "output_type": "stream",
     "text": [
      "/opt/anaconda3/lib/python3.7/site-packages/statsmodels/tools/_testing.py:19: FutureWarning: pandas.util.testing is deprecated. Use the functions in the public API at pandas.testing instead.\n",
      "  import pandas.util.testing as tm\n"
     ]
    }
   ],
   "source": [
    "import numpy as np\n",
    "import pandas as pd\n",
    "import matplotlib.pyplot as plt\n",
    "\n",
    "import datetime\n",
    "from scipy import stats\n",
    "\n",
    "import statsmodels.api as sm\n",
    "from statsmodels.tsa.arima_model import ARIMA\n",
    "from statsmodels.tsa.stattools import adfuller"
   ]
  },
  {
   "cell_type": "code",
   "execution_count": 2,
   "metadata": {},
   "outputs": [],
   "source": [
    "# データ読み込み\n",
    "df = pd.read_csv(\"train_data.csv\", encoding=\"cp932\")\n",
    "submission_df = pd.read_csv(\"submission_template.csv\", encoding=\"cp932\")"
   ]
  },
  {
   "cell_type": "code",
   "execution_count": 3,
   "metadata": {},
   "outputs": [],
   "source": [
    "# 日付をインデックスへ\n",
    "df.index = pd.to_datetime(df['Date'])\n",
    "del df['Date']\n",
    "df = df[:-1]"
   ]
  },
  {
   "cell_type": "markdown",
   "metadata": {},
   "source": [
    "### KPSS検定（単位根検定）、ADF検定（定常性検定）"
   ]
  },
  {
   "cell_type": "code",
   "execution_count": 4,
   "metadata": {},
   "outputs": [],
   "source": [
    "# 訓練データとテストデータを分ける\n",
    "train_df = df[:-1]\n",
    "test_df = df[-1:]\n",
    "\n",
    "train_col = train_df.columns"
   ]
  },
  {
   "cell_type": "code",
   "execution_count": 5,
   "metadata": {},
   "outputs": [],
   "source": [
    "# KPSS ADF検定の実施\n",
    "import warnings\n",
    "warnings.filterwarnings('ignore') # 警告非表示（収束：ConvergenceWarning）\n",
    "\n",
    "kpss_adf_dict = {}\n",
    "for col in train_col:\n",
    "    ts = train_df[col]\n",
    "    for num in range(3):\n",
    "        #KPSS検定\n",
    "        stats, p_value, lags, crit = sm.tsa.kpss(ts, lags=1)\n",
    "        #ADF検定\n",
    "        results = sm.tsa.stattools.adfuller(ts, maxlag=1)\n",
    "        kpss_adf_dict[(col, num)] = [p_value, results[0], results[1], results[4]['5%']]\n",
    "        diff_data = ts.diff(periods=num+1)\n",
    "        diff_data = diff_data.dropna()\n",
    "        ts = diff_data"
   ]
  },
  {
   "cell_type": "code",
   "execution_count": 6,
   "metadata": {},
   "outputs": [],
   "source": [
    "# KPSS ADFの結果から階差を決定\n",
    "test_dict = {}\n",
    "\n",
    "for col in train_col:\n",
    "    chk_ndarray = np.array(['','',''])\n",
    "    for num in range(3):\n",
    "        if kpss_adf_dict[(col, num)][2] < 0.05:\n",
    "            if kpss_adf_dict[(col, num)][0] < 0.05:\n",
    "                chk_ndarray[num] = 'C'\n",
    "            else:\n",
    "                chk_ndarray[num] = 'A'\n",
    "        else:\n",
    "            if kpss_adf_dict[(col, num)][0] < 0.05:\n",
    "                chk_ndarray[num] = 'B'\n",
    "            else:\n",
    "                chk_ndarray[num] = 'D'\n",
    "    test_dict[col] = [chk_ndarray[0], chk_ndarray[1], chk_ndarray[2]]"
   ]
  },
  {
   "cell_type": "code",
   "execution_count": 7,
   "metadata": {},
   "outputs": [],
   "source": [
    "# 銘柄毎の階差を作成\n",
    "arima_para_dict = {}\n",
    "\n",
    "for col in train_col:\n",
    "    if 'A' in test_dict[col]:\n",
    "        arima_para_dict[col] = [0,test_dict[col].index('A'),0,0]\n",
    "    elif 'C' in test_dict[col]:\n",
    "        arima_para_dict[col] = [0,test_dict[col].index('C'),0,0]\n",
    "    elif 'D' in test_dict[col]:\n",
    "        arima_para_dict[col] = [0,test_dict[col].index('D'),0,0]\n",
    "    else:\n",
    "        arima_para_dict[col] = [0,test_dict[col].index('B'),0,0]"
   ]
  },
  {
   "cell_type": "markdown",
   "metadata": {},
   "source": [
    "### ARIMA"
   ]
  },
  {
   "cell_type": "code",
   "execution_count": null,
   "metadata": {},
   "outputs": [],
   "source": [
    "# SARIMAパラメター最適化（総当たりチェック）\n",
    "import warnings\n",
    "warnings.filterwarnings('ignore') # 警告非表示（収束：ConvergenceWarning）\n",
    "\n",
    "# パラメータ範囲\n",
    "# order(p, d, q)\n",
    "min_p = 1; max_p = 2 \n",
    "min_d = 0; max_d = 2\n",
    "min_q = 0; max_q = 2\n",
    "\n",
    "test_pattern = (max_p - min_p +1)*(max_q - min_q + 1)*(max_d - min_d + 1)\n",
    "\n",
    "for col in train_col:\n",
    "    ts = train_df[col] # 時系列データ\n",
    "    test_results = pd.DataFrame(index=range(test_pattern), columns=[\"p\", \"d\", \"q\", \"aic\"])\n",
    "    num = 0\n",
    "    for p in range(min_p, max_p + 1):\n",
    "        for d in range(arima_para_dict[col][1], arima_para_dict[col][1]+1):\n",
    "            for q in range(min_q, max_q + 1):\n",
    "                error_chk = True\n",
    "                try:\n",
    "                    arima = sm.tsa.ARIMA(ts, order=(p, d, q)).fit(dist=False)\n",
    "                except ValueError:\n",
    "                    error_chk = False\n",
    "                except:\n",
    "                    error_chk = False\n",
    "                if error_chk:\n",
    "                    test_results.iloc[num][\"p\"] = p\n",
    "                    test_results.iloc[num][\"d\"] = d\n",
    "                    test_results.iloc[num][\"q\"] = q\n",
    "                    test_results.iloc[num][\"aic\"] = arima.aic\n",
    "                    num = num + 1\n",
    "    tmp_res = test_results[test_results.aic == min(test_results.aic)]\n",
    "    arima_para_dict[col][0] = int(tmp_res['p'])\n",
    "    arima_para_dict[col][1] = int(tmp_res['d'])\n",
    "    arima_para_dict[col][2] = int(tmp_res['q']) "
   ]
  },
  {
   "cell_type": "markdown",
   "metadata": {},
   "source": [
    "# ARIMAモデル訓練"
   ]
  },
  {
   "cell_type": "code",
   "execution_count": null,
   "metadata": {},
   "outputs": [],
   "source": [
    "import warnings\n",
    "warnings.filterwarnings('ignore') # 警告非表示（収束：ConvergenceWarning）\n",
    "\n",
    "for col in train_col:\n",
    "    ts = df[col]\n",
    "    p = arima_para_dict[col][0]\n",
    "    d = arima_para_dict[col][1]\n",
    "    q = arima_para_dict[col][2]\n",
    "    try:\n",
    "        arima_train = sm.tsa.ARIMA(ts, order=(p, d, q), missing='drop').fit(dist=False)\n",
    "    except ValueError:\n",
    "        pass\n",
    "    except:\n",
    "        pass\n",
    "    arima_predict = arima_train.predict('2019-11-24')\n",
    "    arima_para_dict[col][3] = arima_predict[0]"
   ]
  },
  {
   "cell_type": "code",
   "execution_count": null,
   "metadata": {},
   "outputs": [],
   "source": [
    "submission_dict = {}\n",
    "for col in train_col:\n",
    "    if arima_para_dict[col][1] == 0:\n",
    "        submission_dict[col] = arima_para_dict[col][3]\n",
    "    elif arima_para_dict[col][1] == 1:\n",
    "        submission_dict[col] = float(df[col][-1])+arima_para_dict[col][3]\n",
    "    else:\n",
    "        submission_dict[col] = float(df[col][-2])+arima_para_dict[col][3]"
   ]
  },
  {
   "cell_type": "code",
   "execution_count": null,
   "metadata": {},
   "outputs": [],
   "source": [
    "# 提出ファイル作成\n",
    "submission_df = submission_df.fillna(0)\n",
    "submission_col = submission_df\n",
    "for id in range(len(submission_df)):\n",
    "    col = submission_df.iloc[id]['id']\n",
    "    submission_df.at[id, 'y'] = submission_dict[col]\n",
    "\n",
    "submission_df = submission_df.where(submission_df['y'] > 0, 0)"
   ]
  },
  {
   "cell_type": "code",
   "execution_count": null,
   "metadata": {},
   "outputs": [],
   "source": [
    "# 提出ファイル書き出し\n",
    "submission_df.to_csv('submission.csv', index=False)"
   ]
  },
  {
   "cell_type": "code",
   "execution_count": null,
   "metadata": {},
   "outputs": [],
   "source": []
  }
 ],
 "metadata": {
  "kernelspec": {
   "display_name": "Python 3",
   "language": "python",
   "name": "python3"
  },
  "language_info": {
   "codemirror_mode": {
    "name": "ipython",
    "version": 3
   },
   "file_extension": ".py",
   "mimetype": "text/x-python",
   "name": "python",
   "nbconvert_exporter": "python",
   "pygments_lexer": "ipython3",
   "version": "3.7.4"
  }
 },
 "nbformat": 4,
 "nbformat_minor": 4
}
