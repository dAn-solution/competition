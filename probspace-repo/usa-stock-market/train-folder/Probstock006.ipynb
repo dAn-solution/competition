{
 "cells": [
  {
   "cell_type": "markdown",
   "metadata": {},
   "source": [
    "## ProbSpace米国株式市場　将来株価予測 DT-SN LightGBM Base line(LB=0.03781)"
   ]
  },
  {
   "cell_type": "code",
   "execution_count": null,
   "metadata": {},
   "outputs": [],
   "source": [
    "# set configulation\n",
    "\n",
    "import os\n",
    "\n",
    "class Config():\n",
    "    root_path = '/content/drive/MyDrive/Probdata/stock'\n",
    "    input_path = os.path.join(root_path)\n",
    "    model_path = os.path.join(root_path, 'model')\n",
    "    result_path = os.path.join(root_path, 'result')\n",
    "    seed = 42"
   ]
  },
  {
   "cell_type": "code",
   "execution_count": null,
   "metadata": {},
   "outputs": [],
   "source": [
    "# create dirs\n",
    "\n",
    "for dir in [Config.model_path, Config.result_path]:\n",
    "    os.makedirs(dir, exist_ok=True)"
   ]
  },
  {
   "cell_type": "code",
   "execution_count": null,
   "metadata": {},
   "outputs": [],
   "source": [
    "import pandas as pd\n",
    "import numpy as np\n",
    "import random\n",
    "import matplotlib.pylab as plt\n",
    "import scipy.stats as stats\n",
    "from sklearn.preprocessing import LabelEncoder\n",
    "from sklearn.model_selection import GroupKFold\n",
    "import lightgbm as lgb"
   ]
  },
  {
   "cell_type": "code",
   "execution_count": null,
   "metadata": {},
   "outputs": [],
   "source": [
    "pd.set_option('max_columns', 50)\n",
    "plt.style.use('bmh')"
   ]
  },
  {
   "cell_type": "code",
   "execution_count": null,
   "metadata": {},
   "outputs": [],
   "source": [
    "def seed_everything(seed=2021):\n",
    "    random.seed(seed)\n",
    "    os.environ['PYTHONHASHSEED'] = str(seed)\n",
    "    np.random.seed(seed)\n",
    "\n",
    "seed_everything(Config.seed)"
   ]
  },
  {
   "cell_type": "code",
   "execution_count": null,
   "metadata": {},
   "outputs": [],
   "source": [
    "train_df = pd.read_csv(os.path.join(Config.input_path, 'train_data.csv'))\n",
    "print(train_df.shape)"
   ]
  },
  {
   "cell_type": "code",
   "execution_count": null,
   "metadata": {},
   "outputs": [],
   "source": [
    "display(train_df)\n",
    "train_df.info()"
   ]
  },
  {
   "cell_type": "code",
   "execution_count": null,
   "metadata": {},
   "outputs": [],
   "source": [
    "print('NaNの合計:', train_df.isnull().sum().sum())\n",
    "print('NaNを含む行', train_df.index[train_df.isnull().any(axis=1)].to_list())"
   ]
  },
  {
   "cell_type": "code",
   "execution_count": null,
   "metadata": {},
   "outputs": [],
   "source": [
    "train_df['Date'] = pd.to_datetime(train_df['Date'])\n",
    "train_df = train_df.dropna().set_index('Date')\n",
    "display(train_df)\n",
    "train_df.info()"
   ]
  },
  {
   "cell_type": "markdown",
   "metadata": {},
   "source": [
    "#### 株価は、対数価格の増減が正規分布に従うそうですので、検証します まずは、対数価格を見てみます"
   ]
  },
  {
   "cell_type": "code",
   "execution_count": null,
   "metadata": {},
   "outputs": [],
   "source": [
    "train_df = train_df.apply(np.log1p)"
   ]
  },
  {
   "cell_type": "code",
   "execution_count": null,
   "metadata": {},
   "outputs": [],
   "source": [
    "# プロットしてみる\n",
    "\n",
    "cols = ['VGSH', 'JEF', 'IVR']\n",
    "train_df[cols].plot(figsize=(15,5))"
   ]
  },
  {
   "cell_type": "code",
   "execution_count": null,
   "metadata": {},
   "outputs": [],
   "source": [
    "train_df[cols].plot(\n",
    "    subplots=True, kind='hist', bins=100,\n",
    "    figsize=(15,10)\n",
    ")"
   ]
  },
  {
   "cell_type": "code",
   "execution_count": null,
   "metadata": {},
   "outputs": [],
   "source": [
    "# 対数価格そのものは正規分布から外れている\n",
    "\n",
    "def qqplot(dist):\n",
    "    plt.figure(figsize=(5,5))\n",
    "    stats.probplot(dist, dist='norm', plot=plt)\n",
    "    plt.show()\n",
    "\n",
    "for col in cols:\n",
    "    qqplot(train_df[col])"
   ]
  },
  {
   "cell_type": "code",
   "execution_count": null,
   "metadata": {},
   "outputs": [],
   "source": [
    "# １週前からの増減をプロットしてみる\n",
    "\n",
    "train_df[cols].diff(1).fillna(0).plot(figsize=(15,5))"
   ]
  },
  {
   "cell_type": "code",
   "execution_count": null,
   "metadata": {},
   "outputs": [],
   "source": [
    "train_df[cols].diff(1).fillna(0).plot(\n",
    "    subplots=True, kind='hist', bins=100,\n",
    "    figsize=(15,10)\n",
    ")"
   ]
  },
  {
   "cell_type": "code",
   "execution_count": null,
   "metadata": {},
   "outputs": [],
   "source": [
    "# 正規分布に近づいた\n",
    "\n",
    "for col in cols:\n",
    "    qqplot(train_df[col].diff(1).fillna(0))"
   ]
  },
  {
   "cell_type": "code",
   "execution_count": null,
   "metadata": {},
   "outputs": [],
   "source": [
    "# 銘柄ごとに分散が異なるので標準偏差で割ったものをプロットしてみる\n",
    "\n",
    "train_df[cols].diff(1).fillna(0).apply(lambda x: x / x.std()).plot(\n",
    "    figsize=(15,5)\n",
    ")"
   ]
  },
  {
   "cell_type": "code",
   "execution_count": null,
   "metadata": {},
   "outputs": [],
   "source": [
    "train_df[cols].diff(1).fillna(0).apply(lambda x: x / x.std()).plot(\n",
    "    subplots=True, kind='hist', bins=100,\n",
    "    figsize=(15,10)\n",
    ")"
   ]
  },
  {
   "cell_type": "code",
   "execution_count": null,
   "metadata": {},
   "outputs": [],
   "source": [
    "# 年ごとの平均株価\n",
    "\n",
    "df = pd.Series(index=range(2012,2019+1), dtype=np.float64)\n",
    "for y in df.index:\n",
    "    df[y] = train_df.loc[train_df.index.year == y].mean().mean()\n",
    "df.plot(figsize=(15,10))"
   ]
  },
  {
   "cell_type": "code",
   "execution_count": null,
   "metadata": {},
   "outputs": [],
   "source": [
    "# 月ごとの平均株価\n",
    "\n",
    "df = pd.Series(index=range(1,12+1), dtype=np.float64)\n",
    "for m in df.index:\n",
    "    df[m] = train_df.loc[train_df.index.month == m].mean().mean()\n",
    "df.plot(figsize=(15,10))"
   ]
  },
  {
   "cell_type": "code",
   "execution_count": null,
   "metadata": {},
   "outputs": [],
   "source": [
    "# 週ごとの平均株価\n",
    "\n",
    "df = pd.Series(index=range(1,52+1), dtype=np.float64)\n",
    "for w in df.index:\n",
    "    df[w] = train_df.loc[train_df.index.isocalendar().week == w].mean().mean()\n",
    "df.plot(figsize=(15,10))"
   ]
  },
  {
   "cell_type": "code",
   "execution_count": null,
   "metadata": {},
   "outputs": [],
   "source": [
    "# company_list.csvを読み込む\n",
    "\n",
    "company_df = pd.read_csv(os.path.join(Config.input_path, 'company_list.csv')).rename(columns={'Symbol':'id'})\n",
    "print(company_df.shape)"
   ]
  },
  {
   "cell_type": "code",
   "execution_count": null,
   "metadata": {},
   "outputs": [],
   "source": [
    "# 表示してみる\n",
    "\n",
    "display(company_df)\n",
    "company_df.info()"
   ]
  },
  {
   "cell_type": "code",
   "execution_count": null,
   "metadata": {},
   "outputs": [],
   "source": [
    "# company_dfに含まれない銘柄\n",
    "\n",
    "not_exist = list(train_df.columns[~train_df.columns.isin(company_df['id'])])\n",
    "print(not_exist)"
   ]
  },
  {
   "cell_type": "code",
   "execution_count": null,
   "metadata": {},
   "outputs": [],
   "source": [
    "# とりあえずダミー追加\n",
    "\n",
    "for col in not_exist:\n",
    "    company_df = company_df.append({'id':col}, ignore_index=True)"
   ]
  },
  {
   "cell_type": "code",
   "execution_count": null,
   "metadata": {},
   "outputs": [],
   "source": [
    "# なんか多い\n",
    "\n",
    "company_df = company_df[company_df['id'].isin(train_df.columns)]\n",
    "print(len(company_df))"
   ]
  },
  {
   "cell_type": "code",
   "execution_count": null,
   "metadata": {},
   "outputs": [],
   "source": [
    "# 重複してるのを表示\n",
    "\n",
    "company_df[company_df.duplicated(subset='id', keep=False)].sort_values('id')"
   ]
  },
  {
   "cell_type": "code",
   "execution_count": null,
   "metadata": {},
   "outputs": [],
   "source": [
    "# 重複は最大２個でListだけが異なっているので、Listを２列にする\n",
    "\n",
    "company_df['List1'] = company_df[['id', 'List']].groupby('id').transform(lambda x: x.iloc[0])\n",
    "company_df['List2'] = company_df[['id', 'List']].groupby('id').transform(lambda x: x.iloc[-1])\n",
    "company_df = company_df.drop('List', axis=1).drop_duplicates(subset='id').reset_index(drop=True)\n",
    "display(company_df)\n",
    "company_df.info()"
   ]
  },
  {
   "cell_type": "code",
   "execution_count": null,
   "metadata": {},
   "outputs": [],
   "source": [
    "# 各Sectorの銘柄数\n",
    "\n",
    "company_df['Sector'].fillna('nothing', inplace=True)\n",
    "company_df['Sector'].value_counts().plot(kind='bar', figsize=(15,10))"
   ]
  },
  {
   "cell_type": "code",
   "execution_count": null,
   "metadata": {},
   "outputs": [],
   "source": [
    "# Sectorごとの平均株価\n",
    "\n",
    "tmp_df = pd.DataFrame(columns=company_df['Sector'].value_counts().index)\n",
    "for sector in tmp_df.columns:\n",
    "    tmp_df[sector] = train_df[company_df.loc[company_df['Sector'] == sector, 'id']].mean(axis=1)\n",
    "tmp_df.plot(figsize=(15,10))"
   ]
  },
  {
   "cell_type": "code",
   "execution_count": null,
   "metadata": {},
   "outputs": [],
   "source": [
    "# 各Industryの銘柄数(上位１０種類）\n",
    "\n",
    "company_df['Industry'].fillna('nothing', inplace=True)\n",
    "company_df['Industry'].value_counts()[:10].plot(kind='bar', figsize=(15,10))"
   ]
  },
  {
   "cell_type": "code",
   "execution_count": null,
   "metadata": {},
   "outputs": [],
   "source": [
    "# Industryごとの平均株価(上位１０種類）\n",
    "\n",
    "tmp_df = pd.DataFrame(columns=company_df['Industry'].value_counts().index[:10])\n",
    "for sector in tmp_df.columns:\n",
    "    tmp_df[sector] = train_df[company_df.loc[company_df['Industry'] == sector, 'id']].mean(axis=1)\n",
    "tmp_df.plot(figsize=(15,10))"
   ]
  },
  {
   "cell_type": "code",
   "execution_count": null,
   "metadata": {},
   "outputs": [],
   "source": [
    "# 各Listの銘柄数\n",
    "\n",
    "company_df['List1'].fillna('nothing', inplace=True)\n",
    "company_df['List1'].value_counts().plot(kind='bar', figsize=(15,10))"
   ]
  },
  {
   "cell_type": "code",
   "execution_count": null,
   "metadata": {},
   "outputs": [],
   "source": [
    "# Listごとの平均株価\n",
    "\n",
    "tmp_df = pd.DataFrame(columns=company_df['List1'].value_counts().index)\n",
    "for sector in tmp_df.columns:\n",
    "    tmp_df[sector] = train_df[company_df.loc[company_df['List1'] == sector, 'id']].mean(axis=1)\n",
    "tmp_df.plot(figsize=(15,10))"
   ]
  },
  {
   "cell_type": "code",
   "execution_count": null,
   "metadata": {},
   "outputs": [],
   "source": []
  },
  {
   "cell_type": "code",
   "execution_count": null,
   "metadata": {},
   "outputs": [],
   "source": []
  },
  {
   "cell_type": "code",
   "execution_count": null,
   "metadata": {},
   "outputs": [],
   "source": []
  }
 ],
 "metadata": {
  "kernelspec": {
   "display_name": "Python 3",
   "language": "python",
   "name": "python3"
  },
  "language_info": {
   "codemirror_mode": {
    "name": "ipython",
    "version": 3
   },
   "file_extension": ".py",
   "mimetype": "text/x-python",
   "name": "python",
   "nbconvert_exporter": "python",
   "pygments_lexer": "ipython3",
   "version": "3.7.4"
  }
 },
 "nbformat": 4,
 "nbformat_minor": 4
}
