{
  "nbformat": 4,
  "nbformat_minor": 0,
  "metadata": {
    "colab": {
      "name": "Probstock005.ipynb",
      "provenance": [],
      "collapsed_sections": [],
      "authorship_tag": "ABX9TyPWP3b0Cfr72ObT9sInjwxF",
      "include_colab_link": true
    },
    "kernelspec": {
      "name": "python3",
      "display_name": "Python 3"
    },
    "language_info": {
      "name": "python"
    }
  },
  "cells": [
    {
      "cell_type": "markdown",
      "metadata": {
        "id": "view-in-github",
        "colab_type": "text"
      },
      "source": [
        "<a href=\"https://colab.research.google.com/github/dAn-solution/competition/blob/main/Probstock005.ipynb\" target=\"_parent\"><img src=\"https://colab.research.google.com/assets/colab-badge.svg\" alt=\"Open In Colab\"/></a>"
      ]
    },
    {
      "cell_type": "markdown",
      "source": [
        "# 米国株式市場 将来株価予測 ProbSpace コンペティション\n",
        "### ARIMAモデル　Public Score: 0.04938　Private Score:0.05368 "
      ],
      "metadata": {
        "id": "pSh9BVy3-PAx"
      }
    },
    {
      "cell_type": "markdown",
      "source": [
        "- 期間：2021.9.21 〜 2021.12.12\n",
        "- 課題：2011/11/13～2019/11/17週の計419週間の米国株データから、2019/11/24週の終値を予測する。銘柄数は3,278。\n",
        "- 評価方法：評価関数RMSLE(Root Mean Squared Logarithmic Error)\n",
        "   $$\n",
        "   \\sqrt{\\frac{1}{n} \\sum_{i=0}^{n}(log(Pred_i + 1) - log(Act_i - 1))^2}\n",
        "   $$\n",
        "- データ：train_data.csv, company_list.csv, submission_template.csv"
      ],
      "metadata": {
        "id": "1rgOBPwg-bBR"
      }
    },
    {
      "cell_type": "markdown",
      "source": [
        "- はじめは時系列データであるのでARモデルARIMAモデルを構築してはどうかと実施\n",
        "- しかしPublic Scoreが0.04938と悪く、次のLightGBMへ"
      ],
      "metadata": {
        "id": "jOH-4pkn_MrH"
      }
    },
    {
      "cell_type": "code",
      "metadata": {
        "id": "ST8wUD_3vWJt",
        "colab": {
          "base_uri": "https://localhost:8080/"
        },
        "outputId": "8e9eced0-6dc4-40b2-ab71-115e41be36f9"
      },
      "source": [
        "from google.colab import drive\n",
        "drive.mount('/content/drive')"
      ],
      "execution_count": null,
      "outputs": [
        {
          "output_type": "stream",
          "name": "stdout",
          "text": [
            "Mounted at /content/drive\n"
          ]
        }
      ]
    },
    {
      "cell_type": "code",
      "metadata": {
        "id": "JcjT0a7IvjgD",
        "colab": {
          "base_uri": "https://localhost:8080/"
        },
        "outputId": "e70f36d6-b8fb-4fbc-8ae4-65d3cbd54e94"
      },
      "source": [
        "import numpy as np\n",
        "import pandas as pd\n",
        "import matplotlib.pyplot as plt\n",
        "\n",
        "import datetime\n",
        "from scipy import stats\n",
        "\n",
        "import statsmodels.api as sm\n",
        "from statsmodels.tsa.arima_model import ARIMA\n",
        "from statsmodels.tsa.stattools import adfuller"
      ],
      "execution_count": null,
      "outputs": [
        {
          "output_type": "stream",
          "name": "stderr",
          "text": [
            "/usr/local/lib/python3.7/dist-packages/statsmodels/tools/_testing.py:19: FutureWarning: pandas.util.testing is deprecated. Use the functions in the public API at pandas.testing instead.\n",
            "  import pandas.util.testing as tm\n"
          ]
        }
      ]
    },
    {
      "cell_type": "code",
      "metadata": {
        "id": "jt-XYjsvvtqI"
      },
      "source": [
        "# データ読み込み\n",
        "df = pd.read_csv(\"/content/drive/MyDrive/Probdata/stock/train_data.csv\", encoding=\"cp932\")\n",
        "submission_df = pd.read_csv(\"/content/drive/MyDrive/Probdata/stock/submission_template.csv\", encoding=\"cp932\")"
      ],
      "execution_count": null,
      "outputs": []
    },
    {
      "cell_type": "code",
      "metadata": {
        "id": "qmjX_FPpv6Ss"
      },
      "source": [
        "# 日付をインデックスへ\n",
        "df.index = pd.to_datetime(df['Date'])\n",
        "del df['Date']\n",
        "df = df[:-1]"
      ],
      "execution_count": null,
      "outputs": []
    },
    {
      "cell_type": "markdown",
      "metadata": {
        "id": "98m_H7C2wO-7"
      },
      "source": [
        "### KPSS検定、ADF検定"
      ]
    },
    {
      "cell_type": "code",
      "metadata": {
        "id": "IJhkPg0MwLhS"
      },
      "source": [
        "# 訓練データとテストデータを分ける\n",
        "train_df = df[:-1]\n",
        "test_df = df[-1:]\n",
        "\n",
        "train_col = train_df.columns"
      ],
      "execution_count": null,
      "outputs": []
    },
    {
      "cell_type": "markdown",
      "metadata": {
        "id": "O-zcOeAjwXqM"
      },
      "source": [
        "### KPSS ADF 検定による階差の決定"
      ]
    },
    {
      "cell_type": "code",
      "metadata": {
        "id": "OnQtadwpwapW"
      },
      "source": [
        "# KPSS ADF検定の実施\n",
        "import warnings\n",
        "warnings.filterwarnings('ignore') # 警告非表示（収束：ConvergenceWarning）\n",
        "\n",
        "kpss_adf_dict = {}\n",
        "for col in train_col:\n",
        "    ts = train_df[col]\n",
        "    for num in range(3):\n",
        "        #KPSS検定\n",
        "        stats, p_value, lags, crit = sm.tsa.kpss(ts, lags=1)\n",
        "        #ADF検定\n",
        "        results = sm.tsa.stattools.adfuller(ts, maxlag=1)\n",
        "        kpss_adf_dict[(col, num)] = [p_value, results[0], results[1], results[4]['5%']]\n",
        "        diff_data = ts.diff(periods=num+1)\n",
        "        diff_data = diff_data.dropna()\n",
        "        ts = diff_data"
      ],
      "execution_count": null,
      "outputs": []
    },
    {
      "cell_type": "code",
      "metadata": {
        "id": "1uTYs8lKwrNI"
      },
      "source": [
        "# KPSS ADFの結果から階差を決定\n",
        "test_dict = {}\n",
        "\n",
        "for col in train_col:\n",
        "    chk_ndarray = np.array(['','',''])\n",
        "    for num in range(3):\n",
        "        if kpss_adf_dict[(col, num)][2] < 0.05:\n",
        "            if kpss_adf_dict[(col, num)][0] < 0.05:\n",
        "                chk_ndarray[num] = 'C'\n",
        "            else:\n",
        "                chk_ndarray[num] = 'A'\n",
        "        else:\n",
        "            if kpss_adf_dict[(col, num)][0] < 0.05:\n",
        "                chk_ndarray[num] = 'B'\n",
        "            else:\n",
        "                chk_ndarray[num] = 'D'\n",
        "    test_dict[col] = [chk_ndarray[0], chk_ndarray[1], chk_ndarray[2]]"
      ],
      "execution_count": null,
      "outputs": []
    },
    {
      "cell_type": "code",
      "metadata": {
        "id": "ZaMwaRDXw9Ep"
      },
      "source": [
        "# 銘柄毎の階差を作成\n",
        "# arima_para_dict: 銘柄：p(AR次数)、i(階差)、q(MA次数)、解答\n",
        "arima_para_dict = {}\n",
        "\n",
        "for col in train_col:\n",
        "    if 'A' in test_dict[col]:\n",
        "        arima_para_dict[col] = [0,test_dict[col].index('A'),0,0]\n",
        "    elif 'C' in test_dict[col]:\n",
        "        arima_para_dict[col] = [0,test_dict[col].index('C'),0,0]\n",
        "    elif 'D' in test_dict[col]:\n",
        "        arima_para_dict[col] = [0,test_dict[col].index('D'),0,0]\n",
        "    else:\n",
        "        arima_para_dict[col] = [0,test_dict[col].index('B'),0,0]"
      ],
      "execution_count": null,
      "outputs": []
    },
    {
      "cell_type": "markdown",
      "metadata": {
        "id": "_qEvGaaqxM5j"
      },
      "source": [
        "### ARIMA"
      ]
    },
    {
      "cell_type": "code",
      "metadata": {
        "id": "84lATOO5xNp3"
      },
      "source": [
        "# SARIMAパラメター最適化（総当たりチェック）\n",
        "import warnings\n",
        "warnings.filterwarnings('ignore') # 警告非表示（収束：ConvergenceWarning）\n",
        "\n",
        "# パラメータ範囲\n",
        "# order(p, d, q)\n",
        "min_p = 1; max_p = 2 \n",
        "min_d = 0; max_d = 2\n",
        "min_q = 0; max_q = 2\n",
        "\n",
        "test_pattern = (max_p - min_p +1)*(max_q - min_q + 1)*(max_d - min_d + 1)\n",
        "\n",
        "for col in train_col:\n",
        "    ts = train_df[col] # 時系列データ\n",
        "    test_results = pd.DataFrame(index=range(test_pattern), columns=[\"p\", \"d\", \"q\", \"aic\"])\n",
        "    num = 0\n",
        "    for p in range(min_p, max_p + 1):\n",
        "        for d in range(arima_para_dict[col][1], arima_para_dict[col][1]+1):\n",
        "            for q in range(min_q, max_q + 1):\n",
        "                error_chk = True\n",
        "                try:\n",
        "                    arima = sm.tsa.ARIMA(ts, order=(p, d, q)).fit(dist=False)\n",
        "                except ValueError:\n",
        "                    error_chk = False\n",
        "                except:\n",
        "                    error_chk = False\n",
        "                if error_chk:\n",
        "                    test_results.iloc[num][\"p\"] = p\n",
        "                    test_results.iloc[num][\"d\"] = d\n",
        "                    test_results.iloc[num][\"q\"] = q\n",
        "                    test_results.iloc[num][\"aic\"] = arima.aic\n",
        "                    num = num + 1\n",
        "    tmp_res = test_results[test_results.aic == min(test_results.aic)]\n",
        "    arima_para_dict[col][0] = int(tmp_res['p'])\n",
        "    arima_para_dict[col][1] = int(tmp_res['d'])\n",
        "    arima_para_dict[col][2] = int(tmp_res['q']) "
      ],
      "execution_count": null,
      "outputs": []
    },
    {
      "cell_type": "code",
      "metadata": {
        "id": "tq00yMNbxftd"
      },
      "source": [
        "# # arima_para_dictの退避\n",
        "# import pickle\n",
        "\n",
        "# with open(\"/content/drive/MyDrive/Probdata/stock/arima_para_dict_1.pkl\",\"wb\") as f:\n",
        "#     pickle.dump(arima_para_dict, f)"
      ],
      "execution_count": null,
      "outputs": []
    },
    {
      "cell_type": "code",
      "metadata": {
        "id": "0UibMeFqoWtn"
      },
      "source": [
        "# # arima_para_dictの呼び出し\n",
        "# import pickle\n",
        "\n",
        "# with open(\"/content/drive/MyDrive/Probdata/stock/arima_para_dict_1.pkl\", 'rb') as f:\n",
        "#     arima_para_dict = pickle.load(f)"
      ],
      "execution_count": null,
      "outputs": []
    },
    {
      "cell_type": "markdown",
      "metadata": {
        "id": "yuvmRyHxC0xj"
      },
      "source": [
        "# ARIMAモデル訓練"
      ]
    },
    {
      "cell_type": "code",
      "metadata": {
        "id": "pUWxxenZC6tm"
      },
      "source": [
        "import warnings\n",
        "warnings.filterwarnings('ignore') # 警告非表示（収束：ConvergenceWarning）\n",
        "\n",
        "for col in train_col:\n",
        "    ts = df[col]\n",
        "    p = arima_para_dict[col][0]\n",
        "    d = arima_para_dict[col][1]\n",
        "    q = arima_para_dict[col][2]\n",
        "    try:\n",
        "        arima_train = sm.tsa.ARIMA(ts, order=(p, d, q), missing='drop').fit(dist=False)\n",
        "    except ValueError:\n",
        "        pass\n",
        "    except:\n",
        "        pass\n",
        "    arima_predict = arima_train.predict('2019-11-24')\n",
        "    arima_para_dict[col][3] = arima_predict[0]"
      ],
      "execution_count": null,
      "outputs": []
    },
    {
      "cell_type": "markdown",
      "source": [
        "### 提出ファイル作成"
      ],
      "metadata": {
        "id": "bt72Qtyr7Pgj"
      }
    },
    {
      "cell_type": "code",
      "metadata": {
        "id": "jlN2_7HxC0xk"
      },
      "source": [
        "submission_dict = {}\n",
        "for col in train_col:\n",
        "    if arima_para_dict[col][1] == 0:\n",
        "        submission_dict[col] = arima_para_dict[col][3]\n",
        "    elif arima_para_dict[col][1] == 1:\n",
        "        submission_dict[col] = float(df[col][-1])+arima_para_dict[col][3]\n",
        "    else:\n",
        "        submission_dict[col] = float(df[col][-2])+arima_para_dict[col][3]"
      ],
      "execution_count": null,
      "outputs": []
    },
    {
      "cell_type": "code",
      "metadata": {
        "id": "tEQzMtKTC0xm"
      },
      "source": [
        "submission_df = submission_df.fillna(0)\n",
        "submission_col = submission_df\n",
        "for id in range(len(submission_df)):\n",
        "    col = submission_df.iloc[id]['id']\n",
        "    submission_df.at[id, 'y'] = submission_dict[col]\n",
        "\n",
        "submission_df = submission_df.where(submission_df['y'] > 0, 0)"
      ],
      "execution_count": null,
      "outputs": []
    },
    {
      "cell_type": "code",
      "metadata": {
        "id": "PLZl_Xb-C0xo"
      },
      "source": [
        "submission_df.to_csv('/content/drive/MyDrive/Probdata/stock/submission.csv', index=False)"
      ],
      "execution_count": null,
      "outputs": []
    },
    {
      "cell_type": "code",
      "metadata": {
        "id": "gAn9fN6CSI7p",
        "colab": {
          "base_uri": "https://localhost:8080/",
          "height": 422
        },
        "outputId": "3db920fe-dbbd-4ce7-a8ac-97e08d5bd0bb"
      },
      "source": [
        "submission_df"
      ],
      "execution_count": null,
      "outputs": [
        {
          "output_type": "execute_result",
          "data": {
            "text/html": [
              "\n",
              "  <div id=\"df-c889223b-7169-46aa-937e-55d50b131a78\">\n",
              "    <div class=\"colab-df-container\">\n",
              "      <div>\n",
              "<style scoped>\n",
              "    .dataframe tbody tr th:only-of-type {\n",
              "        vertical-align: middle;\n",
              "    }\n",
              "\n",
              "    .dataframe tbody tr th {\n",
              "        vertical-align: top;\n",
              "    }\n",
              "\n",
              "    .dataframe thead th {\n",
              "        text-align: right;\n",
              "    }\n",
              "</style>\n",
              "<table border=\"1\" class=\"dataframe\">\n",
              "  <thead>\n",
              "    <tr style=\"text-align: right;\">\n",
              "      <th></th>\n",
              "      <th>id</th>\n",
              "      <th>y</th>\n",
              "    </tr>\n",
              "  </thead>\n",
              "  <tbody>\n",
              "    <tr>\n",
              "      <th>0</th>\n",
              "      <td>VGSH</td>\n",
              "      <td>60.449711</td>\n",
              "    </tr>\n",
              "    <tr>\n",
              "      <th>1</th>\n",
              "      <td>JEF</td>\n",
              "      <td>20.519051</td>\n",
              "    </tr>\n",
              "    <tr>\n",
              "      <th>2</th>\n",
              "      <td>IVZ</td>\n",
              "      <td>17.054987</td>\n",
              "    </tr>\n",
              "    <tr>\n",
              "      <th>3</th>\n",
              "      <td>KTCC</td>\n",
              "      <td>5.513375</td>\n",
              "    </tr>\n",
              "    <tr>\n",
              "      <th>4</th>\n",
              "      <td>FBZ</td>\n",
              "      <td>14.764878</td>\n",
              "    </tr>\n",
              "    <tr>\n",
              "      <th>...</th>\n",
              "      <td>...</td>\n",
              "      <td>...</td>\n",
              "    </tr>\n",
              "    <tr>\n",
              "      <th>3273</th>\n",
              "      <td>TYG</td>\n",
              "      <td>16.946909</td>\n",
              "    </tr>\n",
              "    <tr>\n",
              "      <th>3274</th>\n",
              "      <td>VIRC</td>\n",
              "      <td>3.756956</td>\n",
              "    </tr>\n",
              "    <tr>\n",
              "      <th>3275</th>\n",
              "      <td>BIS</td>\n",
              "      <td>17.245222</td>\n",
              "    </tr>\n",
              "    <tr>\n",
              "      <th>3276</th>\n",
              "      <td>WOOD</td>\n",
              "      <td>64.560033</td>\n",
              "    </tr>\n",
              "    <tr>\n",
              "      <th>3277</th>\n",
              "      <td>MASI</td>\n",
              "      <td>153.233539</td>\n",
              "    </tr>\n",
              "  </tbody>\n",
              "</table>\n",
              "<p>3278 rows × 2 columns</p>\n",
              "</div>\n",
              "      <button class=\"colab-df-convert\" onclick=\"convertToInteractive('df-c889223b-7169-46aa-937e-55d50b131a78')\"\n",
              "              title=\"Convert this dataframe to an interactive table.\"\n",
              "              style=\"display:none;\">\n",
              "        \n",
              "  <svg xmlns=\"http://www.w3.org/2000/svg\" height=\"24px\"viewBox=\"0 0 24 24\"\n",
              "       width=\"24px\">\n",
              "    <path d=\"M0 0h24v24H0V0z\" fill=\"none\"/>\n",
              "    <path d=\"M18.56 5.44l.94 2.06.94-2.06 2.06-.94-2.06-.94-.94-2.06-.94 2.06-2.06.94zm-11 1L8.5 8.5l.94-2.06 2.06-.94-2.06-.94L8.5 2.5l-.94 2.06-2.06.94zm10 10l.94 2.06.94-2.06 2.06-.94-2.06-.94-.94-2.06-.94 2.06-2.06.94z\"/><path d=\"M17.41 7.96l-1.37-1.37c-.4-.4-.92-.59-1.43-.59-.52 0-1.04.2-1.43.59L10.3 9.45l-7.72 7.72c-.78.78-.78 2.05 0 2.83L4 21.41c.39.39.9.59 1.41.59.51 0 1.02-.2 1.41-.59l7.78-7.78 2.81-2.81c.8-.78.8-2.07 0-2.86zM5.41 20L4 18.59l7.72-7.72 1.47 1.35L5.41 20z\"/>\n",
              "  </svg>\n",
              "      </button>\n",
              "      \n",
              "  <style>\n",
              "    .colab-df-container {\n",
              "      display:flex;\n",
              "      flex-wrap:wrap;\n",
              "      gap: 12px;\n",
              "    }\n",
              "\n",
              "    .colab-df-convert {\n",
              "      background-color: #E8F0FE;\n",
              "      border: none;\n",
              "      border-radius: 50%;\n",
              "      cursor: pointer;\n",
              "      display: none;\n",
              "      fill: #1967D2;\n",
              "      height: 32px;\n",
              "      padding: 0 0 0 0;\n",
              "      width: 32px;\n",
              "    }\n",
              "\n",
              "    .colab-df-convert:hover {\n",
              "      background-color: #E2EBFA;\n",
              "      box-shadow: 0px 1px 2px rgba(60, 64, 67, 0.3), 0px 1px 3px 1px rgba(60, 64, 67, 0.15);\n",
              "      fill: #174EA6;\n",
              "    }\n",
              "\n",
              "    [theme=dark] .colab-df-convert {\n",
              "      background-color: #3B4455;\n",
              "      fill: #D2E3FC;\n",
              "    }\n",
              "\n",
              "    [theme=dark] .colab-df-convert:hover {\n",
              "      background-color: #434B5C;\n",
              "      box-shadow: 0px 1px 3px 1px rgba(0, 0, 0, 0.15);\n",
              "      filter: drop-shadow(0px 1px 2px rgba(0, 0, 0, 0.3));\n",
              "      fill: #FFFFFF;\n",
              "    }\n",
              "  </style>\n",
              "\n",
              "      <script>\n",
              "        const buttonEl =\n",
              "          document.querySelector('#df-c889223b-7169-46aa-937e-55d50b131a78 button.colab-df-convert');\n",
              "        buttonEl.style.display =\n",
              "          google.colab.kernel.accessAllowed ? 'block' : 'none';\n",
              "\n",
              "        async function convertToInteractive(key) {\n",
              "          const element = document.querySelector('#df-c889223b-7169-46aa-937e-55d50b131a78');\n",
              "          const dataTable =\n",
              "            await google.colab.kernel.invokeFunction('convertToInteractive',\n",
              "                                                     [key], {});\n",
              "          if (!dataTable) return;\n",
              "\n",
              "          const docLinkHtml = 'Like what you see? Visit the ' +\n",
              "            '<a target=\"_blank\" href=https://colab.research.google.com/notebooks/data_table.ipynb>data table notebook</a>'\n",
              "            + ' to learn more about interactive tables.';\n",
              "          element.innerHTML = '';\n",
              "          dataTable['output_type'] = 'display_data';\n",
              "          await google.colab.output.renderOutput(dataTable, element);\n",
              "          const docLink = document.createElement('div');\n",
              "          docLink.innerHTML = docLinkHtml;\n",
              "          element.appendChild(docLink);\n",
              "        }\n",
              "      </script>\n",
              "    </div>\n",
              "  </div>\n",
              "  "
            ],
            "text/plain": [
              "        id           y\n",
              "0     VGSH   60.449711\n",
              "1      JEF   20.519051\n",
              "2      IVZ   17.054987\n",
              "3     KTCC    5.513375\n",
              "4      FBZ   14.764878\n",
              "...    ...         ...\n",
              "3273   TYG   16.946909\n",
              "3274  VIRC    3.756956\n",
              "3275   BIS   17.245222\n",
              "3276  WOOD   64.560033\n",
              "3277  MASI  153.233539\n",
              "\n",
              "[3278 rows x 2 columns]"
            ]
          },
          "metadata": {},
          "execution_count": 14
        }
      ]
    },
    {
      "cell_type": "code",
      "metadata": {
        "id": "VnwA_0WYNUM5"
      },
      "source": [
        ""
      ],
      "execution_count": null,
      "outputs": []
    }
  ]
}