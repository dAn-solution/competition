{
  "nbformat": 4,
  "nbformat_minor": 0,
  "metadata": {
    "colab": {
      "name": "Prob_kiva_010.ipynb",
      "provenance": [],
      "collapsed_sections": [],
      "authorship_tag": "ABX9TyMEO9/4PXXaF4vkD2t6zHFY",
      "include_colab_link": true
    },
    "kernelspec": {
      "name": "python3",
      "display_name": "Python 3"
    },
    "language_info": {
      "name": "python"
    }
  },
  "cells": [
    {
      "cell_type": "markdown",
      "metadata": {
        "id": "view-in-github",
        "colab_type": "text"
      },
      "source": [
        "<a href=\"https://colab.research.google.com/github/dAn-solution/competition/blob/main/Prob_kiva_010.ipynb\" target=\"_parent\"><img src=\"https://colab.research.google.com/assets/colab-badge.svg\" alt=\"Open In Colab\"/></a>"
      ]
    },
    {
      "cell_type": "markdown",
      "source": [
        "## Kiva／クラウドファンディングの資金調達額予測\n",
        "- PCAを実施する　以下の4種類\n",
        "- csvデータのエンコードした8項目\n",
        "- tagデータからの60項目\n",
        "- BERTで作成したベクトルデータ64項目\n",
        "- BERTで作成したベクトルデータ64項目(018)\n",
        "- PCAの各要素は寄与率80％を超える項目数にする"
      ],
      "metadata": {
        "id": "kFq5qAP7WdSh"
      }
    },
    {
      "cell_type": "markdown",
      "source": [
        "### Google Driveのマウント"
      ],
      "metadata": {
        "id": "z3i_RnGaXDUA"
      }
    },
    {
      "cell_type": "code",
      "execution_count": null,
      "metadata": {
        "colab": {
          "base_uri": "https://localhost:8080/"
        },
        "id": "C8d7KOVLytug",
        "outputId": "18fea685-21c0-4e57-8751-ba5580bcbf6c"
      },
      "outputs": [
        {
          "output_type": "stream",
          "name": "stdout",
          "text": [
            "Mounted at /content/drive\n",
            "/content/drive/My Drive\n"
          ]
        }
      ],
      "source": [
        "from google.colab import drive\n",
        "drive.mount('/content/drive')\n",
        "%cd /content/drive/'My Drive'"
      ]
    },
    {
      "cell_type": "markdown",
      "source": [
        "### ライブラリのインストール、インポート"
      ],
      "metadata": {
        "id": "o0AdcnrcYc9B"
      }
    },
    {
      "cell_type": "code",
      "source": [
        "# カレントディレクトリを変更\n",
        "import os\n",
        "os.chdir('/content/drive/My Drive/Probdata/kiva/')\n",
        "print(os.getcwd())"
      ],
      "metadata": {
        "colab": {
          "base_uri": "https://localhost:8080/"
        },
        "id": "iQDKgs9J8R9V",
        "outputId": "1e0db1f1-4b69-413e-d065-2131e6928bc8"
      },
      "execution_count": null,
      "outputs": [
        {
          "output_type": "stream",
          "name": "stdout",
          "text": [
            "/content/drive/My Drive/Probdata/kiva\n"
          ]
        }
      ]
    },
    {
      "cell_type": "code",
      "source": [
        "class Config():\n",
        "    root_path = './'\n",
        "    input_path = os.path.join(root_path, 'input')\n",
        "    output_path = os.path.join(root_path, 'output')\n",
        "    result_path = os.path.join(root_path, 'result')\n",
        "    bert_model_name = 'bert-base-uncased'\n",
        "    seed = 42\n",
        "    debug = False"
      ],
      "metadata": {
        "id": "2o3IsyPC8vQY"
      },
      "execution_count": null,
      "outputs": []
    },
    {
      "cell_type": "code",
      "execution_count": null,
      "metadata": {
        "id": "S-hr_gTyWTqP"
      },
      "outputs": [],
      "source": [
        "import pandas as pd\n",
        "import numpy as np\n",
        "\n",
        "import matplotlib.pyplot as plt\n",
        "\n",
        "import sklearn\n",
        "from sklearn import preprocessing\n",
        "\n",
        "from sklearn.decomposition import PCA"
      ]
    },
    {
      "cell_type": "markdown",
      "source": [
        "### データの読み込み"
      ],
      "metadata": {
        "id": "FzO7JqIdZKj_"
      }
    },
    {
      "cell_type": "code",
      "source": [
        "train_df = pd.read_csv(f'{Config.input_path}/train.csv')\n",
        "test_df = pd.read_csv(f'{Config.input_path}/test.csv')\n",
        "train_bert_df = pd.read_csv(f'{Config.result_path}/train_bert_009.csv')\n",
        "test_bert_df = pd.read_csv(f'{Config.result_path}/test_bert_009.csv')\n",
        "train_bert_018_df = pd.read_csv(f'{Config.result_path}/train_bert_018.csv')\n",
        "test_bert_018_df = pd.read_csv(f'{Config.result_path}/test_bert_018.csv')\n",
        "\n",
        "train_bert_df = train_bert_df.drop('Unnamed: 0', axis=1)\n",
        "test_bert_df = test_bert_df.drop('Unnamed: 0', axis=1)\n",
        "train_bert_018_df = train_bert_018_df.drop('Unnamed: 0', axis=1)\n",
        "test_bert_018_df = test_bert_018_df.drop('Unnamed: 0', axis=1)"
      ],
      "metadata": {
        "id": "YO-Ba_l2Y6L9"
      },
      "execution_count": null,
      "outputs": []
    },
    {
      "cell_type": "markdown",
      "source": [
        "## PCAの実行"
      ],
      "metadata": {
        "id": "yRwdPyK_LfCK"
      }
    },
    {
      "cell_type": "markdown",
      "source": [
        "#### tag項目のPCA"
      ],
      "metadata": {
        "id": "czybnsgwnXWo"
      }
    },
    {
      "cell_type": "code",
      "source": [
        "train_tags_df = train_df['TAGS'].str.get_dummies(sep=',').add_prefix('tag_')\n",
        "test_tags_df = test_df['TAGS'].str.get_dummies(sep=',').add_prefix('tag_')"
      ],
      "metadata": {
        "id": "lqls6D97DM4X"
      },
      "execution_count": null,
      "outputs": []
    },
    {
      "cell_type": "code",
      "source": [
        "# 各々に無い項目を追加\n",
        "lack_col = list(set(train_tags_df.columns) - set(test_tags_df.columns))\n",
        "if len(lack_col) != 0:\n",
        "    for col in lack_col:\n",
        "        test_tags_df[col] = [0]*len(test_tags_df)\n",
        "\n",
        "lack_col = list(set(test_tags_df.columns) - set(train_tags_df.columns))\n",
        "if len(lack_col) != 0:\n",
        "    for col in lack_col:\n",
        "        train_tags_df[col] = [0]*len(train_tags_df)"
      ],
      "metadata": {
        "id": "uTCfnhI7q44a"
      },
      "execution_count": null,
      "outputs": []
    },
    {
      "cell_type": "code",
      "source": [
        "train_tags_df.head(1)"
      ],
      "metadata": {
        "colab": {
          "base_uri": "https://localhost:8080/",
          "height": 196
        },
        "id": "GBEMPG8C1uvf",
        "outputId": "b9e45c26-041c-4b94-b961-05d280355fb3"
      },
      "execution_count": null,
      "outputs": [
        {
          "output_type": "execute_result",
          "data": {
            "text/html": [
              "\n",
              "  <div id=\"df-3edb0dc9-19bd-4c62-883d-e9424d59b7ef\">\n",
              "    <div class=\"colab-df-container\">\n",
              "      <div>\n",
              "<style scoped>\n",
              "    .dataframe tbody tr th:only-of-type {\n",
              "        vertical-align: middle;\n",
              "    }\n",
              "\n",
              "    .dataframe tbody tr th {\n",
              "        vertical-align: top;\n",
              "    }\n",
              "\n",
              "    .dataframe thead th {\n",
              "        text-align: right;\n",
              "    }\n",
              "</style>\n",
              "<table border=\"1\" class=\"dataframe\">\n",
              "  <thead>\n",
              "    <tr style=\"text-align: right;\">\n",
              "      <th></th>\n",
              "      <th>tag_ #Animals</th>\n",
              "      <th>tag_ #Biz Durable Asset</th>\n",
              "      <th>tag_ #Eco-friendly</th>\n",
              "      <th>tag_ #Elderly</th>\n",
              "      <th>tag_ #Fabrics</th>\n",
              "      <th>tag_ #Female Education</th>\n",
              "      <th>tag_ #First Loan</th>\n",
              "      <th>tag_ #Health and Sanitation</th>\n",
              "      <th>tag_ #Job Creator</th>\n",
              "      <th>tag_ #Orphan</th>\n",
              "      <th>tag_ #Parent</th>\n",
              "      <th>tag_ #Refugee</th>\n",
              "      <th>tag_ #Repair Renew Replace</th>\n",
              "      <th>tag_ #Repeat Borrower</th>\n",
              "      <th>tag_ #Schooling</th>\n",
              "      <th>tag_ #Single</th>\n",
              "      <th>tag_ #Single Parent</th>\n",
              "      <th>tag_ #Supporting Family</th>\n",
              "      <th>tag_ #Sustainable Ag</th>\n",
              "      <th>tag_ #Technology</th>\n",
              "      <th>tag_ #Trees</th>\n",
              "      <th>tag_ #US immigrant</th>\n",
              "      <th>tag_ #Unique</th>\n",
              "      <th>tag_ #Vegan</th>\n",
              "      <th>tag_ #Widowed</th>\n",
              "      <th>tag_ #Woman-Owned Business</th>\n",
              "      <th>tag_ user_favorite</th>\n",
              "      <th>tag_ volunteer_like</th>\n",
              "      <th>tag_ volunteer_pick</th>\n",
              "      <th>tag_#Animals</th>\n",
              "      <th>tag_#Biz Durable Asset</th>\n",
              "      <th>tag_#Eco-friendly</th>\n",
              "      <th>tag_#Elderly</th>\n",
              "      <th>tag_#Fabrics</th>\n",
              "      <th>tag_#Female Education</th>\n",
              "      <th>tag_#First Loan</th>\n",
              "      <th>tag_#Health and Sanitation</th>\n",
              "      <th>tag_#Job Creator</th>\n",
              "      <th>tag_#Orphan</th>\n",
              "      <th>tag_#Parent</th>\n",
              "      <th>tag_#Refugee</th>\n",
              "      <th>tag_#Repair Renew Replace</th>\n",
              "      <th>tag_#Repeat Borrower</th>\n",
              "      <th>tag_#Schooling</th>\n",
              "      <th>tag_#Single</th>\n",
              "      <th>tag_#Single Parent</th>\n",
              "      <th>tag_#Supporting Family</th>\n",
              "      <th>tag_#Sustainable Ag</th>\n",
              "      <th>tag_#Technology</th>\n",
              "      <th>tag_#Trees</th>\n",
              "      <th>tag_#US immigrant</th>\n",
              "      <th>tag_#Unique</th>\n",
              "      <th>tag_#Vegan</th>\n",
              "      <th>tag_#Widowed</th>\n",
              "      <th>tag_#Woman-Owned Business</th>\n",
              "      <th>tag_user_favorite</th>\n",
              "      <th>tag_volunteer_like</th>\n",
              "      <th>tag_volunteer_pick</th>\n",
              "      <th>tag_#US Black-Owned Business</th>\n",
              "      <th>tag_ #US Black-Owned Business</th>\n",
              "    </tr>\n",
              "  </thead>\n",
              "  <tbody>\n",
              "    <tr>\n",
              "      <th>0</th>\n",
              "      <td>0</td>\n",
              "      <td>0</td>\n",
              "      <td>0</td>\n",
              "      <td>0</td>\n",
              "      <td>0</td>\n",
              "      <td>0</td>\n",
              "      <td>0</td>\n",
              "      <td>0</td>\n",
              "      <td>0</td>\n",
              "      <td>0</td>\n",
              "      <td>0</td>\n",
              "      <td>0</td>\n",
              "      <td>0</td>\n",
              "      <td>0</td>\n",
              "      <td>0</td>\n",
              "      <td>0</td>\n",
              "      <td>0</td>\n",
              "      <td>0</td>\n",
              "      <td>0</td>\n",
              "      <td>0</td>\n",
              "      <td>0</td>\n",
              "      <td>0</td>\n",
              "      <td>0</td>\n",
              "      <td>0</td>\n",
              "      <td>0</td>\n",
              "      <td>0</td>\n",
              "      <td>0</td>\n",
              "      <td>0</td>\n",
              "      <td>0</td>\n",
              "      <td>0</td>\n",
              "      <td>0</td>\n",
              "      <td>0</td>\n",
              "      <td>1</td>\n",
              "      <td>0</td>\n",
              "      <td>0</td>\n",
              "      <td>0</td>\n",
              "      <td>0</td>\n",
              "      <td>0</td>\n",
              "      <td>0</td>\n",
              "      <td>0</td>\n",
              "      <td>0</td>\n",
              "      <td>0</td>\n",
              "      <td>0</td>\n",
              "      <td>0</td>\n",
              "      <td>0</td>\n",
              "      <td>0</td>\n",
              "      <td>0</td>\n",
              "      <td>0</td>\n",
              "      <td>0</td>\n",
              "      <td>0</td>\n",
              "      <td>0</td>\n",
              "      <td>0</td>\n",
              "      <td>0</td>\n",
              "      <td>0</td>\n",
              "      <td>0</td>\n",
              "      <td>0</td>\n",
              "      <td>0</td>\n",
              "      <td>0</td>\n",
              "      <td>0</td>\n",
              "      <td>0</td>\n",
              "    </tr>\n",
              "  </tbody>\n",
              "</table>\n",
              "</div>\n",
              "      <button class=\"colab-df-convert\" onclick=\"convertToInteractive('df-3edb0dc9-19bd-4c62-883d-e9424d59b7ef')\"\n",
              "              title=\"Convert this dataframe to an interactive table.\"\n",
              "              style=\"display:none;\">\n",
              "        \n",
              "  <svg xmlns=\"http://www.w3.org/2000/svg\" height=\"24px\"viewBox=\"0 0 24 24\"\n",
              "       width=\"24px\">\n",
              "    <path d=\"M0 0h24v24H0V0z\" fill=\"none\"/>\n",
              "    <path d=\"M18.56 5.44l.94 2.06.94-2.06 2.06-.94-2.06-.94-.94-2.06-.94 2.06-2.06.94zm-11 1L8.5 8.5l.94-2.06 2.06-.94-2.06-.94L8.5 2.5l-.94 2.06-2.06.94zm10 10l.94 2.06.94-2.06 2.06-.94-2.06-.94-.94-2.06-.94 2.06-2.06.94z\"/><path d=\"M17.41 7.96l-1.37-1.37c-.4-.4-.92-.59-1.43-.59-.52 0-1.04.2-1.43.59L10.3 9.45l-7.72 7.72c-.78.78-.78 2.05 0 2.83L4 21.41c.39.39.9.59 1.41.59.51 0 1.02-.2 1.41-.59l7.78-7.78 2.81-2.81c.8-.78.8-2.07 0-2.86zM5.41 20L4 18.59l7.72-7.72 1.47 1.35L5.41 20z\"/>\n",
              "  </svg>\n",
              "      </button>\n",
              "      \n",
              "  <style>\n",
              "    .colab-df-container {\n",
              "      display:flex;\n",
              "      flex-wrap:wrap;\n",
              "      gap: 12px;\n",
              "    }\n",
              "\n",
              "    .colab-df-convert {\n",
              "      background-color: #E8F0FE;\n",
              "      border: none;\n",
              "      border-radius: 50%;\n",
              "      cursor: pointer;\n",
              "      display: none;\n",
              "      fill: #1967D2;\n",
              "      height: 32px;\n",
              "      padding: 0 0 0 0;\n",
              "      width: 32px;\n",
              "    }\n",
              "\n",
              "    .colab-df-convert:hover {\n",
              "      background-color: #E2EBFA;\n",
              "      box-shadow: 0px 1px 2px rgba(60, 64, 67, 0.3), 0px 1px 3px 1px rgba(60, 64, 67, 0.15);\n",
              "      fill: #174EA6;\n",
              "    }\n",
              "\n",
              "    [theme=dark] .colab-df-convert {\n",
              "      background-color: #3B4455;\n",
              "      fill: #D2E3FC;\n",
              "    }\n",
              "\n",
              "    [theme=dark] .colab-df-convert:hover {\n",
              "      background-color: #434B5C;\n",
              "      box-shadow: 0px 1px 3px 1px rgba(0, 0, 0, 0.15);\n",
              "      filter: drop-shadow(0px 1px 2px rgba(0, 0, 0, 0.3));\n",
              "      fill: #FFFFFF;\n",
              "    }\n",
              "  </style>\n",
              "\n",
              "      <script>\n",
              "        const buttonEl =\n",
              "          document.querySelector('#df-3edb0dc9-19bd-4c62-883d-e9424d59b7ef button.colab-df-convert');\n",
              "        buttonEl.style.display =\n",
              "          google.colab.kernel.accessAllowed ? 'block' : 'none';\n",
              "\n",
              "        async function convertToInteractive(key) {\n",
              "          const element = document.querySelector('#df-3edb0dc9-19bd-4c62-883d-e9424d59b7ef');\n",
              "          const dataTable =\n",
              "            await google.colab.kernel.invokeFunction('convertToInteractive',\n",
              "                                                     [key], {});\n",
              "          if (!dataTable) return;\n",
              "\n",
              "          const docLinkHtml = 'Like what you see? Visit the ' +\n",
              "            '<a target=\"_blank\" href=https://colab.research.google.com/notebooks/data_table.ipynb>data table notebook</a>'\n",
              "            + ' to learn more about interactive tables.';\n",
              "          element.innerHTML = '';\n",
              "          dataTable['output_type'] = 'display_data';\n",
              "          await google.colab.output.renderOutput(dataTable, element);\n",
              "          const docLink = document.createElement('div');\n",
              "          docLink.innerHTML = docLinkHtml;\n",
              "          element.appendChild(docLink);\n",
              "        }\n",
              "      </script>\n",
              "    </div>\n",
              "  </div>\n",
              "  "
            ],
            "text/plain": [
              "   tag_ #Animals  ...  tag_ #US Black-Owned Business\n",
              "0              0  ...                              0\n",
              "\n",
              "[1 rows x 60 columns]"
            ]
          },
          "metadata": {},
          "execution_count": 8
        }
      ]
    },
    {
      "cell_type": "markdown",
      "source": [
        "- 寄与率測定"
      ],
      "metadata": {
        "id": "Cflwv2jjDm2K"
      }
    },
    {
      "cell_type": "code",
      "source": [
        "# 元の特徴量と同じ数で主成分分析\n",
        "pca = PCA(n_components=train_tags_df.shape[1])\n",
        "pca.fit(train_tags_df)\n",
        "plt.bar([n for n in range(1, len(pca.explained_variance_ratio_)+1)], pca.explained_variance_ratio_)"
      ],
      "metadata": {
        "id": "Et8v7lgtDmPi",
        "colab": {
          "base_uri": "https://localhost:8080/",
          "height": 283
        },
        "outputId": "1f5208a4-d950-43a4-af6d-84a1074b70a3"
      },
      "execution_count": null,
      "outputs": [
        {
          "output_type": "execute_result",
          "data": {
            "text/plain": [
              "<BarContainer object of 60 artists>"
            ]
          },
          "metadata": {},
          "execution_count": 9
        },
        {
          "output_type": "display_data",
          "data": {
            "image/png": "[encoded data removed]",
            "text/plain": [
              "<Figure size 432x288 with 1 Axes>"
            ]
          },
          "metadata": {
            "needs_background": "light"
          }
        }
      ]
    },
    {
      "cell_type": "code",
      "source": [
        "# 寄与率の確認\n",
        "np.set_printoptions(precision=5, suppress=True) # numpyの小数点以下表示桁数と、指数表記設定\n",
        "print('explained variance ratio: {}'.format(pca.explained_variance_ratio_))"
      ],
      "metadata": {
        "id": "-4axlpykDmHn",
        "colab": {
          "base_uri": "https://localhost:8080/"
        },
        "outputId": "b5b5cff9-247b-4dd4-d58e-4f471d4532a1"
      },
      "execution_count": null,
      "outputs": [
        {
          "output_type": "stream",
          "name": "stdout",
          "text": [
            "explained variance ratio: [0.13605 0.08288 0.07433 0.06617 0.05261 0.0503  0.04107 0.03817 0.0361\n",
            " 0.03336 0.03098 0.02758 0.02554 0.02356 0.02205 0.02049 0.01922 0.01609\n",
            " 0.01404 0.01348 0.01276 0.01217 0.01105 0.01038 0.01006 0.00917 0.00861\n",
            " 0.00838 0.00807 0.00783 0.00707 0.00616 0.00557 0.00486 0.00464 0.00436\n",
            " 0.00423 0.00404 0.00368 0.00351 0.00343 0.0032  0.00294 0.00283 0.00277\n",
            " 0.0024  0.00214 0.0021  0.00182 0.0016  0.00137 0.00109 0.00069 0.00039\n",
            " 0.00024 0.0002  0.00009 0.00004 0.      0.     ]\n"
          ]
        }
      ]
    },
    {
      "cell_type": "code",
      "source": [
        "# 50%以上の項目数を計算\n",
        "cnt = 0\n",
        "pca_tag_cnt = 0\n",
        "for i in pca.explained_variance_ratio_:\n",
        "    cnt += i\n",
        "    pca_tag_cnt += 1\n",
        "    if cnt > 0.5:\n",
        "        print(i, cnt, pca_tag_cnt)\n",
        "        break"
      ],
      "metadata": {
        "id": "6g4CUqH8DmAJ",
        "colab": {
          "base_uri": "https://localhost:8080/"
        },
        "outputId": "7065f2a2-6220-428d-f13b-49b503428ac1"
      },
      "execution_count": null,
      "outputs": [
        {
          "output_type": "stream",
          "name": "stdout",
          "text": [
            "0.04107139498499741 0.5034207212554568 7\n"
          ]
        }
      ]
    },
    {
      "cell_type": "code",
      "source": [
        "#PCA\n",
        "pca = PCA(n_components=pca_tag_cnt)\n",
        "train_tags_pca = pca.fit_transform(train_tags_df.values)\n",
        "test_tags_pca = pca.transform(test_tags_df.values)"
      ],
      "metadata": {
        "id": "2X5VmSM8MjcK"
      },
      "execution_count": null,
      "outputs": []
    },
    {
      "cell_type": "markdown",
      "source": [
        "#### BERTしたデータのPCA"
      ],
      "metadata": {
        "id": "wqss_jdx1Fbp"
      }
    },
    {
      "cell_type": "markdown",
      "source": [
        "- 寄与率測定"
      ],
      "metadata": {
        "id": "G1Xm0vZPdgSi"
      }
    },
    {
      "cell_type": "code",
      "source": [
        "# 元の特徴量と同じ数で主成分分析\n",
        "pca = PCA(n_components=train_bert_df.shape[1])\n",
        "pca.fit(train_bert_df)\n",
        "plt.bar([n for n in range(1, len(pca.explained_variance_ratio_)+1)], pca.explained_variance_ratio_)"
      ],
      "metadata": {
        "colab": {
          "base_uri": "https://localhost:8080/",
          "height": 283
        },
        "outputId": "6f29472e-69fe-48d3-f791-12af2f4b7d14",
        "id": "3Fc_DbSddkXd"
      },
      "execution_count": null,
      "outputs": [
        {
          "output_type": "execute_result",
          "data": {
            "text/plain": [
              "<BarContainer object of 64 artists>"
            ]
          },
          "metadata": {},
          "execution_count": 14
        },
        {
          "output_type": "display_data",
          "data": {
            "image/png": "[encoded data removed]",
            "text/plain": [
              "<Figure size 432x288 with 1 Axes>"
            ]
          },
          "metadata": {
            "needs_background": "light"
          }
        }
      ]
    },
    {
      "cell_type": "code",
      "source": [
        "# 寄与率の確認\n",
        "np.set_printoptions(precision=5, suppress=True) # numpyの小数点以下表示桁数と、指数表記設定\n",
        "print('explained variance ratio: {}'.format(pca.explained_variance_ratio_))"
      ],
      "metadata": {
        "colab": {
          "base_uri": "https://localhost:8080/"
        },
        "outputId": "edd1aa4d-d944-4e22-dd8d-fe6b6f0c544a",
        "id": "rxsQYEiZfaS-"
      },
      "execution_count": null,
      "outputs": [
        {
          "output_type": "stream",
          "name": "stdout",
          "text": [
            "explained variance ratio: [0.47211 0.06357 0.05658 0.03545 0.02996 0.02559 0.02195 0.02031 0.01578\n",
            " 0.01437 0.01352 0.01238 0.01082 0.01011 0.00971 0.00901 0.00824 0.00782\n",
            " 0.00761 0.00686 0.00668 0.00624 0.0059  0.00586 0.0055  0.00522 0.00498\n",
            " 0.00487 0.00465 0.00452 0.00441 0.00417 0.00412 0.00392 0.00377 0.00367\n",
            " 0.00359 0.00336 0.0033  0.00323 0.00313 0.00303 0.00297 0.00293 0.00274\n",
            " 0.00273 0.00264 0.00261 0.00248 0.00239 0.00235 0.0023  0.00222 0.0022\n",
            " 0.00212 0.0021  0.00207 0.00203 0.00196 0.00193 0.00189 0.00185 0.00182\n",
            " 0.00178]\n"
          ]
        }
      ]
    },
    {
      "cell_type": "code",
      "source": [
        "cnt = 0\n",
        "pca_bert_cnt = 0\n",
        "for i in pca.explained_variance_ratio_:\n",
        "    cnt += i\n",
        "    pca_bert_cnt += 1\n",
        "    if cnt > 0.6:\n",
        "        print(i, cnt, pca_bert_cnt)\n",
        "        break"
      ],
      "metadata": {
        "colab": {
          "base_uri": "https://localhost:8080/"
        },
        "outputId": "0b0bc94a-a849-4c2f-ba44-a8f9a38460e1",
        "id": "eyqqvOS2ff_a"
      },
      "execution_count": null,
      "outputs": [
        {
          "output_type": "stream",
          "name": "stdout",
          "text": [
            "0.0354468378679219 0.6277080857091283 4\n"
          ]
        }
      ]
    },
    {
      "cell_type": "code",
      "source": [
        "#PCA\n",
        "pca = PCA(n_components=pca_bert_cnt)\n",
        "train_bert_pca = pca.fit_transform(train_bert_df.values)\n",
        "test_bert_pca = pca.transform(test_bert_df.values)"
      ],
      "metadata": {
        "id": "RNencgkxfuQQ"
      },
      "execution_count": null,
      "outputs": []
    },
    {
      "cell_type": "markdown",
      "source": [
        "#### tags,BERTデータ以外のPCA"
      ],
      "metadata": {
        "id": "2QQo1EGpgDxu"
      }
    },
    {
      "cell_type": "code",
      "source": [
        "# trainデータを目的変数に分割\n",
        "\n",
        "train_columns = [\"ORIGINAL_LANGUAGE\", \"ACTIVITY_NAME\", \"SECTOR_NAME\", \"COUNTRY_CODE\",\"CURRENCY_POLICY\",\n",
        "       \"CURRENCY\",\"REPAYMENT_INTERVAL\", \"DISTRIBUTION_MODEL\"]\n",
        "\n",
        "train_X = train_df[train_columns]\n",
        "test_X = test_df[train_columns]"
      ],
      "metadata": {
        "id": "DsihriA9L-7-"
      },
      "execution_count": null,
      "outputs": []
    },
    {
      "cell_type": "code",
      "source": [
        "# 説明変数をラベルエンコーディング\n",
        "for column in train_X.columns:\n",
        "  le = preprocessing.LabelEncoder()\n",
        "  train_target_df = train_X[column]\n",
        "  test_target_df = test_X[column]  \n",
        "  le.fit(train_target_df)\n",
        "  train_label_encoded_df = le.transform(train_target_df)\n",
        "  test_label_encoded_df = le.transform(test_target_df)\n",
        "  train_X[column] = pd.Series(train_label_encoded_df).astype(\"category\")\n",
        "  test_X[column] = pd.Series(test_label_encoded_df).astype(\"category\")"
      ],
      "metadata": {
        "colab": {
          "base_uri": "https://localhost:8080/"
        },
        "id": "5aP-2uL8lw9b",
        "outputId": "f6439cde-3f76-4277-afe7-7906229d4979"
      },
      "execution_count": null,
      "outputs": [
        {
          "output_type": "stream",
          "name": "stderr",
          "text": [
            "/usr/local/lib/python3.7/dist-packages/ipykernel_launcher.py:9: SettingWithCopyWarning: \n",
            "A value is trying to be set on a copy of a slice from a DataFrame.\n",
            "Try using .loc[row_indexer,col_indexer] = value instead\n",
            "\n",
            "See the caveats in the documentation: https://pandas.pydata.org/pandas-docs/stable/user_guide/indexing.html#returning-a-view-versus-a-copy\n",
            "  if __name__ == '__main__':\n",
            "/usr/local/lib/python3.7/dist-packages/ipykernel_launcher.py:10: SettingWithCopyWarning: \n",
            "A value is trying to be set on a copy of a slice from a DataFrame.\n",
            "Try using .loc[row_indexer,col_indexer] = value instead\n",
            "\n",
            "See the caveats in the documentation: https://pandas.pydata.org/pandas-docs/stable/user_guide/indexing.html#returning-a-view-versus-a-copy\n",
            "  # Remove the CWD from sys.path while we load stuff.\n"
          ]
        }
      ]
    },
    {
      "cell_type": "markdown",
      "source": [
        "- 寄与率測定"
      ],
      "metadata": {
        "id": "Tg02EZeShwXQ"
      }
    },
    {
      "cell_type": "code",
      "source": [
        "# 元の特徴量と同じ数で主成分分析\n",
        "pca = PCA(n_components=train_X.shape[1])\n",
        "pca.fit(train_X)\n",
        "plt.bar([n for n in range(1, len(pca.explained_variance_ratio_)+1)], pca.explained_variance_ratio_)"
      ],
      "metadata": {
        "colab": {
          "base_uri": "https://localhost:8080/",
          "height": 284
        },
        "outputId": "75d91650-3382-4bad-d482-16d64eb3344b",
        "id": "gqFOblCWh27L"
      },
      "execution_count": null,
      "outputs": [
        {
          "output_type": "execute_result",
          "data": {
            "text/plain": [
              "<BarContainer object of 8 artists>"
            ]
          },
          "metadata": {},
          "execution_count": 21
        },
        {
          "output_type": "display_data",
          "data": {
            "image/png": "[encoded data removed]",
            "text/plain": [
              "<Figure size 432x288 with 1 Axes>"
            ]
          },
          "metadata": {
            "needs_background": "light"
          }
        }
      ]
    },
    {
      "cell_type": "code",
      "source": [
        "# 寄与率の確認\n",
        "np.set_printoptions(precision=5, suppress=True) # numpyの小数点以下表示桁数と、指数表記設定\n",
        "print('explained variance ratio: {}'.format(pca.explained_variance_ratio_))"
      ],
      "metadata": {
        "colab": {
          "base_uri": "https://localhost:8080/"
        },
        "outputId": "1c9ac2ff-add7-4665-c9d2-2fee40ffd12d",
        "id": "umEZZqhBiN1l"
      },
      "execution_count": null,
      "outputs": [
        {
          "output_type": "stream",
          "name": "stdout",
          "text": [
            "explained variance ratio: [0.77424 0.18804 0.02674 0.0095  0.00129 0.00014 0.00004 0.     ]\n"
          ]
        }
      ]
    },
    {
      "cell_type": "code",
      "source": [
        "cnt = 0\n",
        "pca_X_cnt = 0\n",
        "for i in pca.explained_variance_ratio_:\n",
        "    cnt += i\n",
        "    pca_X_cnt += 1\n",
        "    if cnt > 0.8:\n",
        "        print(i, cnt, pca_X_cnt)\n",
        "        break"
      ],
      "metadata": {
        "colab": {
          "base_uri": "https://localhost:8080/"
        },
        "outputId": "27416a94-57e5-497d-c8a2-8cb2a8496c35",
        "id": "OTk1Um8siWJW"
      },
      "execution_count": null,
      "outputs": [
        {
          "output_type": "stream",
          "name": "stdout",
          "text": [
            "0.18804070728757535 0.9622840200971284 2\n"
          ]
        }
      ]
    },
    {
      "cell_type": "code",
      "source": [
        "#PCA\n",
        "pca = PCA(n_components=pca_X_cnt)\n",
        "train_X_pca = pca.fit_transform(train_X.values)\n",
        "test_X_pca = pca.transform(test_X.values)"
      ],
      "metadata": {
        "id": "pZRylPvDjaRk"
      },
      "execution_count": null,
      "outputs": []
    },
    {
      "cell_type": "markdown",
      "source": [
        "#### BERTしたデータのPCA(018)"
      ],
      "metadata": {
        "id": "wEj3qYQC8RRQ"
      }
    },
    {
      "cell_type": "code",
      "source": [
        "# 元の特徴量と同じ数で主成分分析\n",
        "pca = PCA(n_components=train_bert_018_df.shape[1])\n",
        "pca.fit(train_bert_018_df)\n",
        "plt.bar([n for n in range(1, len(pca.explained_variance_ratio_)+1)], pca.explained_variance_ratio_)"
      ],
      "metadata": {
        "colab": {
          "base_uri": "https://localhost:8080/",
          "height": 283
        },
        "outputId": "01d833b0-2707-4cae-f0bf-f059dcb5b19c",
        "id": "ASibr3oB8Zv-"
      },
      "execution_count": null,
      "outputs": [
        {
          "output_type": "execute_result",
          "data": {
            "text/plain": [
              "<BarContainer object of 64 artists>"
            ]
          },
          "metadata": {},
          "execution_count": 25
        },
        {
          "output_type": "display_data",
          "data": {
            "image/png": "[encoded data removed]",
            "text/plain": [
              "<Figure size 432x288 with 1 Axes>"
            ]
          },
          "metadata": {
            "needs_background": "light"
          }
        }
      ]
    },
    {
      "cell_type": "code",
      "source": [
        "# 寄与率の確認\n",
        "np.set_printoptions(precision=5, suppress=True) # numpyの小数点以下表示桁数と、指数表記設定\n",
        "print('explained variance ratio: {}'.format(pca.explained_variance_ratio_))"
      ],
      "metadata": {
        "colab": {
          "base_uri": "https://localhost:8080/"
        },
        "outputId": "c374e786-3555-4a06-fc5b-d1db3e4d0df6",
        "id": "LjdKoeV58nfS"
      },
      "execution_count": null,
      "outputs": [
        {
          "output_type": "stream",
          "name": "stdout",
          "text": [
            "explained variance ratio: [0.23065 0.10832 0.07608 0.06043 0.04814 0.03922 0.0325  0.02979 0.02493\n",
            " 0.02308 0.02196 0.01889 0.01769 0.01591 0.01488 0.01358 0.01232 0.01115\n",
            " 0.01051 0.00981 0.00969 0.00892 0.00829 0.00766 0.00727 0.00673 0.00657\n",
            " 0.0062  0.00606 0.00562 0.00546 0.00529 0.00495 0.00483 0.00465 0.00445\n",
            " 0.00425 0.00383 0.00379 0.00362 0.00351 0.00344 0.00335 0.00317 0.00311\n",
            " 0.00301 0.00292 0.00287 0.00276 0.00267 0.00265 0.00253 0.00249 0.00243\n",
            " 0.00234 0.00229 0.00225 0.00219 0.00211 0.00207 0.002   0.00199 0.00194\n",
            " 0.00193]\n"
          ]
        }
      ]
    },
    {
      "cell_type": "code",
      "source": [
        "cnt = 0\n",
        "pca_bert_cnt = 0\n",
        "for i in pca.explained_variance_ratio_:\n",
        "    cnt += i\n",
        "    pca_bert_cnt += 1\n",
        "    if cnt > 0.5:\n",
        "        print(i, cnt, pca_bert_cnt)\n",
        "        break"
      ],
      "metadata": {
        "colab": {
          "base_uri": "https://localhost:8080/"
        },
        "outputId": "add33e67-d6fc-45d4-cd61-9aca3b9e1994",
        "id": "S7ZDcds88wYl"
      },
      "execution_count": null,
      "outputs": [
        {
          "output_type": "stream",
          "name": "stdout",
          "text": [
            "0.048144917329223415 0.5236223434551631 5\n"
          ]
        }
      ]
    },
    {
      "cell_type": "code",
      "source": [
        "#PCA\n",
        "pca = PCA(n_components=pca_bert_cnt)\n",
        "train_bert_018_pca = pca.fit_transform(train_bert_018_df.values)\n",
        "test_bert_018_pca = pca.transform(test_bert_018_df.values)"
      ],
      "metadata": {
        "id": "GnaPUmG787ik"
      },
      "execution_count": null,
      "outputs": []
    },
    {
      "cell_type": "markdown",
      "source": [
        "## PCAデータの出力"
      ],
      "metadata": {
        "id": "ENnYNe7mjyPG"
      }
    },
    {
      "cell_type": "code",
      "source": [
        "np.save(f'{Config.result_path}/train_tags_pca', train_tags_pca)\n",
        "np.save(f'{Config.result_path}/test_tags_pca', test_tags_pca)\n",
        "np.save(f'{Config.result_path}/train_bert_pca', train_bert_pca)\n",
        "np.save(f'{Config.result_path}/test_bert_pca', test_bert_pca)\n",
        "np.save(f'{Config.result_path}/train_X_pca', train_X_pca)\n",
        "np.save(f'{Config.result_path}/test_X_pca', test_X_pca)"
      ],
      "metadata": {
        "id": "IeX3g9hgHpr2"
      },
      "execution_count": null,
      "outputs": []
    },
    {
      "cell_type": "code",
      "source": [
        "np.save(f'{Config.result_path}/train_bert_018_pca', train_bert_018_pca)\n",
        "np.save(f'{Config.result_path}/test_bert_018_pca', test_bert_018_pca)"
      ],
      "metadata": {
        "id": "p56mzXMzmqiG"
      },
      "execution_count": null,
      "outputs": []
    },
    {
      "cell_type": "code",
      "source": [
        ""
      ],
      "metadata": {
        "id": "N_NcHiyo9WHV"
      },
      "execution_count": null,
      "outputs": []
    }
  ]
}