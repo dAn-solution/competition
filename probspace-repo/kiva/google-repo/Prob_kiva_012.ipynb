{
  "nbformat": 4,
  "nbformat_minor": 0,
  "metadata": {
    "colab": {
      "name": "Prob_kiva_012.ipynb",
      "provenance": [],
      "collapsed_sections": [],
      "authorship_tag": "ABX9TyNJY28VNrNmbAyRULqgqB8c",
      "include_colab_link": true
    },
    "kernelspec": {
      "name": "python3",
      "display_name": "Python 3"
    },
    "language_info": {
      "name": "python"
    }
  },
  "cells": [
    {
      "cell_type": "markdown",
      "metadata": {
        "id": "view-in-github",
        "colab_type": "text"
      },
      "source": [
        "<a href=\"https://colab.research.google.com/github/dAn-solution/competition/blob/main/Prob_kiva_012.ipynb\" target=\"_parent\"><img src=\"https://colab.research.google.com/assets/colab-badge.svg\" alt=\"Open In Colab\"/></a>"
      ]
    },
    {
      "cell_type": "markdown",
      "source": [
        "## Kiva／クラウドファンディングの資金調達額予測\n",
        "- Ridge回帰 を実施"
      ],
      "metadata": {
        "id": "kFq5qAP7WdSh"
      }
    },
    {
      "cell_type": "markdown",
      "source": [
        "### Google Driveのマウント"
      ],
      "metadata": {
        "id": "eWGp_tz-pofW"
      }
    },
    {
      "cell_type": "code",
      "execution_count": null,
      "metadata": {
        "colab": {
          "base_uri": "https://localhost:8080/"
        },
        "id": "C8d7KOVLytug",
        "outputId": "88496f8b-7cbb-410d-a13d-749877ad6c26"
      },
      "outputs": [
        {
          "output_type": "stream",
          "name": "stdout",
          "text": [
            "Mounted at /content/drive\n",
            "/content/drive/My Drive\n"
          ]
        }
      ],
      "source": [
        "from google.colab import drive\n",
        "drive.mount('/content/drive')\n",
        "%cd /content/drive/'My Drive'"
      ]
    },
    {
      "cell_type": "markdown",
      "source": [
        "### ライブラリのインストール、インポート"
      ],
      "metadata": {
        "id": "o0AdcnrcYc9B"
      }
    },
    {
      "cell_type": "code",
      "source": [
        "# カレントディレクトリを変更\n",
        "import os\n",
        "os.chdir('/content/drive/My Drive/Probdata/kiva/')\n",
        "print(os.getcwd())"
      ],
      "metadata": {
        "colab": {
          "base_uri": "https://localhost:8080/"
        },
        "id": "iQDKgs9J8R9V",
        "outputId": "d5eb0b20-a85d-4f6d-e580-c3edcc1dde8b"
      },
      "execution_count": null,
      "outputs": [
        {
          "output_type": "stream",
          "name": "stdout",
          "text": [
            "/content/drive/My Drive/Probdata/kiva\n"
          ]
        }
      ]
    },
    {
      "cell_type": "code",
      "source": [
        "class Config():\n",
        "    root_path = './'\n",
        "    input_path = os.path.join(root_path, 'input')\n",
        "    output_path = os.path.join(root_path, 'output')\n",
        "    result_path = os.path.join(root_path, 'result')\n",
        "    bert_model_name = 'bert-base-uncased'\n",
        "    seed = 42\n",
        "    debug = False"
      ],
      "metadata": {
        "id": "2o3IsyPC8vQY"
      },
      "execution_count": null,
      "outputs": []
    },
    {
      "cell_type": "code",
      "execution_count": null,
      "metadata": {
        "id": "S-hr_gTyWTqP"
      },
      "outputs": [],
      "source": [
        "import pandas as pd\n",
        "import numpy as np\n",
        "import datetime\n",
        "import warnings\n",
        "\n",
        "import matplotlib.pyplot as plt\n",
        "\n",
        "import sklearn\n",
        "from sklearn.model_selection import StratifiedKFold\n",
        "from sklearn.model_selection import train_test_split\n",
        "from sklearn import preprocessing\n",
        "from sklearn.metrics import mean_absolute_error\n",
        "from sklearn.linear_model import Ridge"
      ]
    },
    {
      "cell_type": "markdown",
      "source": [
        "### データの読み込み"
      ],
      "metadata": {
        "id": "FzO7JqIdZKj_"
      }
    },
    {
      "cell_type": "code",
      "source": [
        "train_df = pd.read_csv(f'{Config.input_path}/train.csv')\n",
        "test_df = pd.read_csv(f'{Config.input_path}/test.csv')\n",
        "sample_df = pd.read_csv(f'{Config.input_path}/sample_submission.csv')\n",
        "\n",
        "train_tags_pca = np.load(f'{Config.result_path}/train_tags_pca.npy')\n",
        "test_tags_pca = np.load(f'{Config.result_path}/test_tags_pca.npy')\n",
        "train_bert_pca = np.load(f'{Config.result_path}/train_bert_pca.npy')\n",
        "test_bert_pca = np.load(f'{Config.result_path}/test_bert_pca.npy')\n",
        "train_bert_018_pca = np.load(f'{Config.result_path}/train_bert_018_pca.npy')\n",
        "test_bert_018_pca = np.load(f'{Config.result_path}/test_bert_018_pca.npy')\n",
        "\n",
        "train_X_pca = np.load(f'{Config.result_path}/train_X_pca.npy')\n",
        "test_X_pca = np.load(f'{Config.result_path}/test_X_pca.npy')"
      ],
      "metadata": {
        "id": "YO-Ba_l2Y6L9"
      },
      "execution_count": null,
      "outputs": []
    },
    {
      "cell_type": "markdown",
      "source": [
        "## Ridge回帰の実行"
      ],
      "metadata": {
        "id": "yRwdPyK_LfCK"
      }
    },
    {
      "cell_type": "markdown",
      "source": [
        "- tag項目の設定"
      ],
      "metadata": {
        "id": "czybnsgwnXWo"
      }
    },
    {
      "cell_type": "code",
      "source": [
        "# train_tags_df = train_df['TAGS'].str.get_dummies(sep=',').add_prefix('tag_')\n",
        "# test_tags_df = test_df['TAGS'].str.get_dummies(sep=',').add_prefix('tag_')"
      ],
      "metadata": {
        "id": "lqls6D97DM4X"
      },
      "execution_count": null,
      "outputs": []
    },
    {
      "cell_type": "code",
      "source": [
        "# # 各々に無い項目を追加\n",
        "# lack_col = list(set(train_tags_df.columns) - set(test_tags_df.columns))\n",
        "# if len(lack_col) != 0:\n",
        "#     for col in lack_col:\n",
        "#         test_tags_df[col] = [0]*len(test_tags_df)\n",
        "\n",
        "# lack_col = list(set(test_tags_df.columns) - set(train_tags_df.columns))\n",
        "# if len(lack_col) != 0:\n",
        "#     for col in lack_col:\n",
        "#         train_tags_df[col] = [0]*len(train_tags_df)"
      ],
      "metadata": {
        "id": "uTCfnhI7q44a"
      },
      "execution_count": null,
      "outputs": []
    },
    {
      "cell_type": "code",
      "source": [
        "# # trainデータを目的変数と説明変数に分割\n",
        "# train_columns = [\"ORIGINAL_LANGUAGE\", \"ACTIVITY_NAME\", \"SECTOR_NAME\", \"COUNTRY_CODE\",\"CURRENCY_POLICY\",\n",
        "#        \"CURRENCY\",\"REPAYMENT_INTERVAL\", \"DISTRIBUTION_MODEL\"]\n",
        "target_column = \"LOAN_AMOUNT\"\n",
        "\n",
        "y = train_df[target_column]\n",
        "# X = train_df[train_columns]\n",
        "# test_X = test_df[train_columns]"
      ],
      "metadata": {
        "id": "DsihriA9L-7-"
      },
      "execution_count": null,
      "outputs": []
    },
    {
      "cell_type": "code",
      "source": [
        "# # 説明変数をラベルエンコーディング\n",
        "# warnings.simplefilter('ignore')\n",
        "# for column in X.columns:\n",
        "#   le = preprocessing.LabelEncoder()\n",
        "#   target_column = X[column]\n",
        "#   test_target_column = test_X[column]  \n",
        "#   le.fit(target_column)\n",
        "#   label_encoded_column = le.transform(target_column)\n",
        "#   test_label_encoded_column = le.transform(test_target_column)\n",
        "#   X[column] = pd.Series(label_encoded_column).astype(\"category\")\n",
        "#   test_X[column] = pd.Series(test_label_encoded_column).astype(\"category\")"
      ],
      "metadata": {
        "id": "5aP-2uL8lw9b"
      },
      "execution_count": null,
      "outputs": []
    },
    {
      "cell_type": "code",
      "source": [
        "train_pca = np.concatenate([train_X_pca, train_tags_pca, train_bert_pca, train_bert_018_pca], axis=1)\n",
        "test_pca = np.concatenate([test_X_pca, test_tags_pca, test_bert_pca, test_bert_018_pca], axis=1)\n",
        "\n",
        "# X = pd.concat([X, pd.DataFrame(train_pca)], axis=1)\n",
        "# test_X = pd.concat([test_X, pd.DataFrame(test_pca)], axis=1)\n",
        "X = pd.DataFrame(train_pca)\n",
        "test_X = pd.DataFrame(test_pca)\n",
        "print(X.shape)\n",
        "print(test_X.shape)"
      ],
      "metadata": {
        "colab": {
          "base_uri": "https://localhost:8080/"
        },
        "id": "8zFMnn14vSFS",
        "outputId": "de7f2f58-612c-4e1b-cb18-b9493518ceed"
      },
      "execution_count": null,
      "outputs": [
        {
          "output_type": "stream",
          "name": "stdout",
          "text": [
            "(91333, 18)\n",
            "(91822, 18)\n"
          ]
        }
      ]
    },
    {
      "cell_type": "code",
      "source": [
        "# trainデータを訓練用とテスト用に分割\n",
        "X_train, X_test, y_train, y_test = train_test_split(X, y, test_size=0.2, random_state = Config.seed)"
      ],
      "metadata": {
        "id": "PV02FXlHnsbS"
      },
      "execution_count": null,
      "outputs": []
    },
    {
      "cell_type": "code",
      "metadata": {
        "id": "1O2YxxV-YRx0",
        "colab": {
          "base_uri": "https://localhost:8080/"
        },
        "outputId": "6c94404a-f538-4b6e-d44e-8cc57cb92240"
      },
      "source": [
        "# 学習/予測\n",
        "\n",
        "y_oof = np.zeros(len(y_train))\n",
        "meta_preds = []\n",
        "y_preds = []\n",
        "kf = StratifiedKFold(n_splits=5)\n",
        "for fold, (tr_idx, vl_idx) in enumerate(kf.split(X_train, y_train)):\n",
        "    x_tr_fold = X.iloc[tr_idx]\n",
        "    y_tr_fold = y.iloc[tr_idx]\n",
        "    x_vl_fold = X.iloc[vl_idx]\n",
        "    y_vl_fold = y.iloc[vl_idx]\n",
        "\n",
        "    model = Ridge(alpha=10)\n",
        "    model.fit(x_tr_fold, y_tr_fold)\n",
        "    y_oof[vl_idx] = model.predict(x_vl_fold)\n",
        "    meta_preds.append(model.predict(X))\n",
        "    y_preds.append(model.predict(test_X))\n",
        "    print(\n",
        "        f'fold {fold} score:', mean_absolute_error(y_oof[vl_idx], y_vl_fold)\n",
        "    )\n",
        "\n",
        "print('X score:', mean_absolute_error(model.predict(X), y))"
      ],
      "execution_count": null,
      "outputs": [
        {
          "output_type": "stream",
          "name": "stdout",
          "text": [
            "fold 0 score: 511.96836567627173\n"
          ]
        },
        {
          "output_type": "stream",
          "name": "stderr",
          "text": [
            "/usr/local/lib/python3.7/dist-packages/sklearn/model_selection/_split.py:680: UserWarning: The least populated class in y has only 1 members, which is less than n_splits=5.\n",
            "  UserWarning,\n"
          ]
        },
        {
          "output_type": "stream",
          "name": "stdout",
          "text": [
            "fold 1 score: 504.4035981509968\n",
            "fold 2 score: 485.6940455655227\n",
            "fold 3 score: 498.14461165216807\n",
            "fold 4 score: 509.95950823814474\n",
            "X score: 502.4110591460934\n"
          ]
        }
      ]
    },
    {
      "cell_type": "code",
      "source": [
        "# メタモデルへの引き渡し\n",
        "train_012_df = pd.DataFrame(np.mean(meta_preds, axis=0))\n",
        "train_012_df.to_csv(os.path.join(Config.result_path, \"train_012.csv\"), index=False)\n",
        "\n",
        "\n",
        "test_012_df = pd.DataFrame(np.mean(y_preds, axis=0))\n",
        "test_012_df.to_csv(os.path.join(Config.result_path, \"test_012.csv\"), index=False)"
      ],
      "metadata": {
        "id": "Jnzu06VZxpvA"
      },
      "execution_count": null,
      "outputs": []
    },
    {
      "cell_type": "markdown",
      "source": [
        "### 提出データの作成"
      ],
      "metadata": {
        "id": "7zGFnZXtvGmE"
      }
    },
    {
      "cell_type": "code",
      "source": [
        "sample_df[\"LOAN_AMOUNT\"] = np.mean(y_preds, axis=0)\n",
        "print(sample_df)"
      ],
      "metadata": {
        "colab": {
          "base_uri": "https://localhost:8080/"
        },
        "id": "YUlCmkODvBI0",
        "outputId": "bf4146c8-f42b-4d29-8c4b-283bef1217f0"
      },
      "execution_count": null,
      "outputs": [
        {
          "output_type": "stream",
          "name": "stdout",
          "text": [
            "       LOAN_ID  LOAN_AMOUNT\n",
            "0      2041445   289.947602\n",
            "1      1944435  1074.886068\n",
            "2      2083354   800.011788\n",
            "3      1993565   729.510040\n",
            "4      2064272    98.600533\n",
            "...        ...          ...\n",
            "91817  1993862   659.030689\n",
            "91818  2015070   315.101213\n",
            "91819  1950349   495.019857\n",
            "91820  1921580  1386.014888\n",
            "91821  1976733   903.872732\n",
            "\n",
            "[91822 rows x 2 columns]\n"
          ]
        }
      ]
    },
    {
      "cell_type": "code",
      "source": [
        "# submitファイルのファイル名に利用する作成時刻の取得\n",
        "\n",
        "now = datetime.datetime.now(datetime.timezone(datetime.timedelta(hours=1)))\n",
        "date_time = \"{0:%Y%m%d_%H%M}\".format(now)"
      ],
      "metadata": {
        "id": "njijaymzwV5E"
      },
      "execution_count": null,
      "outputs": []
    },
    {
      "cell_type": "code",
      "source": [
        "# submitファイルの出力(Google Driveに出力）\n",
        "# 形式：submit_yyyymmdd_hhmm.csv\n",
        "\n",
        "sample_df.to_csv(os.path.join(Config.output_path, f\"submit_{date_time}.csv\"), index=False)\n"
      ],
      "metadata": {
        "id": "0CGhsadewfq2"
      },
      "execution_count": null,
      "outputs": []
    },
    {
      "cell_type": "code",
      "source": [
        ""
      ],
      "metadata": {
        "id": "xZNbfm1qGxE9"
      },
      "execution_count": null,
      "outputs": []
    }
  ]
}