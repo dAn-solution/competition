{
  "nbformat": 4,
  "nbformat_minor": 0,
  "metadata": {
    "colab": {
      "name": "Prob_kiva_015.ipynb",
      "provenance": [],
      "collapsed_sections": [],
      "authorship_tag": "ABX9TyMp5/WQcXptnJ3/zSjGOkDt",
      "include_colab_link": true
    },
    "kernelspec": {
      "name": "python3",
      "display_name": "Python 3"
    },
    "language_info": {
      "name": "python"
    }
  },
  "cells": [
    {
      "cell_type": "markdown",
      "metadata": {
        "id": "view-in-github",
        "colab_type": "text"
      },
      "source": [
        "<a href=\"https://colab.research.google.com/github/dAn-solution/competition/blob/main/Prob_kiva_015.ipynb\" target=\"_parent\"><img src=\"https://colab.research.google.com/assets/colab-badge.svg\" alt=\"Open In Colab\"/></a>"
      ]
    },
    {
      "cell_type": "markdown",
      "source": [
        "## Kiva／クラウドファンディングの資金調達額予測\n",
        "- ランダムフォレスト を実施"
      ],
      "metadata": {
        "id": "kFq5qAP7WdSh"
      }
    },
    {
      "cell_type": "markdown",
      "source": [
        "### Google Driveのマウント"
      ],
      "metadata": {
        "id": "eWGp_tz-pofW"
      }
    },
    {
      "cell_type": "code",
      "execution_count": null,
      "metadata": {
        "colab": {
          "base_uri": "https://localhost:8080/"
        },
        "id": "C8d7KOVLytug",
        "outputId": "ce65bc65-f60b-4ec2-91cf-d764c5e86788"
      },
      "outputs": [
        {
          "output_type": "stream",
          "name": "stdout",
          "text": [
            "Mounted at /content/drive\n",
            "/content/drive/My Drive\n"
          ]
        }
      ],
      "source": [
        "from google.colab import drive\n",
        "drive.mount('/content/drive')\n",
        "%cd /content/drive/'My Drive'"
      ]
    },
    {
      "cell_type": "markdown",
      "source": [
        "### ライブラリのインストール、インポート"
      ],
      "metadata": {
        "id": "o0AdcnrcYc9B"
      }
    },
    {
      "cell_type": "code",
      "source": [
        "# カレントディレクトリを変更\n",
        "import os\n",
        "os.chdir('/content/drive/My Drive/Probdata/kiva/')\n",
        "print(os.getcwd())"
      ],
      "metadata": {
        "colab": {
          "base_uri": "https://localhost:8080/"
        },
        "id": "iQDKgs9J8R9V",
        "outputId": "8361b55d-8318-45e9-cb72-07b40fbfe1d0"
      },
      "execution_count": null,
      "outputs": [
        {
          "output_type": "stream",
          "name": "stdout",
          "text": [
            "/content/drive/My Drive/Probdata/kiva\n"
          ]
        }
      ]
    },
    {
      "cell_type": "code",
      "source": [
        "class Config():\n",
        "    root_path = './'\n",
        "    input_path = os.path.join(root_path, 'input')\n",
        "    output_path = os.path.join(root_path, 'output')\n",
        "    result_path = os.path.join(root_path, 'result')\n",
        "    bert_model_name = 'bert-base-uncased'\n",
        "    seed = 42\n",
        "    debug = False"
      ],
      "metadata": {
        "id": "2o3IsyPC8vQY"
      },
      "execution_count": null,
      "outputs": []
    },
    {
      "cell_type": "code",
      "execution_count": null,
      "metadata": {
        "id": "S-hr_gTyWTqP"
      },
      "outputs": [],
      "source": [
        "import pandas as pd\n",
        "import numpy as np\n",
        "import datetime\n",
        "import warnings\n",
        "\n",
        "import matplotlib.pyplot as plt\n",
        "\n",
        "import sklearn\n",
        "from sklearn.model_selection import StratifiedKFold\n",
        "from sklearn.model_selection import train_test_split\n",
        "from sklearn import preprocessing\n",
        "from sklearn.metrics import mean_absolute_error\n",
        "from sklearn.ensemble import RandomForestRegressor as RFR"
      ]
    },
    {
      "cell_type": "markdown",
      "source": [
        "### データの読み込み"
      ],
      "metadata": {
        "id": "FzO7JqIdZKj_"
      }
    },
    {
      "cell_type": "code",
      "source": [
        "train_df = pd.read_csv(f'{Config.input_path}/train.csv')\n",
        "test_df = pd.read_csv(f'{Config.input_path}/test.csv')\n",
        "sample_df = pd.read_csv(f'{Config.input_path}/sample_submission.csv')\n",
        "\n",
        "train_tags_pca = np.load(f'{Config.result_path}/train_tags_pca.npy')\n",
        "test_tags_pca = np.load(f'{Config.result_path}/test_tags_pca.npy')\n",
        "train_bert_pca = np.load(f'{Config.result_path}/train_bert_pca.npy')\n",
        "test_bert_pca = np.load(f'{Config.result_path}/test_bert_pca.npy')\n",
        "train_bert_018_pca = np.load(f'{Config.result_path}/train_bert_018_pca.npy')\n",
        "test_bert_018_pca = np.load(f'{Config.result_path}/test_bert_018_pca.npy')\n",
        "\n",
        "train_X_pca = np.load(f'{Config.result_path}/train_X_pca.npy')\n",
        "test_X_pca = np.load(f'{Config.result_path}/test_X_pca.npy')"
      ],
      "metadata": {
        "id": "YO-Ba_l2Y6L9"
      },
      "execution_count": null,
      "outputs": []
    },
    {
      "cell_type": "markdown",
      "source": [
        "## ランダムフォレストの実行"
      ],
      "metadata": {
        "id": "yRwdPyK_LfCK"
      }
    },
    {
      "cell_type": "code",
      "source": [
        "# # trainデータを目的変数と説明変数に分割\n",
        "# train_columns = [\"ORIGINAL_LANGUAGE\", \"ACTIVITY_NAME\", \"SECTOR_NAME\", \"COUNTRY_CODE\",\"CURRENCY_POLICY\",\n",
        "#        \"CURRENCY\",\"REPAYMENT_INTERVAL\", \"DISTRIBUTION_MODEL\"]\n",
        "target_column = \"LOAN_AMOUNT\"\n",
        "\n",
        "y = train_df[target_column]\n",
        "# X = train_df[train_columns]\n",
        "# test_X = test_df[train_columns]"
      ],
      "metadata": {
        "id": "DsihriA9L-7-"
      },
      "execution_count": null,
      "outputs": []
    },
    {
      "cell_type": "code",
      "source": [
        "train_pca = np.concatenate([train_X_pca, train_tags_pca, train_bert_pca, train_bert_018_pca], axis=1)\n",
        "test_pca = np.concatenate([test_X_pca, test_tags_pca, test_bert_pca, test_bert_018_pca], axis=1)\n",
        "\n",
        "# X = pd.concat([X, pd.DataFrame(train_pca)], axis=1)\n",
        "# test_X = pd.concat([test_X, pd.DataFrame(test_pca)], axis=1)\n",
        "X = pd.DataFrame(train_pca)\n",
        "test_X = pd.DataFrame(test_pca)\n",
        "print(X.shape)\n",
        "print(test_X.shape)"
      ],
      "metadata": {
        "colab": {
          "base_uri": "https://localhost:8080/"
        },
        "id": "8zFMnn14vSFS",
        "outputId": "83bf3e06-4c5b-4be7-f59d-1fffe8ee46c4"
      },
      "execution_count": null,
      "outputs": [
        {
          "output_type": "stream",
          "name": "stdout",
          "text": [
            "(91333, 18)\n",
            "(91822, 18)\n"
          ]
        }
      ]
    },
    {
      "cell_type": "code",
      "source": [
        "# trainデータを訓練用とテスト用に分割\n",
        "X_train, X_test, y_train, y_test = train_test_split(X, y, test_size=0.2, random_state = Config.seed)"
      ],
      "metadata": {
        "id": "PV02FXlHnsbS"
      },
      "execution_count": null,
      "outputs": []
    },
    {
      "cell_type": "code",
      "source": [
        "# LGBM用のパラメータ設定\n",
        "# lgb_params = {\n",
        "#     \"application\" : \"regression_l1\",\n",
        "#     'n_estimators': 500, 'learning_rate': 0.1,\n",
        "#     \"metric\" : \"l1\" #mae\n",
        "# }\n",
        "\n",
        "# lgb_params = {\n",
        "#     \"application\" : \"regression_l1\",\n",
        "#     # 'objective': 'regression',\n",
        "#     'importance_type': 'gain',\n",
        "#     'metric': 'l1', # mae\n",
        "#     'seed': Config.seed,\n",
        "#     'n_jobs': -1,\n",
        "#     'verbose': 0,\n",
        "\n",
        "#     'n_estimators': 10000, 'learning_rate': 0.09,\n",
        "#     'boosting_type': 'gbdt',\n",
        "#     'subsample': 0.5, 'subsample_freq': 1,\n",
        "#     'colsample_bytree': 0.5,\n",
        "#     'num_leaves': 256, 'max_depth': -1, 'min_child_samples': 255,\n",
        "#     'max_bin': 256,\n",
        "# }"
      ],
      "metadata": {
        "id": "cuN6DFZGoM2L"
      },
      "execution_count": null,
      "outputs": []
    },
    {
      "cell_type": "code",
      "metadata": {
        "id": "1O2YxxV-YRx0",
        "colab": {
          "base_uri": "https://localhost:8080/"
        },
        "outputId": "6de177ae-fe56-43cf-e066-d9626ce02355"
      },
      "source": [
        "# 学習/予測\n",
        "\n",
        "y_oof = np.zeros(len(y_train))\n",
        "meta_preds = []\n",
        "y_preds = []\n",
        "kf = StratifiedKFold(n_splits=5)\n",
        "for fold, (tr_idx, vl_idx) in enumerate(kf.split(X_train, y_train)):\n",
        "    x_tr_fold = X.iloc[tr_idx]\n",
        "    y_tr_fold = y.iloc[tr_idx]\n",
        "    x_vl_fold = X.iloc[vl_idx]\n",
        "    y_vl_fold = y.iloc[vl_idx]\n",
        "\n",
        "    model = RFR(n_estimators=10)\n",
        "    model.fit(x_tr_fold, y_tr_fold)\n",
        "    # model.fit(\n",
        "    #     x_tr_fold, y_tr_fold,\n",
        "    #     eval_set=(x_vl_fold, y_vl_fold),\n",
        "    #     eval_metric='l1',\n",
        "    #     verbose=False,\n",
        "    #     early_stopping_rounds=100,\n",
        "    # )\n",
        "    y_oof[vl_idx] = model.predict(x_vl_fold)\n",
        "    meta_preds.append(model.predict(X))\n",
        "    y_preds.append(model.predict(test_X))\n",
        "    print(\n",
        "        f'fold {fold} score:', mean_absolute_error(y_oof[vl_idx], y_vl_fold)\n",
        "    )\n",
        "\n",
        "print('X score:', mean_absolute_error(model.predict(X), y))"
      ],
      "execution_count": null,
      "outputs": [
        {
          "output_type": "stream",
          "name": "stderr",
          "text": [
            "/usr/local/lib/python3.7/dist-packages/sklearn/model_selection/_split.py:680: UserWarning: The least populated class in y has only 1 members, which is less than n_splits=5.\n",
            "  UserWarning,\n"
          ]
        },
        {
          "output_type": "stream",
          "name": "stdout",
          "text": [
            "fold 0 score: 387.69963733406325\n",
            "fold 1 score: 370.425306234175\n",
            "fold 2 score: 367.3795592965168\n",
            "fold 3 score: 371.4061109970574\n",
            "fold 4 score: 379.9047081365907\n",
            "X score: 231.78341891758728\n"
          ]
        }
      ]
    },
    {
      "cell_type": "code",
      "source": [
        "# メタモデルへの引き渡し\n",
        "train_015_df = pd.DataFrame(np.mean(meta_preds, axis=0))\n",
        "train_015_df.to_csv(os.path.join(Config.result_path, \"train_015.csv\"), index=False)\n",
        "\n",
        "test_015_df = pd.DataFrame(np.mean(y_preds, axis=0))\n",
        "test_015_df.to_csv(os.path.join(Config.result_path, \"test_015.csv\"), index=False)"
      ],
      "metadata": {
        "id": "Jnzu06VZxpvA"
      },
      "execution_count": null,
      "outputs": []
    },
    {
      "cell_type": "code",
      "source": [
        "test_015_df.describe()"
      ],
      "metadata": {
        "colab": {
          "base_uri": "https://localhost:8080/",
          "height": 300
        },
        "id": "HH8N1kn0JdAD",
        "outputId": "840dff51-b2fe-4731-bf50-2d7ac0db41d4"
      },
      "execution_count": null,
      "outputs": [
        {
          "output_type": "execute_result",
          "data": {
            "text/html": [
              "\n",
              "  <div id=\"df-7a0ca3de-2030-48d9-99fe-47c11d3d44cd\">\n",
              "    <div class=\"colab-df-container\">\n",
              "      <div>\n",
              "<style scoped>\n",
              "    .dataframe tbody tr th:only-of-type {\n",
              "        vertical-align: middle;\n",
              "    }\n",
              "\n",
              "    .dataframe tbody tr th {\n",
              "        vertical-align: top;\n",
              "    }\n",
              "\n",
              "    .dataframe thead th {\n",
              "        text-align: right;\n",
              "    }\n",
              "</style>\n",
              "<table border=\"1\" class=\"dataframe\">\n",
              "  <thead>\n",
              "    <tr style=\"text-align: right;\">\n",
              "      <th></th>\n",
              "      <th>0</th>\n",
              "    </tr>\n",
              "  </thead>\n",
              "  <tbody>\n",
              "    <tr>\n",
              "      <th>count</th>\n",
              "      <td>91822.000000</td>\n",
              "    </tr>\n",
              "    <tr>\n",
              "      <th>mean</th>\n",
              "      <td>673.345217</td>\n",
              "    </tr>\n",
              "    <tr>\n",
              "      <th>std</th>\n",
              "      <td>566.570719</td>\n",
              "    </tr>\n",
              "    <tr>\n",
              "      <th>min</th>\n",
              "      <td>65.500000</td>\n",
              "    </tr>\n",
              "    <tr>\n",
              "      <th>25%</th>\n",
              "      <td>368.000000</td>\n",
              "    </tr>\n",
              "    <tr>\n",
              "      <th>50%</th>\n",
              "      <td>507.500000</td>\n",
              "    </tr>\n",
              "    <tr>\n",
              "      <th>75%</th>\n",
              "      <td>760.000000</td>\n",
              "    </tr>\n",
              "    <tr>\n",
              "      <th>max</th>\n",
              "      <td>7516.000000</td>\n",
              "    </tr>\n",
              "  </tbody>\n",
              "</table>\n",
              "</div>\n",
              "      <button class=\"colab-df-convert\" onclick=\"convertToInteractive('df-7a0ca3de-2030-48d9-99fe-47c11d3d44cd')\"\n",
              "              title=\"Convert this dataframe to an interactive table.\"\n",
              "              style=\"display:none;\">\n",
              "        \n",
              "  <svg xmlns=\"http://www.w3.org/2000/svg\" height=\"24px\"viewBox=\"0 0 24 24\"\n",
              "       width=\"24px\">\n",
              "    <path d=\"M0 0h24v24H0V0z\" fill=\"none\"/>\n",
              "    <path d=\"M18.56 5.44l.94 2.06.94-2.06 2.06-.94-2.06-.94-.94-2.06-.94 2.06-2.06.94zm-11 1L8.5 8.5l.94-2.06 2.06-.94-2.06-.94L8.5 2.5l-.94 2.06-2.06.94zm10 10l.94 2.06.94-2.06 2.06-.94-2.06-.94-.94-2.06-.94 2.06-2.06.94z\"/><path d=\"M17.41 7.96l-1.37-1.37c-.4-.4-.92-.59-1.43-.59-.52 0-1.04.2-1.43.59L10.3 9.45l-7.72 7.72c-.78.78-.78 2.05 0 2.83L4 21.41c.39.39.9.59 1.41.59.51 0 1.02-.2 1.41-.59l7.78-7.78 2.81-2.81c.8-.78.8-2.07 0-2.86zM5.41 20L4 18.59l7.72-7.72 1.47 1.35L5.41 20z\"/>\n",
              "  </svg>\n",
              "      </button>\n",
              "      \n",
              "  <style>\n",
              "    .colab-df-container {\n",
              "      display:flex;\n",
              "      flex-wrap:wrap;\n",
              "      gap: 12px;\n",
              "    }\n",
              "\n",
              "    .colab-df-convert {\n",
              "      background-color: #E8F0FE;\n",
              "      border: none;\n",
              "      border-radius: 50%;\n",
              "      cursor: pointer;\n",
              "      display: none;\n",
              "      fill: #1967D2;\n",
              "      height: 32px;\n",
              "      padding: 0 0 0 0;\n",
              "      width: 32px;\n",
              "    }\n",
              "\n",
              "    .colab-df-convert:hover {\n",
              "      background-color: #E2EBFA;\n",
              "      box-shadow: 0px 1px 2px rgba(60, 64, 67, 0.3), 0px 1px 3px 1px rgba(60, 64, 67, 0.15);\n",
              "      fill: #174EA6;\n",
              "    }\n",
              "\n",
              "    [theme=dark] .colab-df-convert {\n",
              "      background-color: #3B4455;\n",
              "      fill: #D2E3FC;\n",
              "    }\n",
              "\n",
              "    [theme=dark] .colab-df-convert:hover {\n",
              "      background-color: #434B5C;\n",
              "      box-shadow: 0px 1px 3px 1px rgba(0, 0, 0, 0.15);\n",
              "      filter: drop-shadow(0px 1px 2px rgba(0, 0, 0, 0.3));\n",
              "      fill: #FFFFFF;\n",
              "    }\n",
              "  </style>\n",
              "\n",
              "      <script>\n",
              "        const buttonEl =\n",
              "          document.querySelector('#df-7a0ca3de-2030-48d9-99fe-47c11d3d44cd button.colab-df-convert');\n",
              "        buttonEl.style.display =\n",
              "          google.colab.kernel.accessAllowed ? 'block' : 'none';\n",
              "\n",
              "        async function convertToInteractive(key) {\n",
              "          const element = document.querySelector('#df-7a0ca3de-2030-48d9-99fe-47c11d3d44cd');\n",
              "          const dataTable =\n",
              "            await google.colab.kernel.invokeFunction('convertToInteractive',\n",
              "                                                     [key], {});\n",
              "          if (!dataTable) return;\n",
              "\n",
              "          const docLinkHtml = 'Like what you see? Visit the ' +\n",
              "            '<a target=\"_blank\" href=https://colab.research.google.com/notebooks/data_table.ipynb>data table notebook</a>'\n",
              "            + ' to learn more about interactive tables.';\n",
              "          element.innerHTML = '';\n",
              "          dataTable['output_type'] = 'display_data';\n",
              "          await google.colab.output.renderOutput(dataTable, element);\n",
              "          const docLink = document.createElement('div');\n",
              "          docLink.innerHTML = docLinkHtml;\n",
              "          element.appendChild(docLink);\n",
              "        }\n",
              "      </script>\n",
              "    </div>\n",
              "  </div>\n",
              "  "
            ],
            "text/plain": [
              "                  0\n",
              "count  91822.000000\n",
              "mean     673.345217\n",
              "std      566.570719\n",
              "min       65.500000\n",
              "25%      368.000000\n",
              "50%      507.500000\n",
              "75%      760.000000\n",
              "max     7516.000000"
            ]
          },
          "metadata": {},
          "execution_count": 12
        }
      ]
    },
    {
      "cell_type": "markdown",
      "source": [
        "### 提出データの作成"
      ],
      "metadata": {
        "id": "7zGFnZXtvGmE"
      }
    },
    {
      "cell_type": "code",
      "source": [
        "sample_df[\"LOAN_AMOUNT\"] = np.mean(y_preds, axis=0)\n",
        "print(sample_df)"
      ],
      "metadata": {
        "colab": {
          "base_uri": "https://localhost:8080/"
        },
        "id": "YUlCmkODvBI0",
        "outputId": "c5d00f17-00b6-41b6-ba87-b786a6a8fd39"
      },
      "execution_count": null,
      "outputs": [
        {
          "output_type": "stream",
          "name": "stdout",
          "text": [
            "       LOAN_ID  LOAN_AMOUNT\n",
            "0      2041445        422.5\n",
            "1      1944435        813.0\n",
            "2      2083354        399.0\n",
            "3      1993565        723.5\n",
            "4      2064272        244.0\n",
            "...        ...          ...\n",
            "91817  1993862        357.0\n",
            "91818  2015070        261.5\n",
            "91819  1950349        645.5\n",
            "91820  1921580       1531.5\n",
            "91821  1976733        625.0\n",
            "\n",
            "[91822 rows x 2 columns]\n"
          ]
        }
      ]
    },
    {
      "cell_type": "code",
      "source": [
        "# submitファイルのファイル名に利用する作成時刻の取得\n",
        "\n",
        "now = datetime.datetime.now(datetime.timezone(datetime.timedelta(hours=1)))\n",
        "date_time = \"{0:%Y%m%d_%H%M}\".format(now)"
      ],
      "metadata": {
        "id": "njijaymzwV5E"
      },
      "execution_count": null,
      "outputs": []
    },
    {
      "cell_type": "code",
      "source": [
        "# submitファイルの出力(Google Driveに出力）\n",
        "# 形式：submit_yyyymmdd_hhmm.csv\n",
        "\n",
        "sample_df.to_csv(os.path.join(Config.output_path, f\"submit_{date_time}.csv\"), index=False)\n"
      ],
      "metadata": {
        "id": "0CGhsadewfq2"
      },
      "execution_count": null,
      "outputs": []
    },
    {
      "cell_type": "code",
      "source": [
        ""
      ],
      "metadata": {
        "id": "xZNbfm1qGxE9"
      },
      "execution_count": null,
      "outputs": []
    }
  ]
}