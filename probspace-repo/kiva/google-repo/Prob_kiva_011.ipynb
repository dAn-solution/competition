{
  "nbformat": 4,
  "nbformat_minor": 0,
  "metadata": {
    "colab": {
      "name": "Prob_kiva_011.ipynb",
      "provenance": [],
      "collapsed_sections": [],
      "authorship_tag": "ABX9TyO6reyZRGjG9LIbP35NydxM",
      "include_colab_link": true
    },
    "kernelspec": {
      "name": "python3",
      "display_name": "Python 3"
    },
    "language_info": {
      "name": "python"
    }
  },
  "cells": [
    {
      "cell_type": "markdown",
      "metadata": {
        "id": "view-in-github",
        "colab_type": "text"
      },
      "source": [
        "<a href=\"https://colab.research.google.com/github/dAn-solution/competition/blob/main/Prob_kiva_011.ipynb\" target=\"_parent\"><img src=\"https://colab.research.google.com/assets/colab-badge.svg\" alt=\"Open In Colab\"/></a>"
      ]
    },
    {
      "cell_type": "markdown",
      "source": [
        "## Kiva／クラウドファンディングの資金調達額予測\n",
        "- LightGBM を実施"
      ],
      "metadata": {
        "id": "kFq5qAP7WdSh"
      }
    },
    {
      "cell_type": "markdown",
      "source": [
        "### Google Driveのマウント"
      ],
      "metadata": {
        "id": "eWGp_tz-pofW"
      }
    },
    {
      "cell_type": "code",
      "execution_count": null,
      "metadata": {
        "colab": {
          "base_uri": "https://localhost:8080/"
        },
        "id": "C8d7KOVLytug",
        "outputId": "b058ae1d-9d3c-4530-be81-bb9837ef2eb8"
      },
      "outputs": [
        {
          "output_type": "stream",
          "name": "stdout",
          "text": [
            "Mounted at /content/drive\n",
            "/content/drive/My Drive\n"
          ]
        }
      ],
      "source": [
        "from google.colab import drive\n",
        "drive.mount('/content/drive')\n",
        "%cd /content/drive/'My Drive'"
      ]
    },
    {
      "cell_type": "markdown",
      "source": [
        "### ライブラリのインストール、インポート"
      ],
      "metadata": {
        "id": "o0AdcnrcYc9B"
      }
    },
    {
      "cell_type": "code",
      "source": [
        "# カレントディレクトリを変更\n",
        "import os\n",
        "os.chdir('/content/drive/My Drive/Probdata/kiva/')\n",
        "print(os.getcwd())"
      ],
      "metadata": {
        "colab": {
          "base_uri": "https://localhost:8080/"
        },
        "id": "iQDKgs9J8R9V",
        "outputId": "18977416-c58f-4328-c2ef-58e6927e62da"
      },
      "execution_count": null,
      "outputs": [
        {
          "output_type": "stream",
          "name": "stdout",
          "text": [
            "/content/drive/My Drive/Probdata/kiva\n"
          ]
        }
      ]
    },
    {
      "cell_type": "code",
      "source": [
        "class Config():\n",
        "    root_path = './'\n",
        "    input_path = os.path.join(root_path, 'input')\n",
        "    output_path = os.path.join(root_path, 'output')\n",
        "    result_path = os.path.join(root_path, 'result')\n",
        "    bert_model_name = 'bert-base-uncased'\n",
        "    constant = 25\n",
        "    seed = 42\n",
        "    debug = False"
      ],
      "metadata": {
        "id": "2o3IsyPC8vQY"
      },
      "execution_count": null,
      "outputs": []
    },
    {
      "cell_type": "code",
      "execution_count": null,
      "metadata": {
        "id": "S-hr_gTyWTqP"
      },
      "outputs": [],
      "source": [
        "import pandas as pd\n",
        "import numpy as np\n",
        "import datetime\n",
        "import warnings\n",
        "\n",
        "import matplotlib.pyplot as plt\n",
        "\n",
        "import sklearn\n",
        "from sklearn.model_selection import StratifiedKFold\n",
        "from sklearn.model_selection import train_test_split\n",
        "from sklearn import preprocessing\n",
        "from sklearn.metrics import mean_absolute_error\n",
        "\n",
        "import lightgbm as lgb"
      ]
    },
    {
      "cell_type": "markdown",
      "source": [
        "### データの読み込み"
      ],
      "metadata": {
        "id": "FzO7JqIdZKj_"
      }
    },
    {
      "cell_type": "code",
      "source": [
        "train_df = pd.read_csv(f'{Config.input_path}/train.csv')\n",
        "test_df = pd.read_csv(f'{Config.input_path}/test.csv')\n",
        "sample_df = pd.read_csv(f'{Config.input_path}/sample_submission.csv')\n",
        "\n",
        "train_tags_pca = np.load(f'{Config.result_path}/train_tags_pca.npy')\n",
        "test_tags_pca = np.load(f'{Config.result_path}/test_tags_pca.npy')\n",
        "train_bert_pca = np.load(f'{Config.result_path}/train_bert_pca.npy')\n",
        "test_bert_pca = np.load(f'{Config.result_path}/test_bert_pca.npy')\n",
        "train_bert_018_pca = np.load(f'{Config.result_path}/train_bert_018_pca.npy')\n",
        "test_bert_018_pca = np.load(f'{Config.result_path}/test_bert_018_pca.npy')\n",
        "\n",
        "train_X_pca = np.load(f'{Config.result_path}/train_X_pca.npy')\n",
        "test_X_pca = np.load(f'{Config.result_path}/test_X_pca.npy')"
      ],
      "metadata": {
        "id": "YO-Ba_l2Y6L9"
      },
      "execution_count": null,
      "outputs": []
    },
    {
      "cell_type": "markdown",
      "source": [
        "## LGBMの実行"
      ],
      "metadata": {
        "id": "yRwdPyK_LfCK"
      }
    },
    {
      "cell_type": "code",
      "source": [
        "# # trainデータを目的変数と説明変数に分割\n",
        "# train_columns = [\"ORIGINAL_LANGUAGE\", \"ACTIVITY_NAME\", \"SECTOR_NAME\", \"COUNTRY_CODE\",\"CURRENCY_POLICY\",\n",
        "#        \"CURRENCY\",\"REPAYMENT_INTERVAL\", \"DISTRIBUTION_MODEL\"]\n",
        "target_column = \"LOAN_AMOUNT\"\n",
        "\n",
        "y = train_df[target_column]\n",
        "# X = train_df[train_columns]\n",
        "# test_X = test_df[train_columns]"
      ],
      "metadata": {
        "id": "DsihriA9L-7-"
      },
      "execution_count": null,
      "outputs": []
    },
    {
      "cell_type": "code",
      "source": [
        "# ORIGINAL_LANGUAGEの EnglishとSpanishを選択\n",
        "# language_list = list(X.reset_index().query('ORIGINAL_LANGUAGE == \"English\"').index)\n",
        "# temp_list = list(X.reset_index().query('ORIGINAL_LANGUAGE == \"Spanish\"').index)\n",
        "# language_list = language_list + temp_list\n",
        "# X = X.iloc[language_list]\n",
        "\n",
        "# language_list = list(test_X.reset_index().query('ORIGINAL_LANGUAGE == \"English\"').index)\n",
        "# temp_list = list(test_X.reset_index().query('ORIGINAL_LANGUAGE == \"Spanish\"').index)\n",
        "# language_list = language_list + temp_list\n",
        "# test_X = test_X.iloc[language_list]\n",
        "# del temp_list"
      ],
      "metadata": {
        "id": "6jWA3am16kGx"
      },
      "execution_count": null,
      "outputs": []
    },
    {
      "cell_type": "code",
      "source": [
        "# # 説明変数をラベルエンコーディング\n",
        "# warnings.simplefilter('ignore')\n",
        "# for column in X.columns:\n",
        "#   le = preprocessing.LabelEncoder()\n",
        "#   target_column = X[column]\n",
        "#   test_target_column = test_X[column]  \n",
        "#   le.fit(target_column)\n",
        "#   label_encoded_column = le.transform(target_column)\n",
        "#   test_label_encoded_column = le.transform(test_target_column)\n",
        "#   X[column] = pd.Series(label_encoded_column).astype(\"category\")\n",
        "#   test_X[column] = pd.Series(test_label_encoded_column).astype(\"category\")"
      ],
      "metadata": {
        "id": "5aP-2uL8lw9b"
      },
      "execution_count": null,
      "outputs": []
    },
    {
      "cell_type": "code",
      "source": [
        "train_pca = np.concatenate([train_X_pca, train_tags_pca, train_bert_pca, train_bert_018_pca], axis=1)\n",
        "test_pca = np.concatenate([test_X_pca, test_tags_pca, test_bert_pca, test_bert_018_pca], axis=1)\n",
        "\n",
        "# X = pd.concat([X, pd.DataFrame(train_pca)], axis=1)\n",
        "# test_X = pd.concat([test_X, pd.DataFrame(test_pca)], axis=1)\n",
        "X = pd.DataFrame(train_pca)\n",
        "test_X = pd.DataFrame(test_pca)\n",
        "print(X.shape)\n",
        "print(test_X.shape)"
      ],
      "metadata": {
        "colab": {
          "base_uri": "https://localhost:8080/"
        },
        "id": "8zFMnn14vSFS",
        "outputId": "299f1338-c0f2-458c-f942-d94d48dd2c17"
      },
      "execution_count": null,
      "outputs": [
        {
          "output_type": "stream",
          "name": "stdout",
          "text": [
            "(91333, 18)\n",
            "(91822, 18)\n"
          ]
        }
      ]
    },
    {
      "cell_type": "code",
      "source": [
        "# trainデータを訓練用とテスト用に分割\n",
        "X_train, X_test, y_train, y_test = train_test_split(X, y, test_size=0.2, random_state = Config.seed)"
      ],
      "metadata": {
        "id": "PV02FXlHnsbS"
      },
      "execution_count": null,
      "outputs": []
    },
    {
      "cell_type": "code",
      "source": [
        "# LGBM用のパラメータ設定\n",
        "lgb_params = {\n",
        "    \"application\" : \"regression_l1\",\n",
        "    'n_estimators': 500, 'learning_rate': 0.1,\n",
        "    \"metric\" : \"l1\" #mae\n",
        "}\n",
        "\n",
        "# lgb_params = {\n",
        "#     \"application\" : \"regression_l1\",\n",
        "#     # 'objective': 'regression',\n",
        "#     'importance_type': 'gain',\n",
        "#     'metric': 'l1', # mae\n",
        "#     'seed': Config.seed,\n",
        "#     'n_jobs': -1,\n",
        "#     'verbose': 0,\n",
        "\n",
        "#     'n_estimators': 10000, 'learning_rate': 0.09,\n",
        "#     'boosting_type': 'gbdt',\n",
        "#     'subsample': 0.5, 'subsample_freq': 1,\n",
        "#     'colsample_bytree': 0.5,\n",
        "#     'num_leaves': 256, 'max_depth': -1, 'min_child_samples': 255,\n",
        "#     'max_bin': 256,\n",
        "# }"
      ],
      "metadata": {
        "id": "cuN6DFZGoM2L"
      },
      "execution_count": null,
      "outputs": []
    },
    {
      "cell_type": "code",
      "metadata": {
        "id": "1O2YxxV-YRx0",
        "colab": {
          "base_uri": "https://localhost:8080/"
        },
        "outputId": "69ce0ecc-ac9c-440d-9ee0-806bd7f2ba4e"
      },
      "source": [
        "# 学習/予測\n",
        "\n",
        "# groups = X_train['LOAN_ID']\n",
        "y_oof = np.zeros(len(y_train))\n",
        "meta_preds = []\n",
        "y_preds = []\n",
        "kf = StratifiedKFold(n_splits=5)\n",
        "for fold, (tr_idx, vl_idx) in enumerate(kf.split(X_train, y_train)):\n",
        "    x_tr_fold = X.iloc[tr_idx]\n",
        "    y_tr_fold = y.iloc[tr_idx]\n",
        "    x_vl_fold = X.iloc[vl_idx]\n",
        "    y_vl_fold = y.iloc[vl_idx]\n",
        "\n",
        "    model = lgb.LGBMRegressor(**lgb_params)\n",
        "    model.fit(\n",
        "        x_tr_fold, y_tr_fold,\n",
        "        eval_set=(x_vl_fold, y_vl_fold),\n",
        "        eval_metric='l1',\n",
        "        verbose=False,\n",
        "        early_stopping_rounds=100,\n",
        "    )\n",
        "    y_oof[vl_idx] = model.predict(x_vl_fold)\n",
        "    meta_preds.append(model.predict(X))\n",
        "    y_preds.append(model.predict(test_X))\n",
        "    print(\n",
        "        f'fold {fold} score:', mean_absolute_error(y_oof[vl_idx], y_vl_fold)\n",
        "    )\n",
        "\n",
        "print('X score:', mean_absolute_error(model.predict(X), y))"
      ],
      "execution_count": null,
      "outputs": [
        {
          "output_type": "stream",
          "name": "stderr",
          "text": [
            "/usr/local/lib/python3.7/dist-packages/sklearn/model_selection/_split.py:680: UserWarning: The least populated class in y has only 1 members, which is less than n_splits=5.\n",
            "  UserWarning,\n"
          ]
        },
        {
          "output_type": "stream",
          "name": "stdout",
          "text": [
            "fold 0 score: 339.83075039778345\n",
            "fold 1 score: 325.97157722364796\n",
            "fold 2 score: 321.48924799387987\n",
            "fold 3 score: 327.1274279185328\n",
            "fold 4 score: 335.1349494271071\n",
            "X score: 279.3856555230936\n"
          ]
        }
      ]
    },
    {
      "cell_type": "code",
      "source": [
        "# メタモデルへの引き渡し\n",
        "train_011_df = pd.DataFrame(np.mean(meta_preds, axis=0))\n",
        "train_011_df.to_csv(os.path.join(Config.result_path, \"train_011.csv\"), index=False)\n",
        "\n",
        "test_011_df = pd.DataFrame(np.mean(y_preds, axis=0))\n",
        "test_011_df.to_csv(os.path.join(Config.result_path, \"test_011.csv\"), index=False)"
      ],
      "metadata": {
        "id": "vhAXvGKsttca"
      },
      "execution_count": null,
      "outputs": []
    },
    {
      "cell_type": "code",
      "source": [
        "train_011_df.describe()"
      ],
      "metadata": {
        "colab": {
          "base_uri": "https://localhost:8080/",
          "height": 300
        },
        "id": "Jafyklok_oLB",
        "outputId": "3d4419e6-8a3a-4fd9-9310-66e4755fa24a"
      },
      "execution_count": null,
      "outputs": [
        {
          "output_type": "execute_result",
          "data": {
            "text/html": [
              "\n",
              "  <div id=\"df-8ddbf58a-c67b-4be1-8ebe-fd506f98c077\">\n",
              "    <div class=\"colab-df-container\">\n",
              "      <div>\n",
              "<style scoped>\n",
              "    .dataframe tbody tr th:only-of-type {\n",
              "        vertical-align: middle;\n",
              "    }\n",
              "\n",
              "    .dataframe tbody tr th {\n",
              "        vertical-align: top;\n",
              "    }\n",
              "\n",
              "    .dataframe thead th {\n",
              "        text-align: right;\n",
              "    }\n",
              "</style>\n",
              "<table border=\"1\" class=\"dataframe\">\n",
              "  <thead>\n",
              "    <tr style=\"text-align: right;\">\n",
              "      <th></th>\n",
              "      <th>0</th>\n",
              "    </tr>\n",
              "  </thead>\n",
              "  <tbody>\n",
              "    <tr>\n",
              "      <th>count</th>\n",
              "      <td>91333.000000</td>\n",
              "    </tr>\n",
              "    <tr>\n",
              "      <th>mean</th>\n",
              "      <td>737.873254</td>\n",
              "    </tr>\n",
              "    <tr>\n",
              "      <th>std</th>\n",
              "      <td>797.359425</td>\n",
              "    </tr>\n",
              "    <tr>\n",
              "      <th>min</th>\n",
              "      <td>-86.791668</td>\n",
              "    </tr>\n",
              "    <tr>\n",
              "      <th>25%</th>\n",
              "      <td>332.747389</td>\n",
              "    </tr>\n",
              "    <tr>\n",
              "      <th>50%</th>\n",
              "      <td>524.987476</td>\n",
              "    </tr>\n",
              "    <tr>\n",
              "      <th>75%</th>\n",
              "      <td>820.144141</td>\n",
              "    </tr>\n",
              "    <tr>\n",
              "      <th>max</th>\n",
              "      <td>10580.819671</td>\n",
              "    </tr>\n",
              "  </tbody>\n",
              "</table>\n",
              "</div>\n",
              "      <button class=\"colab-df-convert\" onclick=\"convertToInteractive('df-8ddbf58a-c67b-4be1-8ebe-fd506f98c077')\"\n",
              "              title=\"Convert this dataframe to an interactive table.\"\n",
              "              style=\"display:none;\">\n",
              "        \n",
              "  <svg xmlns=\"http://www.w3.org/2000/svg\" height=\"24px\"viewBox=\"0 0 24 24\"\n",
              "       width=\"24px\">\n",
              "    <path d=\"M0 0h24v24H0V0z\" fill=\"none\"/>\n",
              "    <path d=\"M18.56 5.44l.94 2.06.94-2.06 2.06-.94-2.06-.94-.94-2.06-.94 2.06-2.06.94zm-11 1L8.5 8.5l.94-2.06 2.06-.94-2.06-.94L8.5 2.5l-.94 2.06-2.06.94zm10 10l.94 2.06.94-2.06 2.06-.94-2.06-.94-.94-2.06-.94 2.06-2.06.94z\"/><path d=\"M17.41 7.96l-1.37-1.37c-.4-.4-.92-.59-1.43-.59-.52 0-1.04.2-1.43.59L10.3 9.45l-7.72 7.72c-.78.78-.78 2.05 0 2.83L4 21.41c.39.39.9.59 1.41.59.51 0 1.02-.2 1.41-.59l7.78-7.78 2.81-2.81c.8-.78.8-2.07 0-2.86zM5.41 20L4 18.59l7.72-7.72 1.47 1.35L5.41 20z\"/>\n",
              "  </svg>\n",
              "      </button>\n",
              "      \n",
              "  <style>\n",
              "    .colab-df-container {\n",
              "      display:flex;\n",
              "      flex-wrap:wrap;\n",
              "      gap: 12px;\n",
              "    }\n",
              "\n",
              "    .colab-df-convert {\n",
              "      background-color: #E8F0FE;\n",
              "      border: none;\n",
              "      border-radius: 50%;\n",
              "      cursor: pointer;\n",
              "      display: none;\n",
              "      fill: #1967D2;\n",
              "      height: 32px;\n",
              "      padding: 0 0 0 0;\n",
              "      width: 32px;\n",
              "    }\n",
              "\n",
              "    .colab-df-convert:hover {\n",
              "      background-color: #E2EBFA;\n",
              "      box-shadow: 0px 1px 2px rgba(60, 64, 67, 0.3), 0px 1px 3px 1px rgba(60, 64, 67, 0.15);\n",
              "      fill: #174EA6;\n",
              "    }\n",
              "\n",
              "    [theme=dark] .colab-df-convert {\n",
              "      background-color: #3B4455;\n",
              "      fill: #D2E3FC;\n",
              "    }\n",
              "\n",
              "    [theme=dark] .colab-df-convert:hover {\n",
              "      background-color: #434B5C;\n",
              "      box-shadow: 0px 1px 3px 1px rgba(0, 0, 0, 0.15);\n",
              "      filter: drop-shadow(0px 1px 2px rgba(0, 0, 0, 0.3));\n",
              "      fill: #FFFFFF;\n",
              "    }\n",
              "  </style>\n",
              "\n",
              "      <script>\n",
              "        const buttonEl =\n",
              "          document.querySelector('#df-8ddbf58a-c67b-4be1-8ebe-fd506f98c077 button.colab-df-convert');\n",
              "        buttonEl.style.display =\n",
              "          google.colab.kernel.accessAllowed ? 'block' : 'none';\n",
              "\n",
              "        async function convertToInteractive(key) {\n",
              "          const element = document.querySelector('#df-8ddbf58a-c67b-4be1-8ebe-fd506f98c077');\n",
              "          const dataTable =\n",
              "            await google.colab.kernel.invokeFunction('convertToInteractive',\n",
              "                                                     [key], {});\n",
              "          if (!dataTable) return;\n",
              "\n",
              "          const docLinkHtml = 'Like what you see? Visit the ' +\n",
              "            '<a target=\"_blank\" href=https://colab.research.google.com/notebooks/data_table.ipynb>data table notebook</a>'\n",
              "            + ' to learn more about interactive tables.';\n",
              "          element.innerHTML = '';\n",
              "          dataTable['output_type'] = 'display_data';\n",
              "          await google.colab.output.renderOutput(dataTable, element);\n",
              "          const docLink = document.createElement('div');\n",
              "          docLink.innerHTML = docLinkHtml;\n",
              "          element.appendChild(docLink);\n",
              "        }\n",
              "      </script>\n",
              "    </div>\n",
              "  </div>\n",
              "  "
            ],
            "text/plain": [
              "                  0\n",
              "count  91333.000000\n",
              "mean     737.873254\n",
              "std      797.359425\n",
              "min      -86.791668\n",
              "25%      332.747389\n",
              "50%      524.987476\n",
              "75%      820.144141\n",
              "max    10580.819671"
            ]
          },
          "metadata": {},
          "execution_count": 14
        }
      ]
    },
    {
      "cell_type": "markdown",
      "source": [
        "### 提出データの作成"
      ],
      "metadata": {
        "id": "7zGFnZXtvGmE"
      }
    },
    {
      "cell_type": "code",
      "source": [
        "result = np.median(y_preds, axis=0)\n",
        "for i in range(len(result)):\n",
        "    a, b = divmod(result[i], Config.constant)\n",
        "    if b > (Config.constant/2):\n",
        "        b = 1\n",
        "    else:\n",
        "        b = 0\n",
        "    result[i] = (a + b) * Config.constant\n",
        "result[result<=0] = Config.constant "
      ],
      "metadata": {
        "id": "EcoIc0mguAiD"
      },
      "execution_count": null,
      "outputs": []
    },
    {
      "cell_type": "code",
      "source": [
        "sample_df[\"LOAN_AMOUNT\"] = result\n",
        "print(sample_df)"
      ],
      "metadata": {
        "colab": {
          "base_uri": "https://localhost:8080/"
        },
        "id": "YUlCmkODvBI0",
        "outputId": "486fc200-9a67-416b-82e1-d99e5f8c9f84"
      },
      "execution_count": null,
      "outputs": [
        {
          "output_type": "stream",
          "name": "stdout",
          "text": [
            "       LOAN_ID  LOAN_AMOUNT\n",
            "0      2041445        300.0\n",
            "1      1944435        625.0\n",
            "2      2083354        425.0\n",
            "3      1993565        575.0\n",
            "4      2064272        250.0\n",
            "...        ...          ...\n",
            "91817  1993862        350.0\n",
            "91818  2015070        300.0\n",
            "91819  1950349        475.0\n",
            "91820  1921580       1625.0\n",
            "91821  1976733        475.0\n",
            "\n",
            "[91822 rows x 2 columns]\n"
          ]
        }
      ]
    },
    {
      "cell_type": "code",
      "source": [
        "# submitファイルのファイル名に利用する作成時刻の取得\n",
        "\n",
        "now = datetime.datetime.now(datetime.timezone(datetime.timedelta(hours=1)))\n",
        "date_time = \"{0:%Y%m%d_%H%M}\".format(now)"
      ],
      "metadata": {
        "id": "njijaymzwV5E"
      },
      "execution_count": null,
      "outputs": []
    },
    {
      "cell_type": "code",
      "source": [
        "# submitファイルの出力(Google Driveに出力）\n",
        "# 形式：submit_yyyymmdd_hhmm.csv\n",
        "\n",
        "sample_df.to_csv(os.path.join(Config.output_path, f\"submit_{date_time}.csv\"), index=False)\n"
      ],
      "metadata": {
        "id": "0CGhsadewfq2"
      },
      "execution_count": null,
      "outputs": []
    },
    {
      "cell_type": "code",
      "source": [
        "train_011_df[train_011_df[0]< 13]"
      ],
      "metadata": {
        "id": "xZNbfm1qGxE9",
        "colab": {
          "base_uri": "https://localhost:8080/",
          "height": 582
        },
        "outputId": "b71527fa-6b1d-475c-b702-d322f66dcce6"
      },
      "execution_count": null,
      "outputs": [
        {
          "output_type": "execute_result",
          "data": {
            "text/html": [
              "\n",
              "  <div id=\"df-0eb2f4b2-80fd-49a3-9981-5167ada5a03a\">\n",
              "    <div class=\"colab-df-container\">\n",
              "      <div>\n",
              "<style scoped>\n",
              "    .dataframe tbody tr th:only-of-type {\n",
              "        vertical-align: middle;\n",
              "    }\n",
              "\n",
              "    .dataframe tbody tr th {\n",
              "        vertical-align: top;\n",
              "    }\n",
              "\n",
              "    .dataframe thead th {\n",
              "        text-align: right;\n",
              "    }\n",
              "</style>\n",
              "<table border=\"1\" class=\"dataframe\">\n",
              "  <thead>\n",
              "    <tr style=\"text-align: right;\">\n",
              "      <th></th>\n",
              "      <th>0</th>\n",
              "    </tr>\n",
              "  </thead>\n",
              "  <tbody>\n",
              "    <tr>\n",
              "      <th>4908</th>\n",
              "      <td>11.004530</td>\n",
              "    </tr>\n",
              "    <tr>\n",
              "      <th>11766</th>\n",
              "      <td>-34.233719</td>\n",
              "    </tr>\n",
              "    <tr>\n",
              "      <th>12258</th>\n",
              "      <td>-23.241154</td>\n",
              "    </tr>\n",
              "    <tr>\n",
              "      <th>16040</th>\n",
              "      <td>-40.295928</td>\n",
              "    </tr>\n",
              "    <tr>\n",
              "      <th>34340</th>\n",
              "      <td>-30.751877</td>\n",
              "    </tr>\n",
              "    <tr>\n",
              "      <th>35456</th>\n",
              "      <td>9.806276</td>\n",
              "    </tr>\n",
              "    <tr>\n",
              "      <th>47260</th>\n",
              "      <td>-53.823670</td>\n",
              "    </tr>\n",
              "    <tr>\n",
              "      <th>48415</th>\n",
              "      <td>-53.823670</td>\n",
              "    </tr>\n",
              "    <tr>\n",
              "      <th>48767</th>\n",
              "      <td>-15.176645</td>\n",
              "    </tr>\n",
              "    <tr>\n",
              "      <th>49607</th>\n",
              "      <td>-14.742287</td>\n",
              "    </tr>\n",
              "    <tr>\n",
              "      <th>69852</th>\n",
              "      <td>-51.954355</td>\n",
              "    </tr>\n",
              "    <tr>\n",
              "      <th>71588</th>\n",
              "      <td>-86.791668</td>\n",
              "    </tr>\n",
              "    <tr>\n",
              "      <th>77463</th>\n",
              "      <td>-47.221395</td>\n",
              "    </tr>\n",
              "    <tr>\n",
              "      <th>77853</th>\n",
              "      <td>-34.181927</td>\n",
              "    </tr>\n",
              "    <tr>\n",
              "      <th>82405</th>\n",
              "      <td>3.482036</td>\n",
              "    </tr>\n",
              "    <tr>\n",
              "      <th>84717</th>\n",
              "      <td>10.500007</td>\n",
              "    </tr>\n",
              "    <tr>\n",
              "      <th>86591</th>\n",
              "      <td>-21.375704</td>\n",
              "    </tr>\n",
              "  </tbody>\n",
              "</table>\n",
              "</div>\n",
              "      <button class=\"colab-df-convert\" onclick=\"convertToInteractive('df-0eb2f4b2-80fd-49a3-9981-5167ada5a03a')\"\n",
              "              title=\"Convert this dataframe to an interactive table.\"\n",
              "              style=\"display:none;\">\n",
              "        \n",
              "  <svg xmlns=\"http://www.w3.org/2000/svg\" height=\"24px\"viewBox=\"0 0 24 24\"\n",
              "       width=\"24px\">\n",
              "    <path d=\"M0 0h24v24H0V0z\" fill=\"none\"/>\n",
              "    <path d=\"M18.56 5.44l.94 2.06.94-2.06 2.06-.94-2.06-.94-.94-2.06-.94 2.06-2.06.94zm-11 1L8.5 8.5l.94-2.06 2.06-.94-2.06-.94L8.5 2.5l-.94 2.06-2.06.94zm10 10l.94 2.06.94-2.06 2.06-.94-2.06-.94-.94-2.06-.94 2.06-2.06.94z\"/><path d=\"M17.41 7.96l-1.37-1.37c-.4-.4-.92-.59-1.43-.59-.52 0-1.04.2-1.43.59L10.3 9.45l-7.72 7.72c-.78.78-.78 2.05 0 2.83L4 21.41c.39.39.9.59 1.41.59.51 0 1.02-.2 1.41-.59l7.78-7.78 2.81-2.81c.8-.78.8-2.07 0-2.86zM5.41 20L4 18.59l7.72-7.72 1.47 1.35L5.41 20z\"/>\n",
              "  </svg>\n",
              "      </button>\n",
              "      \n",
              "  <style>\n",
              "    .colab-df-container {\n",
              "      display:flex;\n",
              "      flex-wrap:wrap;\n",
              "      gap: 12px;\n",
              "    }\n",
              "\n",
              "    .colab-df-convert {\n",
              "      background-color: #E8F0FE;\n",
              "      border: none;\n",
              "      border-radius: 50%;\n",
              "      cursor: pointer;\n",
              "      display: none;\n",
              "      fill: #1967D2;\n",
              "      height: 32px;\n",
              "      padding: 0 0 0 0;\n",
              "      width: 32px;\n",
              "    }\n",
              "\n",
              "    .colab-df-convert:hover {\n",
              "      background-color: #E2EBFA;\n",
              "      box-shadow: 0px 1px 2px rgba(60, 64, 67, 0.3), 0px 1px 3px 1px rgba(60, 64, 67, 0.15);\n",
              "      fill: #174EA6;\n",
              "    }\n",
              "\n",
              "    [theme=dark] .colab-df-convert {\n",
              "      background-color: #3B4455;\n",
              "      fill: #D2E3FC;\n",
              "    }\n",
              "\n",
              "    [theme=dark] .colab-df-convert:hover {\n",
              "      background-color: #434B5C;\n",
              "      box-shadow: 0px 1px 3px 1px rgba(0, 0, 0, 0.15);\n",
              "      filter: drop-shadow(0px 1px 2px rgba(0, 0, 0, 0.3));\n",
              "      fill: #FFFFFF;\n",
              "    }\n",
              "  </style>\n",
              "\n",
              "      <script>\n",
              "        const buttonEl =\n",
              "          document.querySelector('#df-0eb2f4b2-80fd-49a3-9981-5167ada5a03a button.colab-df-convert');\n",
              "        buttonEl.style.display =\n",
              "          google.colab.kernel.accessAllowed ? 'block' : 'none';\n",
              "\n",
              "        async function convertToInteractive(key) {\n",
              "          const element = document.querySelector('#df-0eb2f4b2-80fd-49a3-9981-5167ada5a03a');\n",
              "          const dataTable =\n",
              "            await google.colab.kernel.invokeFunction('convertToInteractive',\n",
              "                                                     [key], {});\n",
              "          if (!dataTable) return;\n",
              "\n",
              "          const docLinkHtml = 'Like what you see? Visit the ' +\n",
              "            '<a target=\"_blank\" href=https://colab.research.google.com/notebooks/data_table.ipynb>data table notebook</a>'\n",
              "            + ' to learn more about interactive tables.';\n",
              "          element.innerHTML = '';\n",
              "          dataTable['output_type'] = 'display_data';\n",
              "          await google.colab.output.renderOutput(dataTable, element);\n",
              "          const docLink = document.createElement('div');\n",
              "          docLink.innerHTML = docLinkHtml;\n",
              "          element.appendChild(docLink);\n",
              "        }\n",
              "      </script>\n",
              "    </div>\n",
              "  </div>\n",
              "  "
            ],
            "text/plain": [
              "               0\n",
              "4908   11.004530\n",
              "11766 -34.233719\n",
              "12258 -23.241154\n",
              "16040 -40.295928\n",
              "34340 -30.751877\n",
              "35456   9.806276\n",
              "47260 -53.823670\n",
              "48415 -53.823670\n",
              "48767 -15.176645\n",
              "49607 -14.742287\n",
              "69852 -51.954355\n",
              "71588 -86.791668\n",
              "77463 -47.221395\n",
              "77853 -34.181927\n",
              "82405   3.482036\n",
              "84717  10.500007\n",
              "86591 -21.375704"
            ]
          },
          "metadata": {},
          "execution_count": 19
        }
      ]
    },
    {
      "cell_type": "code",
      "source": [
        "from statsmodels.stats.outliers_influence import variance_inflation_factor"
      ],
      "metadata": {
        "colab": {
          "base_uri": "https://localhost:8080/"
        },
        "id": "eKHwz4VPD-l_",
        "outputId": "0467c836-e111-4253-f662-f79a5f1b5b21"
      },
      "execution_count": null,
      "outputs": [
        {
          "output_type": "stream",
          "name": "stderr",
          "text": [
            "/usr/local/lib/python3.7/dist-packages/statsmodels/tools/_testing.py:19: FutureWarning: pandas.util.testing is deprecated. Use the functions in the public API at pandas.testing instead.\n",
            "  import pandas.util.testing as tm\n"
          ]
        }
      ]
    },
    {
      "cell_type": "code",
      "source": [
        "#vifを計算する\n",
        "vif = pd.DataFrame()\n",
        "vif[\"VIF Factor\"] = [variance_inflation_factor(X.values, i) for i in range(X.shape[1])]\n",
        "vif[\"features\"] = X.columns\n",
        " \n",
        "#vifを計算結果を出力する\n",
        "print(vif)\n",
        " \n",
        "#vifをグラフ化する\n",
        "plt.plot(vif[\"VIF Factor\"])\n"
      ],
      "metadata": {
        "colab": {
          "base_uri": "https://localhost:8080/",
          "height": 612
        },
        "id": "gMcdlVZnEuvr",
        "outputId": "c0cadc7d-6beb-40df-c641-0d99d18709ed"
      },
      "execution_count": null,
      "outputs": [
        {
          "output_type": "stream",
          "name": "stdout",
          "text": [
            "    VIF Factor  features\n",
            "0     1.087250         0\n",
            "1     1.069703         1\n",
            "2     1.038626         2\n",
            "3     1.088255         3\n",
            "4     1.008928         4\n",
            "5     1.017949         5\n",
            "6     1.113226         6\n",
            "7     1.007598         7\n",
            "8     1.027625         8\n",
            "9     1.102076         9\n",
            "10    1.206436        10\n",
            "11    1.114720        11\n",
            "12    1.050056        12\n",
            "13    1.105010        13\n",
            "14    1.044319        14\n",
            "15    1.078129        15\n",
            "16    1.197200        16\n",
            "17    1.110732        17\n"
          ]
        },
        {
          "output_type": "execute_result",
          "data": {
            "text/plain": [
              "[<matplotlib.lines.Line2D at 0x7f0e2c47bd90>]"
            ]
          },
          "metadata": {},
          "execution_count": 21
        },
        {
          "output_type": "display_data",
          "data": {
            "image/png": "[encoded data removed]",
            "text/plain": [
              "<Figure size 432x288 with 1 Axes>"
            ]
          },
          "metadata": {
            "needs_background": "light"
          }
        }
      ]
    },
    {
      "cell_type": "code",
      "source": [
        ""
      ],
      "metadata": {
        "id": "SLihwoRjFETX"
      },
      "execution_count": null,
      "outputs": []
    }
  ]
}