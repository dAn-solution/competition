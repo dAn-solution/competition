{
  "nbformat": 4,
  "nbformat_minor": 0,
  "metadata": {
    "colab": {
      "name": "Prob_kiva_029.ipynb",
      "provenance": [],
      "collapsed_sections": [],
      "authorship_tag": "ABX9TyOmyOl9Ky8TjitrhrYBJAXY",
      "include_colab_link": true
    },
    "kernelspec": {
      "name": "python3",
      "display_name": "Python 3"
    },
    "language_info": {
      "name": "python"
    }
  },
  "cells": [
    {
      "cell_type": "markdown",
      "metadata": {
        "id": "view-in-github",
        "colab_type": "text"
      },
      "source": [
        "<a href=\"https://colab.research.google.com/github/dAn-solution/competition/blob/main/Prob_kiva_029.ipynb\" target=\"_parent\"><img src=\"https://colab.research.google.com/assets/colab-badge.svg\" alt=\"Open In Colab\"/></a>"
      ]
    },
    {
      "cell_type": "markdown",
      "source": [
        "## Kiva／クラウドファンディングの資金調達額予測\n",
        "- CNN を実施\n",
        "- [回帰：燃費を予測する](https://www.tensorflow.org/tutorials/keras/regression?hl=ja) 参照"
      ],
      "metadata": {
        "id": "kFq5qAP7WdSh"
      }
    },
    {
      "cell_type": "markdown",
      "source": [
        "### Google Driveのマウント"
      ],
      "metadata": {
        "id": "eWGp_tz-pofW"
      }
    },
    {
      "cell_type": "code",
      "execution_count": null,
      "metadata": {
        "colab": {
          "base_uri": "https://localhost:8080/"
        },
        "id": "C8d7KOVLytug",
        "outputId": "f6915b07-354f-4ce4-fdd1-8116c4c85b5a"
      },
      "outputs": [
        {
          "output_type": "stream",
          "name": "stdout",
          "text": [
            "Mounted at /content/drive\n",
            "/content/drive/My Drive\n"
          ]
        }
      ],
      "source": [
        "from google.colab import drive\n",
        "drive.mount('/content/drive')\n",
        "%cd /content/drive/'My Drive'"
      ]
    },
    {
      "cell_type": "markdown",
      "source": [
        "### ライブラリのインストール、インポート"
      ],
      "metadata": {
        "id": "o0AdcnrcYc9B"
      }
    },
    {
      "cell_type": "code",
      "source": [
        "# カレントディレクトリを変更\n",
        "import os\n",
        "os.chdir('/content/drive/My Drive/Probdata/kiva/')\n",
        "print(os.getcwd())"
      ],
      "metadata": {
        "colab": {
          "base_uri": "https://localhost:8080/"
        },
        "id": "iQDKgs9J8R9V",
        "outputId": "e5afea10-cd2e-4ff6-9d7f-df650a8b7805"
      },
      "execution_count": null,
      "outputs": [
        {
          "output_type": "stream",
          "name": "stdout",
          "text": [
            "/content/drive/My Drive/Probdata/kiva\n"
          ]
        }
      ]
    },
    {
      "cell_type": "code",
      "source": [
        "class Config():\n",
        "    root_path = './'\n",
        "    input_path = os.path.join(root_path, 'input')\n",
        "    output_path = os.path.join(root_path, 'output')\n",
        "    result_path = os.path.join(root_path, 'result')\n",
        "    bert_model_name = 'bert-base-uncased'\n",
        "    seed = 42\n",
        "    constant = 25\n",
        "    debug = False"
      ],
      "metadata": {
        "id": "2o3IsyPC8vQY"
      },
      "execution_count": null,
      "outputs": []
    },
    {
      "cell_type": "code",
      "execution_count": null,
      "metadata": {
        "id": "S-hr_gTyWTqP"
      },
      "outputs": [],
      "source": [
        "import pandas as pd\n",
        "import numpy as np\n",
        "import datetime\n",
        "import warnings\n",
        "\n",
        "import matplotlib.pyplot as plt\n",
        "\n",
        "import sklearn\n",
        "from sklearn.model_selection import StratifiedKFold\n",
        "from sklearn.model_selection import train_test_split\n",
        "from sklearn import preprocessing\n",
        "from sklearn.metrics import mean_absolute_error\n",
        "\n",
        "import tensorflow as tf\n",
        "from tensorflow import keras\n",
        "import tensorflow.keras.layers as layers"
      ]
    },
    {
      "cell_type": "markdown",
      "source": [
        "### データの読み込み"
      ],
      "metadata": {
        "id": "FzO7JqIdZKj_"
      }
    },
    {
      "cell_type": "code",
      "source": [
        "train_df = pd.read_csv(f'{Config.input_path}/train.csv')\n",
        "test_df = pd.read_csv(f'{Config.input_path}/test.csv')\n",
        "sample_df = pd.read_csv(f'{Config.input_path}/sample_submission.csv')\n",
        "\n",
        "train_011_df = pd.read_csv(f'{Config.result_path}/train_011.csv')\n",
        "test_011_df = pd.read_csv(f'{Config.result_path}/test_011.csv')\n",
        "train_012_df = pd.read_csv(f'{Config.result_path}/train_012.csv')\n",
        "test_012_df = pd.read_csv(f'{Config.result_path}/test_012.csv')\n",
        "# train_013_df = pd.read_csv(f'{Config.result_path}/train_013.csv')\n",
        "# test_013_df = pd.read_csv(f'{Config.result_path}/test_013.csv')\n",
        "# train_014_df = pd.read_csv(f'{Config.result_path}/train_014.csv')\n",
        "# test_014_df = pd.read_csv(f'{Config.result_path}/test_014.csv')\n",
        "train_015_df = pd.read_csv(f'{Config.result_path}/train_015.csv')\n",
        "test_015_df = pd.read_csv(f'{Config.result_path}/test_015.csv')\n",
        "train_016_df = pd.read_csv(f'{Config.result_path}/train_016.csv')\n",
        "test_016_df = pd.read_csv(f'{Config.result_path}/test_016.csv')\n",
        "train_020_df = pd.read_csv(f'{Config.result_path}/train_020.csv')\n",
        "test_020_df = pd.read_csv(f'{Config.result_path}/test_020.csv')"
      ],
      "metadata": {
        "id": "YO-Ba_l2Y6L9"
      },
      "execution_count": null,
      "outputs": []
    },
    {
      "cell_type": "markdown",
      "source": [
        "## CNNの実行"
      ],
      "metadata": {
        "id": "yRwdPyK_LfCK"
      }
    },
    {
      "cell_type": "code",
      "source": [
        "target_column = \"LOAN_AMOUNT\"\n",
        "y = train_df[target_column]"
      ],
      "metadata": {
        "id": "DsihriA9L-7-"
      },
      "execution_count": null,
      "outputs": []
    },
    {
      "cell_type": "code",
      "source": [
        "# 合体\n",
        "# X = pd.concat([train_011_df, train_012_df, train_013_df, train_014_df, train_015_df, train_016_df, train_020_df], axis=1)\n",
        "# test_X = pd.concat([test_011_df, test_012_df, test_013_df, test_014_df, test_015_df, test_016_df, test_020_df], axis=1)\n",
        "X = pd.concat([train_011_df, train_012_df, train_015_df, train_016_df, train_020_df], axis=1)\n",
        "test_X = pd.concat([test_011_df, test_012_df, test_015_df, test_016_df, test_020_df], axis=1)"
      ],
      "metadata": {
        "id": "qApgkOOiVQuH"
      },
      "execution_count": null,
      "outputs": []
    },
    {
      "cell_type": "markdown",
      "source": [
        "- modelの構築"
      ],
      "metadata": {
        "id": "qtL5mpAdaVcJ"
      }
    },
    {
      "cell_type": "code",
      "source": [
        "def build_model():\n",
        "  model = keras.Sequential([\n",
        "    layers.Dense(300, activation='relu', input_dim=X.shape[1]),\n",
        "    keras.layers.BatchNormalization(),\n",
        "    layers.Dense(200, activation='relu'),\n",
        "    keras.layers.BatchNormalization(),\n",
        "    layers.Dense(100, activation='relu'),\n",
        "    keras.layers.BatchNormalization(),\n",
        "    layers.Dense(64, activation='relu'),\n",
        "    keras.layers.BatchNormalization(),\n",
        "    layers.Dense(32, activation='relu'),\n",
        "    keras.layers.BatchNormalization(),\n",
        "    layers.Dense(1)\n",
        "  ])\n",
        "\n",
        "  optimizer = tf.keras.optimizers.SGD(clipvalue=1.0)\n",
        "\n",
        "  model.compile(loss='mae',\n",
        "                optimizer=optimizer,\n",
        "                metrics=['mae'])\n",
        "  return model"
      ],
      "metadata": {
        "id": "CbW2VfeqZse3"
      },
      "execution_count": null,
      "outputs": []
    },
    {
      "cell_type": "code",
      "source": [
        "model = build_model()"
      ],
      "metadata": {
        "id": "NGaxo1zoZsYI"
      },
      "execution_count": null,
      "outputs": []
    },
    {
      "cell_type": "code",
      "source": [
        "model.summary()"
      ],
      "metadata": {
        "id": "nn-28XikZsSG",
        "colab": {
          "base_uri": "https://localhost:8080/"
        },
        "outputId": "9de0ad99-309a-4742-af53-f6e266e84586"
      },
      "execution_count": null,
      "outputs": [
        {
          "output_type": "stream",
          "name": "stdout",
          "text": [
            "Model: \"sequential\"\n",
            "_________________________________________________________________\n",
            " Layer (type)                Output Shape              Param #   \n",
            "=================================================================\n",
            " dense (Dense)               (None, 300)               1800      \n",
            "                                                                 \n",
            " batch_normalization (BatchN  (None, 300)              1200      \n",
            " ormalization)                                                   \n",
            "                                                                 \n",
            " dense_1 (Dense)             (None, 200)               60200     \n",
            "                                                                 \n",
            " batch_normalization_1 (Batc  (None, 200)              800       \n",
            " hNormalization)                                                 \n",
            "                                                                 \n",
            " dense_2 (Dense)             (None, 100)               20100     \n",
            "                                                                 \n",
            " batch_normalization_2 (Batc  (None, 100)              400       \n",
            " hNormalization)                                                 \n",
            "                                                                 \n",
            " dense_3 (Dense)             (None, 64)                6464      \n",
            "                                                                 \n",
            " batch_normalization_3 (Batc  (None, 64)               256       \n",
            " hNormalization)                                                 \n",
            "                                                                 \n",
            " dense_4 (Dense)             (None, 32)                2080      \n",
            "                                                                 \n",
            " batch_normalization_4 (Batc  (None, 32)               128       \n",
            " hNormalization)                                                 \n",
            "                                                                 \n",
            " dense_5 (Dense)             (None, 1)                 33        \n",
            "                                                                 \n",
            "=================================================================\n",
            "Total params: 93,461\n",
            "Trainable params: 92,069\n",
            "Non-trainable params: 1,392\n",
            "_________________________________________________________________\n"
          ]
        }
      ]
    },
    {
      "cell_type": "code",
      "source": [
        "example_batch = X[:10]\n",
        "example_result = model.predict(example_batch)\n",
        "example_result"
      ],
      "metadata": {
        "id": "RsTpfKMOZsM0",
        "colab": {
          "base_uri": "https://localhost:8080/"
        },
        "outputId": "bad2c49b-dc08-41a9-88b5-22a5b3367d11"
      },
      "execution_count": null,
      "outputs": [
        {
          "output_type": "execute_result",
          "data": {
            "text/plain": [
              "array([[ 56.935528],\n",
              "       [ 89.59634 ],\n",
              "       [ 83.35957 ],\n",
              "       [ 67.73675 ],\n",
              "       [110.66252 ],\n",
              "       [127.87848 ],\n",
              "       [ 99.40046 ],\n",
              "       [120.56101 ],\n",
              "       [204.41852 ],\n",
              "       [125.55285 ]], dtype=float32)"
            ]
          },
          "metadata": {},
          "execution_count": 11
        }
      ]
    },
    {
      "cell_type": "markdown",
      "source": [
        "- modelの訓練"
      ],
      "metadata": {
        "id": "VXH4qOBRmcxs"
      }
    },
    {
      "cell_type": "code",
      "source": [
        "EPOCHS = 1000\n",
        "class PrintDot(keras.callbacks.Callback):\n",
        "  def on_epoch_end(self, epoch, logs):\n",
        "    if epoch % 100 == 0: print('')\n",
        "    print('.', end='')\n"
      ],
      "metadata": {
        "id": "qRsRbteRESfT"
      },
      "execution_count": null,
      "outputs": []
    },
    {
      "cell_type": "code",
      "source": [
        "# エポックが終わるごとにドットを一つ出力することで進捗を表示\n",
        "\n",
        "# history = model.fit(\n",
        "#   X_train, y_train,\n",
        "#   epochs=EPOCHS, validation_split = 0.2, verbose=0,\n",
        "#   callbacks=[PrintDot()])"
      ],
      "metadata": {
        "id": "bgQ36Q_1ZsHI"
      },
      "execution_count": null,
      "outputs": []
    },
    {
      "cell_type": "code",
      "source": [
        "# mae\n",
        "# print(\"mae = \", mean_absolute_error(y_oof[vl_idx], y_vl_fold))"
      ],
      "metadata": {
        "id": "_a67PS8Q1a6T"
      },
      "execution_count": null,
      "outputs": []
    },
    {
      "cell_type": "code",
      "source": [
        "# hist = pd.DataFrame(history.history)\n",
        "# hist['epoch'] = history.epoch\n",
        "# hist.tail()"
      ],
      "metadata": {
        "id": "I85Is5mlZsBV"
      },
      "execution_count": null,
      "outputs": []
    },
    {
      "cell_type": "code",
      "source": [
        "def plot_history(history):\n",
        "  hist = pd.DataFrame(history.history)\n",
        "  hist['epoch'] = history.epoch\n",
        "\n",
        "  plt.figure()\n",
        "  plt.xlabel('Epoch')\n",
        "  plt.ylabel('Mean Abs Error [MPG]')\n",
        "  plt.plot(hist['epoch'], hist['loss'],\n",
        "           label='Train Error')\n",
        "  plt.plot(hist['epoch'], hist['val_mae'],\n",
        "           label = 'Val Error')\n",
        "#   plt.ylim([0,5])\n",
        "  plt.legend()\n",
        "\n",
        "  plt.figure()\n",
        "  plt.xlabel('Epoch')\n",
        "  plt.ylabel('Mean Square Error [$MPG^2$]')\n",
        "  plt.plot(hist['epoch'], hist['mae'],\n",
        "           label='Train Error')\n",
        "  plt.plot(hist['epoch'], hist['val_mae'],\n",
        "           label = 'Val Error')\n",
        "#   plt.ylim([0,20])\n",
        "  plt.legend()\n",
        "  plt.show()\n",
        "\n",
        "\n",
        "# plot_history(history)"
      ],
      "metadata": {
        "id": "TsWx2JKpZr7p"
      },
      "execution_count": null,
      "outputs": []
    },
    {
      "cell_type": "code",
      "source": [
        "model = build_model()\n",
        "\n",
        "# patience は改善が見られるかを監視するエポック数を表すパラメーター\n",
        "early_stop = keras.callbacks.EarlyStopping(monitor='val_loss', patience=10)\n",
        "\n",
        "history = model.fit(X, y, epochs=EPOCHS,\n",
        "                    validation_split = 0.2, verbose=0, callbacks=[early_stop, PrintDot()])\n",
        "\n",
        "plot_history(history)"
      ],
      "metadata": {
        "id": "RHiqsHTIZr11",
        "colab": {
          "base_uri": "https://localhost:8080/",
          "height": 575
        },
        "outputId": "7080a662-a671-4c91-b8f3-50d9ebd095d5"
      },
      "execution_count": null,
      "outputs": [
        {
          "output_type": "stream",
          "name": "stdout",
          "text": [
            "\n",
            "..........."
          ]
        },
        {
          "output_type": "display_data",
          "data": {
            "image/png": "[encoded data removed]",
            "text/plain": [
              "<Figure size 432x288 with 1 Axes>"
            ]
          },
          "metadata": {
            "needs_background": "light"
          }
        },
        {
          "output_type": "display_data",
          "data": {
            "image/png": "[encoded data removed]",
            "text/plain": [
              "<Figure size 432x288 with 1 Axes>"
            ]
          },
          "metadata": {
            "needs_background": "light"
          }
        }
      ]
    },
    {
      "cell_type": "code",
      "source": [
        "# loss, mae = model.evaluate(X_test, y_test, verbose=2)\n",
        "\n",
        "# print(\"Testing set Mean Abs Error: {:5.2f} MPG\".format(mae))"
      ],
      "metadata": {
        "id": "KIULKB42Zru5"
      },
      "execution_count": null,
      "outputs": []
    },
    {
      "cell_type": "markdown",
      "source": [
        "− modelを使った予測"
      ],
      "metadata": {
        "id": "c_JGMPGpm6SY"
      }
    },
    {
      "cell_type": "code",
      "source": [
        "train_predictions = model.predict(X).flatten()\n",
        "test_predictions = model.predict(test_X).flatten()"
      ],
      "metadata": {
        "id": "AJBwcDYpZrnf"
      },
      "execution_count": null,
      "outputs": []
    },
    {
      "cell_type": "code",
      "source": [
        "print(train_predictions.shape)\n",
        "print(test_predictions.shape)"
      ],
      "metadata": {
        "id": "PZO8JbkfZrfs",
        "colab": {
          "base_uri": "https://localhost:8080/"
        },
        "outputId": "41670219-d09f-48c0-ce08-878d3421ee39"
      },
      "execution_count": null,
      "outputs": [
        {
          "output_type": "stream",
          "name": "stdout",
          "text": [
            "(91333,)\n",
            "(91822,)\n"
          ]
        }
      ]
    },
    {
      "cell_type": "code",
      "source": [
        "print(mean_absolute_error(train_predictions, y))"
      ],
      "metadata": {
        "colab": {
          "base_uri": "https://localhost:8080/"
        },
        "id": "T3KUdbnrCba5",
        "outputId": "4732b0a1-81e0-4449-c186-dc8088417a19"
      },
      "execution_count": null,
      "outputs": [
        {
          "output_type": "stream",
          "name": "stdout",
          "text": [
            "316.96206510077167\n"
          ]
        }
      ]
    },
    {
      "cell_type": "code",
      "source": [
        "# メタモデルへの引き渡し\n",
        "train_029_df = pd.DataFrame(train_predictions)\n",
        "train_029_df.to_csv(os.path.join(Config.result_path, \"train_029.csv\"), index=False)\n",
        "\n",
        "test_029_df = pd.DataFrame(test_predictions)\n",
        "test_029_df.to_csv(os.path.join(Config.result_path, \"test_029.csv\"), index=False)"
      ],
      "metadata": {
        "id": "vhAXvGKsttca"
      },
      "execution_count": null,
      "outputs": []
    },
    {
      "cell_type": "markdown",
      "source": [
        "### 提出データの作成"
      ],
      "metadata": {
        "id": "_nqnxJ7R7xMp"
      }
    },
    {
      "cell_type": "code",
      "source": [
        "for i in range(len(test_predictions)):\n",
        "    a, b = divmod(test_predictions[i], Config.constant)\n",
        "    if b > (Config.constant/2):\n",
        "        b = 1\n",
        "    else:\n",
        "        b = 0\n",
        "    test_predictions[i] = (a + b) * Config.constant"
      ],
      "metadata": {
        "id": "EcoIc0mguAiD"
      },
      "execution_count": null,
      "outputs": []
    },
    {
      "cell_type": "code",
      "source": [
        "sample_df[\"LOAN_AMOUNT\"] = test_predictions\n",
        "print(sample_df)"
      ],
      "metadata": {
        "colab": {
          "base_uri": "https://localhost:8080/"
        },
        "id": "YUlCmkODvBI0",
        "outputId": "98a98689-ec66-4481-9be4-48d45edd9e19"
      },
      "execution_count": null,
      "outputs": [
        {
          "output_type": "stream",
          "name": "stdout",
          "text": [
            "       LOAN_ID  LOAN_AMOUNT\n",
            "0      2041445        525.0\n",
            "1      1944435        600.0\n",
            "2      2083354        425.0\n",
            "3      1993565        725.0\n",
            "4      2064272        300.0\n",
            "...        ...          ...\n",
            "91817  1993862        400.0\n",
            "91818  2015070        325.0\n",
            "91819  1950349        675.0\n",
            "91820  1921580       1425.0\n",
            "91821  1976733        575.0\n",
            "\n",
            "[91822 rows x 2 columns]\n"
          ]
        }
      ]
    },
    {
      "cell_type": "code",
      "source": [
        "# submitファイルのファイル名に利用する作成時刻の取得\n",
        "\n",
        "now = datetime.datetime.now(datetime.timezone(datetime.timedelta(hours=1)))\n",
        "date_time = \"{0:%Y%m%d_%H%M}\".format(now)"
      ],
      "metadata": {
        "id": "njijaymzwV5E"
      },
      "execution_count": null,
      "outputs": []
    },
    {
      "cell_type": "code",
      "source": [
        "# submitファイルの出力(Google Driveに出力）\n",
        "# 形式：submit_yyyymmdd_hhmm.csv\n",
        "\n",
        "sample_df.to_csv(os.path.join(Config.output_path, f\"submit_{date_time}.csv\"), index=False)\n"
      ],
      "metadata": {
        "id": "0CGhsadewfq2"
      },
      "execution_count": null,
      "outputs": []
    },
    {
      "cell_type": "code",
      "source": [
        "date_time"
      ],
      "metadata": {
        "id": "LiEpyxAesS2e",
        "colab": {
          "base_uri": "https://localhost:8080/",
          "height": 35
        },
        "outputId": "fd2cf6b8-b45e-4bee-c85d-f7292d835699"
      },
      "execution_count": null,
      "outputs": [
        {
          "output_type": "execute_result",
          "data": {
            "application/vnd.google.colaboratory.intrinsic+json": {
              "type": "string"
            },
            "text/plain": [
              "'20220129_0855'"
            ]
          },
          "metadata": {},
          "execution_count": 27
        }
      ]
    },
    {
      "cell_type": "code",
      "source": [
        ""
      ],
      "metadata": {
        "id": "67yPLeXB2C7F"
      },
      "execution_count": null,
      "outputs": []
    }
  ]
}