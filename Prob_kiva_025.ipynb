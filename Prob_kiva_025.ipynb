{
  "nbformat": 4,
  "nbformat_minor": 0,
  "metadata": {
    "colab": {
      "name": "Prob_kiva_025.ipynb",
      "provenance": [],
      "collapsed_sections": [],
      "authorship_tag": "ABX9TyPpSeso3+AglkyRXmGNnEz8",
      "include_colab_link": true
    },
    "kernelspec": {
      "name": "python3",
      "display_name": "Python 3"
    },
    "language_info": {
      "name": "python"
    }
  },
  "cells": [
    {
      "cell_type": "markdown",
      "metadata": {
        "id": "view-in-github",
        "colab_type": "text"
      },
      "source": [
        "<a href=\"https://colab.research.google.com/github/dAn-solution/competition/blob/main/Prob_kiva_025.ipynb\" target=\"_parent\"><img src=\"https://colab.research.google.com/assets/colab-badge.svg\" alt=\"Open In Colab\"/></a>"
      ]
    },
    {
      "cell_type": "markdown",
      "source": [
        "## Kiva／クラウドファンディングの資金調達額予測\n",
        "- ランダムフォレスト を実施"
      ],
      "metadata": {
        "id": "kFq5qAP7WdSh"
      }
    },
    {
      "cell_type": "markdown",
      "source": [
        "### Google Driveのマウント"
      ],
      "metadata": {
        "id": "eWGp_tz-pofW"
      }
    },
    {
      "cell_type": "code",
      "execution_count": null,
      "metadata": {
        "colab": {
          "base_uri": "https://localhost:8080/"
        },
        "id": "C8d7KOVLytug",
        "outputId": "b677563c-5158-4b76-bfbf-d93ea06a27b3"
      },
      "outputs": [
        {
          "output_type": "stream",
          "name": "stdout",
          "text": [
            "Mounted at /content/drive\n",
            "/content/drive/My Drive\n"
          ]
        }
      ],
      "source": [
        "from google.colab import drive\n",
        "drive.mount('/content/drive')\n",
        "%cd /content/drive/'My Drive'"
      ]
    },
    {
      "cell_type": "markdown",
      "source": [
        "### ライブラリのインストール、インポート"
      ],
      "metadata": {
        "id": "o0AdcnrcYc9B"
      }
    },
    {
      "cell_type": "code",
      "source": [
        "# カレントディレクトリを変更\n",
        "import os\n",
        "os.chdir('/content/drive/My Drive/Probdata/kiva/')\n",
        "print(os.getcwd())"
      ],
      "metadata": {
        "colab": {
          "base_uri": "https://localhost:8080/"
        },
        "id": "iQDKgs9J8R9V",
        "outputId": "2a29ff81-d8ca-4a3a-8e87-7cf1faeae640"
      },
      "execution_count": null,
      "outputs": [
        {
          "output_type": "stream",
          "name": "stdout",
          "text": [
            "/content/drive/My Drive/Probdata/kiva\n"
          ]
        }
      ]
    },
    {
      "cell_type": "code",
      "source": [
        "class Config():\n",
        "    root_path = './'\n",
        "    input_path = os.path.join(root_path, 'input')\n",
        "    output_path = os.path.join(root_path, 'output')\n",
        "    result_path = os.path.join(root_path, 'result')\n",
        "    bert_model_name = 'bert-base-uncased'\n",
        "    seed = 42\n",
        "    debug = False"
      ],
      "metadata": {
        "id": "2o3IsyPC8vQY"
      },
      "execution_count": null,
      "outputs": []
    },
    {
      "cell_type": "code",
      "execution_count": null,
      "metadata": {
        "id": "S-hr_gTyWTqP"
      },
      "outputs": [],
      "source": [
        "import pandas as pd\n",
        "import numpy as np\n",
        "import datetime\n",
        "import warnings\n",
        "\n",
        "import matplotlib.pyplot as plt\n",
        "\n",
        "import sklearn\n",
        "from sklearn.model_selection import StratifiedKFold\n",
        "from sklearn.model_selection import train_test_split\n",
        "from sklearn import preprocessing\n",
        "from sklearn.metrics import mean_absolute_error\n",
        "from sklearn.ensemble import RandomForestRegressor as RFR"
      ]
    },
    {
      "cell_type": "markdown",
      "source": [
        "### データの読み込み"
      ],
      "metadata": {
        "id": "FzO7JqIdZKj_"
      }
    },
    {
      "cell_type": "code",
      "source": [
        "train_df = pd.read_csv(f'{Config.input_path}/train.csv')\n",
        "test_df = pd.read_csv(f'{Config.input_path}/test.csv')\n",
        "sample_df = pd.read_csv(f'{Config.input_path}/sample_submission.csv')\n",
        "\n",
        "train_011_df = pd.read_csv(f'{Config.result_path}/train_011.csv')\n",
        "test_011_df = pd.read_csv(f'{Config.result_path}/test_011.csv')\n",
        "train_012_df = pd.read_csv(f'{Config.result_path}/train_012.csv')\n",
        "test_012_df = pd.read_csv(f'{Config.result_path}/test_012.csv')\n",
        "# train_013_df = pd.read_csv(f'{Config.result_path}/train_013.csv')\n",
        "# test_013_df = pd.read_csv(f'{Config.result_path}/test_013.csv')\n",
        "# train_014_df = pd.read_csv(f'{Config.result_path}/train_014.csv')\n",
        "# test_014_df = pd.read_csv(f'{Config.result_path}/test_014.csv')\n",
        "train_015_df = pd.read_csv(f'{Config.result_path}/train_015.csv')\n",
        "test_015_df = pd.read_csv(f'{Config.result_path}/test_015.csv')\n",
        "train_016_df = pd.read_csv(f'{Config.result_path}/train_016.csv')\n",
        "test_016_df = pd.read_csv(f'{Config.result_path}/test_016.csv')\n",
        "train_020_df = pd.read_csv(f'{Config.result_path}/train_020.csv')\n",
        "test_020_df = pd.read_csv(f'{Config.result_path}/test_020.csv')"
      ],
      "metadata": {
        "id": "Z7JWwiUDxlAs"
      },
      "execution_count": null,
      "outputs": []
    },
    {
      "cell_type": "markdown",
      "source": [
        "## ランダムフォレストの実行"
      ],
      "metadata": {
        "id": "yRwdPyK_LfCK"
      }
    },
    {
      "cell_type": "code",
      "source": [
        "target_column = \"LOAN_AMOUNT\"\n",
        "y = train_df[target_column]"
      ],
      "metadata": {
        "id": "DsihriA9L-7-"
      },
      "execution_count": null,
      "outputs": []
    },
    {
      "cell_type": "code",
      "source": [
        "# 合体\n",
        "# X = pd.concat([train_011_df, train_012_df, train_013_df, train_014_df, train_015_df, train_016_df, train_020_df], axis=1)\n",
        "# test_X = pd.concat([test_011_df, test_012_df, test_013_df, test_014_df, test_015_df, test_016_df, test_020_df], axis=1)\n",
        "X = pd.concat([train_011_df, train_012_df, train_015_df, train_016_df, train_020_df], axis=1)\n",
        "test_X = pd.concat([test_011_df, test_012_df, test_015_df, test_016_df, test_020_df], axis=1)"
      ],
      "metadata": {
        "id": "kaYjiGdL6j6B"
      },
      "execution_count": null,
      "outputs": []
    },
    {
      "cell_type": "code",
      "source": [
        "# trainデータを訓練用とテスト用に分割\n",
        "X_train, X_test, y_train, y_test = train_test_split(X, y, test_size=0.2, random_state = Config.seed)"
      ],
      "metadata": {
        "id": "PV02FXlHnsbS"
      },
      "execution_count": null,
      "outputs": []
    },
    {
      "cell_type": "code",
      "metadata": {
        "id": "1O2YxxV-YRx0",
        "colab": {
          "base_uri": "https://localhost:8080/"
        },
        "outputId": "10dc8714-85bd-40a0-b2cf-d52fe7ec80cb"
      },
      "source": [
        "# 学習/予測\n",
        "\n",
        "y_oof = np.zeros(len(y_train))\n",
        "meta_preds = []\n",
        "y_preds = []\n",
        "kf = StratifiedKFold(n_splits=5)\n",
        "for fold, (tr_idx, vl_idx) in enumerate(kf.split(X_train, y_train)):\n",
        "    x_tr_fold = X.iloc[tr_idx]\n",
        "    y_tr_fold = y.iloc[tr_idx]\n",
        "    x_vl_fold = X.iloc[vl_idx]\n",
        "    y_vl_fold = y.iloc[vl_idx]\n",
        "\n",
        "    model = RFR(n_estimators=10)\n",
        "    model.fit(x_tr_fold, y_tr_fold)\n",
        "    # model.fit(\n",
        "    #     x_tr_fold, y_tr_fold,\n",
        "    #     eval_set=(x_vl_fold, y_vl_fold),\n",
        "    #     eval_metric='l1',\n",
        "    #     verbose=False,\n",
        "    #     early_stopping_rounds=100,\n",
        "    # )\n",
        "    y_oof[vl_idx] = model.predict(x_vl_fold)\n",
        "    meta_preds.append(model.predict(X))\n",
        "    y_preds.append(model.predict(test_X))\n",
        "    print(\n",
        "        f'fold {fold} score:', mean_absolute_error(y_oof[vl_idx], y_vl_fold)\n",
        "    )\n",
        "\n",
        "print('X score:', mean_absolute_error(model.predict(X), y))"
      ],
      "execution_count": null,
      "outputs": [
        {
          "output_type": "stream",
          "name": "stderr",
          "text": [
            "/usr/local/lib/python3.7/dist-packages/sklearn/model_selection/_split.py:680: UserWarning: The least populated class in y has only 1 members, which is less than n_splits=5.\n",
            "  UserWarning,\n"
          ]
        },
        {
          "output_type": "stream",
          "name": "stdout",
          "text": [
            "fold 0 score: 135.4175790338032\n",
            "fold 1 score: 132.57818380893724\n",
            "fold 2 score: 131.68976254020393\n",
            "fold 3 score: 131.40234722507356\n",
            "fold 4 score: 134.47290084171627\n",
            "X score: 125.34631513253699\n"
          ]
        }
      ]
    },
    {
      "cell_type": "code",
      "source": [
        "# メタモデルへの引き渡し\n",
        "train_025_df = pd.DataFrame(np.mean(meta_preds, axis=0))\n",
        "train_025_df.to_csv(os.path.join(Config.result_path, \"train_025.csv\"), index=False)\n",
        "\n",
        "test_025_df = pd.DataFrame(np.mean(y_preds, axis=0))\n",
        "test_025_df.to_csv(os.path.join(Config.result_path, \"test_025.csv\"), index=False)"
      ],
      "metadata": {
        "id": "Jnzu06VZxpvA"
      },
      "execution_count": null,
      "outputs": []
    },
    {
      "cell_type": "markdown",
      "source": [
        "### 提出データの作成"
      ],
      "metadata": {
        "id": "7zGFnZXtvGmE"
      }
    },
    {
      "cell_type": "code",
      "source": [
        "sample_df[\"LOAN_AMOUNT\"] = np.mean(y_preds, axis=0)\n",
        "print(sample_df)"
      ],
      "metadata": {
        "colab": {
          "base_uri": "https://localhost:8080/"
        },
        "id": "YUlCmkODvBI0",
        "outputId": "1aa0bf4e-8b45-4ba2-dfc6-9aa7cfb2e013"
      },
      "execution_count": null,
      "outputs": [
        {
          "output_type": "stream",
          "name": "stdout",
          "text": [
            "       LOAN_ID  LOAN_AMOUNT\n",
            "0      2041445        480.0\n",
            "1      1944435        586.5\n",
            "2      2083354        361.5\n",
            "3      1993565        775.5\n",
            "4      2064272        200.0\n",
            "...        ...          ...\n",
            "91817  1993862        346.0\n",
            "91818  2015070        221.0\n",
            "91819  1950349        712.5\n",
            "91820  1921580       1546.0\n",
            "91821  1976733        523.0\n",
            "\n",
            "[91822 rows x 2 columns]\n"
          ]
        }
      ]
    },
    {
      "cell_type": "code",
      "source": [
        "# submitファイルのファイル名に利用する作成時刻の取得\n",
        "\n",
        "now = datetime.datetime.now(datetime.timezone(datetime.timedelta(hours=1)))\n",
        "date_time = \"{0:%Y%m%d_%H%M}\".format(now)"
      ],
      "metadata": {
        "id": "njijaymzwV5E"
      },
      "execution_count": null,
      "outputs": []
    },
    {
      "cell_type": "code",
      "source": [
        "# submitファイルの出力(Google Driveに出力）\n",
        "# 形式：submit_yyyymmdd_hhmm.csv\n",
        "\n",
        "sample_df.to_csv(os.path.join(Config.output_path, f\"submit_{date_time}.csv\"), index=False)\n"
      ],
      "metadata": {
        "id": "0CGhsadewfq2"
      },
      "execution_count": null,
      "outputs": []
    },
    {
      "cell_type": "code",
      "source": [
        "test_025_df.describe()"
      ],
      "metadata": {
        "id": "xZNbfm1qGxE9",
        "colab": {
          "base_uri": "https://localhost:8080/",
          "height": 300
        },
        "outputId": "f39429fb-eff6-47c9-fa02-ff3c2866e20f"
      },
      "execution_count": null,
      "outputs": [
        {
          "output_type": "execute_result",
          "data": {
            "text/html": [
              "\n",
              "  <div id=\"df-d8402aaa-2031-4f02-8f83-ed24cf107f8a\">\n",
              "    <div class=\"colab-df-container\">\n",
              "      <div>\n",
              "<style scoped>\n",
              "    .dataframe tbody tr th:only-of-type {\n",
              "        vertical-align: middle;\n",
              "    }\n",
              "\n",
              "    .dataframe tbody tr th {\n",
              "        vertical-align: top;\n",
              "    }\n",
              "\n",
              "    .dataframe thead th {\n",
              "        text-align: right;\n",
              "    }\n",
              "</style>\n",
              "<table border=\"1\" class=\"dataframe\">\n",
              "  <thead>\n",
              "    <tr style=\"text-align: right;\">\n",
              "      <th></th>\n",
              "      <th>0</th>\n",
              "    </tr>\n",
              "  </thead>\n",
              "  <tbody>\n",
              "    <tr>\n",
              "      <th>count</th>\n",
              "      <td>91822.000000</td>\n",
              "    </tr>\n",
              "    <tr>\n",
              "      <th>mean</th>\n",
              "      <td>642.665314</td>\n",
              "    </tr>\n",
              "    <tr>\n",
              "      <th>std</th>\n",
              "      <td>603.669555</td>\n",
              "    </tr>\n",
              "    <tr>\n",
              "      <th>min</th>\n",
              "      <td>50.000000</td>\n",
              "    </tr>\n",
              "    <tr>\n",
              "      <th>25%</th>\n",
              "      <td>338.500000</td>\n",
              "    </tr>\n",
              "    <tr>\n",
              "      <th>50%</th>\n",
              "      <td>472.500000</td>\n",
              "    </tr>\n",
              "    <tr>\n",
              "      <th>75%</th>\n",
              "      <td>726.000000</td>\n",
              "    </tr>\n",
              "    <tr>\n",
              "      <th>max</th>\n",
              "      <td>9606.500000</td>\n",
              "    </tr>\n",
              "  </tbody>\n",
              "</table>\n",
              "</div>\n",
              "      <button class=\"colab-df-convert\" onclick=\"convertToInteractive('df-d8402aaa-2031-4f02-8f83-ed24cf107f8a')\"\n",
              "              title=\"Convert this dataframe to an interactive table.\"\n",
              "              style=\"display:none;\">\n",
              "        \n",
              "  <svg xmlns=\"http://www.w3.org/2000/svg\" height=\"24px\"viewBox=\"0 0 24 24\"\n",
              "       width=\"24px\">\n",
              "    <path d=\"M0 0h24v24H0V0z\" fill=\"none\"/>\n",
              "    <path d=\"M18.56 5.44l.94 2.06.94-2.06 2.06-.94-2.06-.94-.94-2.06-.94 2.06-2.06.94zm-11 1L8.5 8.5l.94-2.06 2.06-.94-2.06-.94L8.5 2.5l-.94 2.06-2.06.94zm10 10l.94 2.06.94-2.06 2.06-.94-2.06-.94-.94-2.06-.94 2.06-2.06.94z\"/><path d=\"M17.41 7.96l-1.37-1.37c-.4-.4-.92-.59-1.43-.59-.52 0-1.04.2-1.43.59L10.3 9.45l-7.72 7.72c-.78.78-.78 2.05 0 2.83L4 21.41c.39.39.9.59 1.41.59.51 0 1.02-.2 1.41-.59l7.78-7.78 2.81-2.81c.8-.78.8-2.07 0-2.86zM5.41 20L4 18.59l7.72-7.72 1.47 1.35L5.41 20z\"/>\n",
              "  </svg>\n",
              "      </button>\n",
              "      \n",
              "  <style>\n",
              "    .colab-df-container {\n",
              "      display:flex;\n",
              "      flex-wrap:wrap;\n",
              "      gap: 12px;\n",
              "    }\n",
              "\n",
              "    .colab-df-convert {\n",
              "      background-color: #E8F0FE;\n",
              "      border: none;\n",
              "      border-radius: 50%;\n",
              "      cursor: pointer;\n",
              "      display: none;\n",
              "      fill: #1967D2;\n",
              "      height: 32px;\n",
              "      padding: 0 0 0 0;\n",
              "      width: 32px;\n",
              "    }\n",
              "\n",
              "    .colab-df-convert:hover {\n",
              "      background-color: #E2EBFA;\n",
              "      box-shadow: 0px 1px 2px rgba(60, 64, 67, 0.3), 0px 1px 3px 1px rgba(60, 64, 67, 0.15);\n",
              "      fill: #174EA6;\n",
              "    }\n",
              "\n",
              "    [theme=dark] .colab-df-convert {\n",
              "      background-color: #3B4455;\n",
              "      fill: #D2E3FC;\n",
              "    }\n",
              "\n",
              "    [theme=dark] .colab-df-convert:hover {\n",
              "      background-color: #434B5C;\n",
              "      box-shadow: 0px 1px 3px 1px rgba(0, 0, 0, 0.15);\n",
              "      filter: drop-shadow(0px 1px 2px rgba(0, 0, 0, 0.3));\n",
              "      fill: #FFFFFF;\n",
              "    }\n",
              "  </style>\n",
              "\n",
              "      <script>\n",
              "        const buttonEl =\n",
              "          document.querySelector('#df-d8402aaa-2031-4f02-8f83-ed24cf107f8a button.colab-df-convert');\n",
              "        buttonEl.style.display =\n",
              "          google.colab.kernel.accessAllowed ? 'block' : 'none';\n",
              "\n",
              "        async function convertToInteractive(key) {\n",
              "          const element = document.querySelector('#df-d8402aaa-2031-4f02-8f83-ed24cf107f8a');\n",
              "          const dataTable =\n",
              "            await google.colab.kernel.invokeFunction('convertToInteractive',\n",
              "                                                     [key], {});\n",
              "          if (!dataTable) return;\n",
              "\n",
              "          const docLinkHtml = 'Like what you see? Visit the ' +\n",
              "            '<a target=\"_blank\" href=https://colab.research.google.com/notebooks/data_table.ipynb>data table notebook</a>'\n",
              "            + ' to learn more about interactive tables.';\n",
              "          element.innerHTML = '';\n",
              "          dataTable['output_type'] = 'display_data';\n",
              "          await google.colab.output.renderOutput(dataTable, element);\n",
              "          const docLink = document.createElement('div');\n",
              "          docLink.innerHTML = docLinkHtml;\n",
              "          element.appendChild(docLink);\n",
              "        }\n",
              "      </script>\n",
              "    </div>\n",
              "  </div>\n",
              "  "
            ],
            "text/plain": [
              "                  0\n",
              "count  91822.000000\n",
              "mean     642.665314\n",
              "std      603.669555\n",
              "min       50.000000\n",
              "25%      338.500000\n",
              "50%      472.500000\n",
              "75%      726.000000\n",
              "max     9606.500000"
            ]
          },
          "metadata": {},
          "execution_count": 14
        }
      ]
    },
    {
      "cell_type": "code",
      "source": [
        ""
      ],
      "metadata": {
        "id": "PnmMBHBKPWSU"
      },
      "execution_count": null,
      "outputs": []
    }
  ]
}