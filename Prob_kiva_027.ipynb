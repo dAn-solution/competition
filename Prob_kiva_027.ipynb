{
  "nbformat": 4,
  "nbformat_minor": 0,
  "metadata": {
    "colab": {
      "name": "Prob_kiva_027.ipynb",
      "provenance": [],
      "collapsed_sections": [],
      "authorship_tag": "ABX9TyNMBvK4v6BgZJ78LP6N+r+h",
      "include_colab_link": true
    },
    "kernelspec": {
      "name": "python3",
      "display_name": "Python 3"
    },
    "language_info": {
      "name": "python"
    }
  },
  "cells": [
    {
      "cell_type": "markdown",
      "metadata": {
        "id": "view-in-github",
        "colab_type": "text"
      },
      "source": [
        "<a href=\"https://colab.research.google.com/github/dAn-solution/competition/blob/main/Prob_kiva_027.ipynb\" target=\"_parent\"><img src=\"https://colab.research.google.com/assets/colab-badge.svg\" alt=\"Open In Colab\"/></a>"
      ]
    },
    {
      "cell_type": "markdown",
      "source": [
        "## Kiva／クラウドファンディングの資金調達額予測\n",
        "- アンサンブルの実施 第3層\n",
        "- Prob_kiva_021 からLightGBM\n",
        "- Prob_kiva_022 からRidge回帰\n",
        "- Prob_kiva_023 から重回帰分析\n",
        "- Prob_kiva_024 からLasso回帰\n",
        "- Prob_kiva_025 からランダムフォレスト\n",
        "- Prob_kiva_025 からGBDT（勾配ブースティング木）"
      ],
      "metadata": {
        "id": "kFq5qAP7WdSh"
      }
    },
    {
      "cell_type": "markdown",
      "source": [
        "### Google Driveのマウント"
      ],
      "metadata": {
        "id": "eWGp_tz-pofW"
      }
    },
    {
      "cell_type": "code",
      "execution_count": null,
      "metadata": {
        "colab": {
          "base_uri": "https://localhost:8080/"
        },
        "id": "C8d7KOVLytug",
        "outputId": "47cc21ff-29da-49f6-8311-96ea67eab3fb"
      },
      "outputs": [
        {
          "output_type": "stream",
          "name": "stdout",
          "text": [
            "Mounted at /content/drive\n",
            "/content/drive/My Drive\n"
          ]
        }
      ],
      "source": [
        "from google.colab import drive\n",
        "drive.mount('/content/drive')\n",
        "%cd /content/drive/'My Drive'"
      ]
    },
    {
      "cell_type": "markdown",
      "source": [
        "### ライブラリのインストール、インポート"
      ],
      "metadata": {
        "id": "o0AdcnrcYc9B"
      }
    },
    {
      "cell_type": "code",
      "source": [
        "# カレントディレクトリを変更\n",
        "import os\n",
        "os.chdir('/content/drive/My Drive/Probdata/kiva/')\n",
        "print(os.getcwd())"
      ],
      "metadata": {
        "colab": {
          "base_uri": "https://localhost:8080/"
        },
        "id": "iQDKgs9J8R9V",
        "outputId": "e616cc4f-947f-44ca-ee22-b463e6fa4837"
      },
      "execution_count": null,
      "outputs": [
        {
          "output_type": "stream",
          "name": "stdout",
          "text": [
            "/content/drive/My Drive/Probdata/kiva\n"
          ]
        }
      ]
    },
    {
      "cell_type": "code",
      "source": [
        "class Config():\n",
        "    root_path = './'\n",
        "    input_path = os.path.join(root_path, 'input')\n",
        "    output_path = os.path.join(root_path, 'output')\n",
        "    result_path = os.path.join(root_path, 'result')\n",
        "    bert_model_name = 'bert-base-uncased'\n",
        "    constant = 25\n",
        "    seed = 42\n",
        "    debug = False"
      ],
      "metadata": {
        "id": "2o3IsyPC8vQY"
      },
      "execution_count": null,
      "outputs": []
    },
    {
      "cell_type": "code",
      "execution_count": null,
      "metadata": {
        "id": "S-hr_gTyWTqP"
      },
      "outputs": [],
      "source": [
        "import pandas as pd\n",
        "import numpy as np\n",
        "import datetime\n",
        "import warnings\n",
        "\n",
        "import matplotlib.pyplot as plt\n",
        "\n",
        "import sklearn\n",
        "from sklearn.model_selection import StratifiedKFold\n",
        "from sklearn.model_selection import train_test_split\n",
        "from sklearn import preprocessing\n",
        "from sklearn.metrics import mean_absolute_error\n",
        "from sklearn.linear_model import LinearRegression"
      ]
    },
    {
      "cell_type": "markdown",
      "source": [
        "### データの読み込み"
      ],
      "metadata": {
        "id": "FzO7JqIdZKj_"
      }
    },
    {
      "cell_type": "code",
      "source": [
        "# train_df = pd.read_csv(f'{Config.input_path}/train.csv')\n",
        "train_df = pd.read_csv(f'{Config.result_path}/half.csv')\n",
        "sample_df = pd.read_csv(f'{Config.input_path}/sample_submission.csv')\n",
        "\n",
        "train_021_df = pd.read_csv(f'{Config.result_path}/train_021.csv')\n",
        "test_021_df = pd.read_csv(f'{Config.result_path}/test_021.csv')\n",
        "train_022_df = pd.read_csv(f'{Config.result_path}/train_022.csv')\n",
        "test_022_df = pd.read_csv(f'{Config.result_path}/test_022.csv')\n",
        "# train_023_df = pd.read_csv(f'{Config.result_path}/train_023.csv')\n",
        "# test_023_df = pd.read_csv(f'{Config.result_path}/test_023.csv')\n",
        "# train_024_df = pd.read_csv(f'{Config.result_path}/train_024.csv')\n",
        "# test_024_df = pd.read_csv(f'{Config.result_path}/test_024.csv')\n",
        "train_025_df = pd.read_csv(f'{Config.result_path}/train_025.csv')\n",
        "test_025_df = pd.read_csv(f'{Config.result_path}/test_025.csv')\n",
        "train_026_df = pd.read_csv(f'{Config.result_path}/train_026.csv')\n",
        "test_026_df = pd.read_csv(f'{Config.result_path}/test_026.csv')\n",
        "train_029_df = pd.read_csv(f'{Config.result_path}/train_029.csv')\n",
        "test_029_df = pd.read_csv(f'{Config.result_path}/test_029.csv')"
      ],
      "metadata": {
        "id": "YO-Ba_l2Y6L9"
      },
      "execution_count": null,
      "outputs": []
    },
    {
      "cell_type": "markdown",
      "source": [
        "## 重回帰分析の実行"
      ],
      "metadata": {
        "id": "yRwdPyK_LfCK"
      }
    },
    {
      "cell_type": "code",
      "source": [
        "target_column = \"LOAN_AMOUNT\"\n",
        "y = train_df[target_column]"
      ],
      "metadata": {
        "id": "_dVak6dOAXdH"
      },
      "execution_count": null,
      "outputs": []
    },
    {
      "cell_type": "code",
      "source": [
        "# 合体\n",
        "# X = pd.concat([train_021_df, train_022_df, train_023_df, train_024_df, train_025_df, train_026_df, train_029_df], axis=1)\n",
        "# test_X = pd.concat([test_021_df, test_022_df, test_023_df, test_024_df, test_025_df, test_026_df, test_029_df], axis=1)\n",
        "X = pd.concat([train_021_df, train_022_df, train_025_df, train_026_df, train_029_df], axis=1)\n",
        "test_X = pd.concat([test_021_df, test_022_df, test_025_df, test_026_df, test_029_df], axis=1)"
      ],
      "metadata": {
        "id": "kaYjiGdL6j6B"
      },
      "execution_count": null,
      "outputs": []
    },
    {
      "cell_type": "code",
      "source": [
        "# test_021_df.max()\n",
        "# test_X.columns = ['a','b','c','d','e','f']\n",
        "print(X.describe())\n",
        "test_X.describe()"
      ],
      "metadata": {
        "colab": {
          "base_uri": "https://localhost:8080/",
          "height": 456
        },
        "id": "iwim5Dhzxltu",
        "outputId": "9912ae8e-f94d-4c22-d1a6-faecea029aaa"
      },
      "execution_count": null,
      "outputs": [
        {
          "output_type": "stream",
          "name": "stdout",
          "text": [
            "                  0             0             0             0             0\n",
            "count  45670.000000  45670.000000  45670.000000  45670.000000  4.567000e+04\n",
            "mean     737.728408    739.434720    735.894635    737.243838  2.175689e+03\n",
            "std      967.571806    958.396341    964.485065    954.847209  9.462118e+04\n",
            "min       56.371777  -1031.387344     26.500000     14.824884 -1.135517e+04\n",
            "25%      242.333850    239.160576    240.000000    244.983787  3.011579e+02\n",
            "50%      463.393409    471.801978    462.500000    465.885616  4.557454e+02\n",
            "75%      833.808081    824.338549    830.000000    835.585772  7.125310e+02\n",
            "max     9663.027307   9786.562385  10000.000000   9900.910878  1.252437e+07\n"
          ]
        },
        {
          "output_type": "execute_result",
          "data": {
            "text/html": [
              "\n",
              "  <div id=\"df-b06df2fd-6514-4e19-b613-db6d46f181dc\">\n",
              "    <div class=\"colab-df-container\">\n",
              "      <div>\n",
              "<style scoped>\n",
              "    .dataframe tbody tr th:only-of-type {\n",
              "        vertical-align: middle;\n",
              "    }\n",
              "\n",
              "    .dataframe tbody tr th {\n",
              "        vertical-align: top;\n",
              "    }\n",
              "\n",
              "    .dataframe thead th {\n",
              "        text-align: right;\n",
              "    }\n",
              "</style>\n",
              "<table border=\"1\" class=\"dataframe\">\n",
              "  <thead>\n",
              "    <tr style=\"text-align: right;\">\n",
              "      <th></th>\n",
              "      <th>0</th>\n",
              "      <th>0</th>\n",
              "      <th>0</th>\n",
              "      <th>0</th>\n",
              "      <th>0</th>\n",
              "    </tr>\n",
              "  </thead>\n",
              "  <tbody>\n",
              "    <tr>\n",
              "      <th>count</th>\n",
              "      <td>91822.000000</td>\n",
              "      <td>91822.000000</td>\n",
              "      <td>91822.000000</td>\n",
              "      <td>91822.000000</td>\n",
              "      <td>9.182200e+04</td>\n",
              "    </tr>\n",
              "    <tr>\n",
              "      <th>mean</th>\n",
              "      <td>748.341663</td>\n",
              "      <td>769.353383</td>\n",
              "      <td>743.125346</td>\n",
              "      <td>745.385078</td>\n",
              "      <td>5.483720e+03</td>\n",
              "    </tr>\n",
              "    <tr>\n",
              "      <th>std</th>\n",
              "      <td>887.262294</td>\n",
              "      <td>867.863949</td>\n",
              "      <td>855.755859</td>\n",
              "      <td>860.162534</td>\n",
              "      <td>2.471460e+05</td>\n",
              "    </tr>\n",
              "    <tr>\n",
              "      <th>min</th>\n",
              "      <td>61.812490</td>\n",
              "      <td>-877.003945</td>\n",
              "      <td>50.000000</td>\n",
              "      <td>47.250189</td>\n",
              "      <td>-3.225455e+04</td>\n",
              "    </tr>\n",
              "    <tr>\n",
              "      <th>25%</th>\n",
              "      <td>345.202773</td>\n",
              "      <td>369.838657</td>\n",
              "      <td>341.500000</td>\n",
              "      <td>342.649282</td>\n",
              "      <td>3.757080e+02</td>\n",
              "    </tr>\n",
              "    <tr>\n",
              "      <th>50%</th>\n",
              "      <td>483.229406</td>\n",
              "      <td>499.541362</td>\n",
              "      <td>479.000000</td>\n",
              "      <td>473.751191</td>\n",
              "      <td>4.689872e+02</td>\n",
              "    </tr>\n",
              "    <tr>\n",
              "      <th>75%</th>\n",
              "      <td>789.650426</td>\n",
              "      <td>781.965918</td>\n",
              "      <td>786.500000</td>\n",
              "      <td>793.319136</td>\n",
              "      <td>6.621725e+02</td>\n",
              "    </tr>\n",
              "    <tr>\n",
              "      <th>max</th>\n",
              "      <td>9777.653976</td>\n",
              "      <td>8843.234368</td>\n",
              "      <td>9713.000000</td>\n",
              "      <td>9484.472750</td>\n",
              "      <td>4.287593e+07</td>\n",
              "    </tr>\n",
              "  </tbody>\n",
              "</table>\n",
              "</div>\n",
              "      <button class=\"colab-df-convert\" onclick=\"convertToInteractive('df-b06df2fd-6514-4e19-b613-db6d46f181dc')\"\n",
              "              title=\"Convert this dataframe to an interactive table.\"\n",
              "              style=\"display:none;\">\n",
              "        \n",
              "  <svg xmlns=\"http://www.w3.org/2000/svg\" height=\"24px\"viewBox=\"0 0 24 24\"\n",
              "       width=\"24px\">\n",
              "    <path d=\"M0 0h24v24H0V0z\" fill=\"none\"/>\n",
              "    <path d=\"M18.56 5.44l.94 2.06.94-2.06 2.06-.94-2.06-.94-.94-2.06-.94 2.06-2.06.94zm-11 1L8.5 8.5l.94-2.06 2.06-.94-2.06-.94L8.5 2.5l-.94 2.06-2.06.94zm10 10l.94 2.06.94-2.06 2.06-.94-2.06-.94-.94-2.06-.94 2.06-2.06.94z\"/><path d=\"M17.41 7.96l-1.37-1.37c-.4-.4-.92-.59-1.43-.59-.52 0-1.04.2-1.43.59L10.3 9.45l-7.72 7.72c-.78.78-.78 2.05 0 2.83L4 21.41c.39.39.9.59 1.41.59.51 0 1.02-.2 1.41-.59l7.78-7.78 2.81-2.81c.8-.78.8-2.07 0-2.86zM5.41 20L4 18.59l7.72-7.72 1.47 1.35L5.41 20z\"/>\n",
              "  </svg>\n",
              "      </button>\n",
              "      \n",
              "  <style>\n",
              "    .colab-df-container {\n",
              "      display:flex;\n",
              "      flex-wrap:wrap;\n",
              "      gap: 12px;\n",
              "    }\n",
              "\n",
              "    .colab-df-convert {\n",
              "      background-color: #E8F0FE;\n",
              "      border: none;\n",
              "      border-radius: 50%;\n",
              "      cursor: pointer;\n",
              "      display: none;\n",
              "      fill: #1967D2;\n",
              "      height: 32px;\n",
              "      padding: 0 0 0 0;\n",
              "      width: 32px;\n",
              "    }\n",
              "\n",
              "    .colab-df-convert:hover {\n",
              "      background-color: #E2EBFA;\n",
              "      box-shadow: 0px 1px 2px rgba(60, 64, 67, 0.3), 0px 1px 3px 1px rgba(60, 64, 67, 0.15);\n",
              "      fill: #174EA6;\n",
              "    }\n",
              "\n",
              "    [theme=dark] .colab-df-convert {\n",
              "      background-color: #3B4455;\n",
              "      fill: #D2E3FC;\n",
              "    }\n",
              "\n",
              "    [theme=dark] .colab-df-convert:hover {\n",
              "      background-color: #434B5C;\n",
              "      box-shadow: 0px 1px 3px 1px rgba(0, 0, 0, 0.15);\n",
              "      filter: drop-shadow(0px 1px 2px rgba(0, 0, 0, 0.3));\n",
              "      fill: #FFFFFF;\n",
              "    }\n",
              "  </style>\n",
              "\n",
              "      <script>\n",
              "        const buttonEl =\n",
              "          document.querySelector('#df-b06df2fd-6514-4e19-b613-db6d46f181dc button.colab-df-convert');\n",
              "        buttonEl.style.display =\n",
              "          google.colab.kernel.accessAllowed ? 'block' : 'none';\n",
              "\n",
              "        async function convertToInteractive(key) {\n",
              "          const element = document.querySelector('#df-b06df2fd-6514-4e19-b613-db6d46f181dc');\n",
              "          const dataTable =\n",
              "            await google.colab.kernel.invokeFunction('convertToInteractive',\n",
              "                                                     [key], {});\n",
              "          if (!dataTable) return;\n",
              "\n",
              "          const docLinkHtml = 'Like what you see? Visit the ' +\n",
              "            '<a target=\"_blank\" href=https://colab.research.google.com/notebooks/data_table.ipynb>data table notebook</a>'\n",
              "            + ' to learn more about interactive tables.';\n",
              "          element.innerHTML = '';\n",
              "          dataTable['output_type'] = 'display_data';\n",
              "          await google.colab.output.renderOutput(dataTable, element);\n",
              "          const docLink = document.createElement('div');\n",
              "          docLink.innerHTML = docLinkHtml;\n",
              "          element.appendChild(docLink);\n",
              "        }\n",
              "      </script>\n",
              "    </div>\n",
              "  </div>\n",
              "  "
            ],
            "text/plain": [
              "                  0             0             0             0             0\n",
              "count  91822.000000  91822.000000  91822.000000  91822.000000  9.182200e+04\n",
              "mean     748.341663    769.353383    743.125346    745.385078  5.483720e+03\n",
              "std      887.262294    867.863949    855.755859    860.162534  2.471460e+05\n",
              "min       61.812490   -877.003945     50.000000     47.250189 -3.225455e+04\n",
              "25%      345.202773    369.838657    341.500000    342.649282  3.757080e+02\n",
              "50%      483.229406    499.541362    479.000000    473.751191  4.689872e+02\n",
              "75%      789.650426    781.965918    786.500000    793.319136  6.621725e+02\n",
              "max     9777.653976   8843.234368   9713.000000   9484.472750  4.287593e+07"
            ]
          },
          "metadata": {},
          "execution_count": 10
        }
      ]
    },
    {
      "cell_type": "code",
      "source": [
        "# trainデータを訓練用とテスト用に分割\n",
        "X_train, X_test, y_train, y_test = train_test_split(X, y, test_size=0.2, random_state = Config.seed)"
      ],
      "metadata": {
        "id": "PV02FXlHnsbS"
      },
      "execution_count": null,
      "outputs": []
    },
    {
      "cell_type": "code",
      "metadata": {
        "id": "1O2YxxV-YRx0",
        "colab": {
          "base_uri": "https://localhost:8080/"
        },
        "outputId": "0ddcc320-a966-431b-8edf-3912538cd4c1"
      },
      "source": [
        "# 学習/予測\n",
        "\n",
        "y_oof = np.zeros(len(y_train))\n",
        "y_test_preds = []\n",
        "y_preds = []\n",
        "kf = StratifiedKFold(n_splits=5)\n",
        "for fold, (tr_idx, vl_idx) in enumerate(kf.split(X_train, y_train)):\n",
        "    x_tr_fold = X.iloc[tr_idx]\n",
        "    y_tr_fold = y.iloc[tr_idx]\n",
        "    x_vl_fold = X.iloc[vl_idx]\n",
        "    y_vl_fold = y.iloc[vl_idx]\n",
        "\n",
        "    model = LinearRegression()\n",
        "    model.fit(x_tr_fold, y_tr_fold)\n",
        "    y_oof[vl_idx] = model.predict(x_vl_fold)\n",
        "    y_test_preds.append(model.predict(X_test))\n",
        "    y_preds.append(model.predict(test_X))\n",
        "    print(\n",
        "        f'fold {fold} score:', mean_absolute_error(y_oof[vl_idx], y_vl_fold)\n",
        "    )\n",
        "\n",
        "print('X_test score:', mean_absolute_error(np.mean(y_test_preds, axis=0), y_test))"
      ],
      "execution_count": null,
      "outputs": [
        {
          "output_type": "stream",
          "name": "stdout",
          "text": [
            "fold 0 score: 42.65925512031308\n",
            "fold 1 score: 42.45734746232933\n",
            "fold 2 score: 42.48714914185803\n",
            "fold 3 score: 42.28434831744286\n",
            "fold 4 score: 42.06010765259717\n",
            "X_test score: 103.72242774778174\n"
          ]
        },
        {
          "output_type": "stream",
          "name": "stderr",
          "text": [
            "/usr/local/lib/python3.7/dist-packages/sklearn/model_selection/_split.py:680: UserWarning: The least populated class in y has only 1 members, which is less than n_splits=5.\n",
            "  UserWarning,\n"
          ]
        }
      ]
    },
    {
      "cell_type": "code",
      "source": [
        "model.fit(X, y)\n",
        "print(mean_absolute_error(model.predict(X), y))\n",
        "# y_preds = model.predict(test_X)"
      ],
      "metadata": {
        "id": "ZK9C2bmOnKKp",
        "colab": {
          "base_uri": "https://localhost:8080/"
        },
        "outputId": "b63b73e0-4c99-4ae8-c9af-1429a03ce03d"
      },
      "execution_count": null,
      "outputs": [
        {
          "output_type": "stream",
          "name": "stdout",
          "text": [
            "104.01982382909856\n"
          ]
        }
      ]
    },
    {
      "cell_type": "markdown",
      "source": [
        "### 提出データの作成"
      ],
      "metadata": {
        "id": "7zGFnZXtvGmE"
      }
    },
    {
      "cell_type": "code",
      "source": [
        "result = np.mean(y_preds, axis=0)\n",
        "# result = y_preds\n",
        "for i in range(len(result)):\n",
        "    a, b = divmod(result[i], Config.constant)\n",
        "    if b > (Config.constant/2):\n",
        "        b = 1\n",
        "    else:\n",
        "        b = 0\n",
        "    result[i] = (a + b) * Config.constant"
      ],
      "metadata": {
        "id": "EcoIc0mguAiD"
      },
      "execution_count": null,
      "outputs": []
    },
    {
      "cell_type": "code",
      "source": [
        "result[result<=0] = Config.constant "
      ],
      "metadata": {
        "id": "GqvF4eASQB-T"
      },
      "execution_count": null,
      "outputs": []
    },
    {
      "cell_type": "code",
      "source": [
        "sample_df[\"LOAN_AMOUNT\"] = result\n",
        "print(sample_df)"
      ],
      "metadata": {
        "id": "YUlCmkODvBI0",
        "colab": {
          "base_uri": "https://localhost:8080/"
        },
        "outputId": "0244a854-7b9b-4f2a-e198-a1722af04f25"
      },
      "execution_count": null,
      "outputs": [
        {
          "output_type": "stream",
          "name": "stdout",
          "text": [
            "       LOAN_ID  LOAN_AMOUNT\n",
            "0      2041445        325.0\n",
            "1      1944435        375.0\n",
            "2      2083354        425.0\n",
            "3      1993565        500.0\n",
            "4      2064272        500.0\n",
            "...        ...          ...\n",
            "91817  1993862        325.0\n",
            "91818  2015070        250.0\n",
            "91819  1950349        100.0\n",
            "91820  1921580       1175.0\n",
            "91821  1976733        325.0\n",
            "\n",
            "[91822 rows x 2 columns]\n"
          ]
        }
      ]
    },
    {
      "cell_type": "code",
      "source": [
        "# submitファイルのファイル名に利用する作成時刻の取得\n",
        "\n",
        "now = datetime.datetime.now(datetime.timezone(datetime.timedelta(hours=1)))\n",
        "date_time = \"{0:%Y%m%d_%H%M}\".format(now)"
      ],
      "metadata": {
        "id": "njijaymzwV5E"
      },
      "execution_count": null,
      "outputs": []
    },
    {
      "cell_type": "code",
      "source": [
        "# submitファイルの出力(Google Driveに出力）\n",
        "# 形式：submit_yyyymmdd_hhmm.csv\n",
        "\n",
        "sample_df.to_csv(os.path.join(Config.output_path, f\"submit_{date_time}.csv\"), index=False)\n"
      ],
      "metadata": {
        "id": "0CGhsadewfq2"
      },
      "execution_count": null,
      "outputs": []
    },
    {
      "cell_type": "code",
      "source": [
        "sample_df.describe()"
      ],
      "metadata": {
        "id": "xZNbfm1qGxE9"
      },
      "execution_count": null,
      "outputs": []
    },
    {
      "cell_type": "code",
      "source": [
        "date_time"
      ],
      "metadata": {
        "id": "dPssoeXiRIZm",
        "colab": {
          "base_uri": "https://localhost:8080/",
          "height": 35
        },
        "outputId": "f8235a91-8616-4954-d80a-bc58e9c47ecd"
      },
      "execution_count": null,
      "outputs": [
        {
          "output_type": "execute_result",
          "data": {
            "application/vnd.google.colaboratory.intrinsic+json": {
              "type": "string"
            },
            "text/plain": [
              "'20220202_1200'"
            ]
          },
          "metadata": {},
          "execution_count": 19
        }
      ]
    },
    {
      "cell_type": "code",
      "source": [
        ""
      ],
      "metadata": {
        "id": "HNQNzacpZfl8"
      },
      "execution_count": null,
      "outputs": []
    }
  ]
}